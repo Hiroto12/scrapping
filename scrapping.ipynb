{
 "cells": [
  {
   "cell_type": "code",
   "execution_count": 6,
   "id": "2d23bb76",
   "metadata": {},
   "outputs": [
    {
     "name": "stderr",
     "output_type": "stream",
     "text": [
      "C:\\Users\\hirot\\AppData\\Local\\Temp\\ipykernel_29740\\210429727.py:14: DtypeWarning: Columns (16) have mixed types. Specify dtype option on import or set low_memory=False.\n",
      "  df = pd.read_csv(r'C:\\Users\\hirot\\Downloads\\Dados_raio - Dados_raio (2).csv')\n",
      "C:\\Users\\hirot\\AppData\\Local\\Temp\\ipykernel_29740\\210429727.py:29: FutureWarning: The frame.append method is deprecated and will be removed from pandas in a future version. Use pandas.concat instead.\n",
      "  dados_df = dados_df.append({'CNPJ': cnpj, 'nome do proprietario': nome, 'email': email, 'telefone': telefone}, ignore_index=True)\n",
      "C:\\Users\\hirot\\AppData\\Local\\Temp\\ipykernel_29740\\210429727.py:29: FutureWarning: The frame.append method is deprecated and will be removed from pandas in a future version. Use pandas.concat instead.\n",
      "  dados_df = dados_df.append({'CNPJ': cnpj, 'nome do proprietario': nome, 'email': email, 'telefone': telefone}, ignore_index=True)\n",
      "C:\\Users\\hirot\\AppData\\Local\\Temp\\ipykernel_29740\\210429727.py:29: FutureWarning: The frame.append method is deprecated and will be removed from pandas in a future version. Use pandas.concat instead.\n",
      "  dados_df = dados_df.append({'CNPJ': cnpj, 'nome do proprietario': nome, 'email': email, 'telefone': telefone}, ignore_index=True)\n"
     ]
    },
    {
     "ename": "KeyboardInterrupt",
     "evalue": "",
     "output_type": "error",
     "traceback": [
      "\u001b[1;31m---------------------------------------------------------------------------\u001b[0m",
      "\u001b[1;31mKeyboardInterrupt\u001b[0m                         Traceback (most recent call last)",
      "\u001b[1;32m~\\AppData\\Local\\Temp\\ipykernel_29740\\210429727.py\u001b[0m in \u001b[0;36m<module>\u001b[1;34m\u001b[0m\n\u001b[0;32m     22\u001b[0m \u001b[1;31m# Iterando sobre os CNPJs e consultando a API\u001b[0m\u001b[1;33m\u001b[0m\u001b[1;33m\u001b[0m\u001b[0m\n\u001b[0;32m     23\u001b[0m \u001b[1;32mfor\u001b[0m \u001b[0mcnpj\u001b[0m \u001b[1;32min\u001b[0m \u001b[0mdf\u001b[0m\u001b[1;33m[\u001b[0m\u001b[1;34m'CNPJ'\u001b[0m\u001b[1;33m]\u001b[0m\u001b[1;33m:\u001b[0m\u001b[1;33m\u001b[0m\u001b[1;33m\u001b[0m\u001b[0m\n\u001b[1;32m---> 24\u001b[1;33m     \u001b[0mdados\u001b[0m \u001b[1;33m=\u001b[0m \u001b[0mconsultar_cnpj\u001b[0m\u001b[1;33m(\u001b[0m\u001b[0mcnpj\u001b[0m\u001b[1;33m)\u001b[0m\u001b[1;33m\u001b[0m\u001b[1;33m\u001b[0m\u001b[0m\n\u001b[0m\u001b[0;32m     25\u001b[0m     \u001b[1;32mif\u001b[0m \u001b[0mdados\u001b[0m \u001b[1;32mis\u001b[0m \u001b[1;32mnot\u001b[0m \u001b[1;32mNone\u001b[0m\u001b[1;33m:\u001b[0m\u001b[1;33m\u001b[0m\u001b[1;33m\u001b[0m\u001b[0m\n\u001b[0;32m     26\u001b[0m         \u001b[0mnome\u001b[0m \u001b[1;33m=\u001b[0m \u001b[0mdados\u001b[0m\u001b[1;33m.\u001b[0m\u001b[0mget\u001b[0m\u001b[1;33m(\u001b[0m\u001b[1;34m'nome'\u001b[0m\u001b[1;33m)\u001b[0m  \u001b[1;31m# Usamos o método get para evitar um KeyError se a chave não existir\u001b[0m\u001b[1;33m\u001b[0m\u001b[1;33m\u001b[0m\u001b[0m\n",
      "\u001b[1;32m~\\AppData\\Local\\Temp\\ipykernel_29740\\210429727.py\u001b[0m in \u001b[0;36mconsultar_cnpj\u001b[1;34m(cnpj)\u001b[0m\n\u001b[0;32m      5\u001b[0m \u001b[1;32mdef\u001b[0m \u001b[0mconsultar_cnpj\u001b[0m\u001b[1;33m(\u001b[0m\u001b[0mcnpj\u001b[0m\u001b[1;33m)\u001b[0m\u001b[1;33m:\u001b[0m\u001b[1;33m\u001b[0m\u001b[1;33m\u001b[0m\u001b[0m\n\u001b[0;32m      6\u001b[0m     \u001b[0murl\u001b[0m \u001b[1;33m=\u001b[0m \u001b[1;34m\"https://www.receitaws.com.br/v1/cnpj/{}\"\u001b[0m\u001b[1;33m.\u001b[0m\u001b[0mformat\u001b[0m\u001b[1;33m(\u001b[0m\u001b[0mcnpj\u001b[0m\u001b[1;33m)\u001b[0m\u001b[1;33m\u001b[0m\u001b[1;33m\u001b[0m\u001b[0m\n\u001b[1;32m----> 7\u001b[1;33m     \u001b[0mresponse\u001b[0m \u001b[1;33m=\u001b[0m \u001b[0mrequests\u001b[0m\u001b[1;33m.\u001b[0m\u001b[0mget\u001b[0m\u001b[1;33m(\u001b[0m\u001b[0murl\u001b[0m\u001b[1;33m)\u001b[0m\u001b[1;33m\u001b[0m\u001b[1;33m\u001b[0m\u001b[0m\n\u001b[0m\u001b[0;32m      8\u001b[0m     \u001b[1;32mif\u001b[0m \u001b[0mresponse\u001b[0m\u001b[1;33m.\u001b[0m\u001b[0mstatus_code\u001b[0m \u001b[1;33m==\u001b[0m \u001b[1;36m200\u001b[0m\u001b[1;33m:\u001b[0m  \u001b[1;31m# A API retornou um resultado\u001b[0m\u001b[1;33m\u001b[0m\u001b[1;33m\u001b[0m\u001b[0m\n\u001b[0;32m      9\u001b[0m         \u001b[0mdata\u001b[0m \u001b[1;33m=\u001b[0m \u001b[0mresponse\u001b[0m\u001b[1;33m.\u001b[0m\u001b[0mjson\u001b[0m\u001b[1;33m(\u001b[0m\u001b[1;33m)\u001b[0m\u001b[1;33m\u001b[0m\u001b[1;33m\u001b[0m\u001b[0m\n",
      "\u001b[1;32m~\\anaconda3\\lib\\site-packages\\requests\\api.py\u001b[0m in \u001b[0;36mget\u001b[1;34m(url, params, **kwargs)\u001b[0m\n\u001b[0;32m     71\u001b[0m     \"\"\"\n\u001b[0;32m     72\u001b[0m \u001b[1;33m\u001b[0m\u001b[0m\n\u001b[1;32m---> 73\u001b[1;33m     \u001b[1;32mreturn\u001b[0m \u001b[0mrequest\u001b[0m\u001b[1;33m(\u001b[0m\u001b[1;34m\"get\"\u001b[0m\u001b[1;33m,\u001b[0m \u001b[0murl\u001b[0m\u001b[1;33m,\u001b[0m \u001b[0mparams\u001b[0m\u001b[1;33m=\u001b[0m\u001b[0mparams\u001b[0m\u001b[1;33m,\u001b[0m \u001b[1;33m**\u001b[0m\u001b[0mkwargs\u001b[0m\u001b[1;33m)\u001b[0m\u001b[1;33m\u001b[0m\u001b[1;33m\u001b[0m\u001b[0m\n\u001b[0m\u001b[0;32m     74\u001b[0m \u001b[1;33m\u001b[0m\u001b[0m\n\u001b[0;32m     75\u001b[0m \u001b[1;33m\u001b[0m\u001b[0m\n",
      "\u001b[1;32m~\\anaconda3\\lib\\site-packages\\requests\\api.py\u001b[0m in \u001b[0;36mrequest\u001b[1;34m(method, url, **kwargs)\u001b[0m\n\u001b[0;32m     57\u001b[0m     \u001b[1;31m# cases, and look like a memory leak in others.\u001b[0m\u001b[1;33m\u001b[0m\u001b[1;33m\u001b[0m\u001b[0m\n\u001b[0;32m     58\u001b[0m     \u001b[1;32mwith\u001b[0m \u001b[0msessions\u001b[0m\u001b[1;33m.\u001b[0m\u001b[0mSession\u001b[0m\u001b[1;33m(\u001b[0m\u001b[1;33m)\u001b[0m \u001b[1;32mas\u001b[0m \u001b[0msession\u001b[0m\u001b[1;33m:\u001b[0m\u001b[1;33m\u001b[0m\u001b[1;33m\u001b[0m\u001b[0m\n\u001b[1;32m---> 59\u001b[1;33m         \u001b[1;32mreturn\u001b[0m \u001b[0msession\u001b[0m\u001b[1;33m.\u001b[0m\u001b[0mrequest\u001b[0m\u001b[1;33m(\u001b[0m\u001b[0mmethod\u001b[0m\u001b[1;33m=\u001b[0m\u001b[0mmethod\u001b[0m\u001b[1;33m,\u001b[0m \u001b[0murl\u001b[0m\u001b[1;33m=\u001b[0m\u001b[0murl\u001b[0m\u001b[1;33m,\u001b[0m \u001b[1;33m**\u001b[0m\u001b[0mkwargs\u001b[0m\u001b[1;33m)\u001b[0m\u001b[1;33m\u001b[0m\u001b[1;33m\u001b[0m\u001b[0m\n\u001b[0m\u001b[0;32m     60\u001b[0m \u001b[1;33m\u001b[0m\u001b[0m\n\u001b[0;32m     61\u001b[0m \u001b[1;33m\u001b[0m\u001b[0m\n",
      "\u001b[1;32m~\\anaconda3\\lib\\site-packages\\requests\\sessions.py\u001b[0m in \u001b[0;36mrequest\u001b[1;34m(self, method, url, params, data, headers, cookies, files, auth, timeout, allow_redirects, proxies, hooks, stream, verify, cert, json)\u001b[0m\n\u001b[0;32m    585\u001b[0m         }\n\u001b[0;32m    586\u001b[0m         \u001b[0msend_kwargs\u001b[0m\u001b[1;33m.\u001b[0m\u001b[0mupdate\u001b[0m\u001b[1;33m(\u001b[0m\u001b[0msettings\u001b[0m\u001b[1;33m)\u001b[0m\u001b[1;33m\u001b[0m\u001b[1;33m\u001b[0m\u001b[0m\n\u001b[1;32m--> 587\u001b[1;33m         \u001b[0mresp\u001b[0m \u001b[1;33m=\u001b[0m \u001b[0mself\u001b[0m\u001b[1;33m.\u001b[0m\u001b[0msend\u001b[0m\u001b[1;33m(\u001b[0m\u001b[0mprep\u001b[0m\u001b[1;33m,\u001b[0m \u001b[1;33m**\u001b[0m\u001b[0msend_kwargs\u001b[0m\u001b[1;33m)\u001b[0m\u001b[1;33m\u001b[0m\u001b[1;33m\u001b[0m\u001b[0m\n\u001b[0m\u001b[0;32m    588\u001b[0m \u001b[1;33m\u001b[0m\u001b[0m\n\u001b[0;32m    589\u001b[0m         \u001b[1;32mreturn\u001b[0m \u001b[0mresp\u001b[0m\u001b[1;33m\u001b[0m\u001b[1;33m\u001b[0m\u001b[0m\n",
      "\u001b[1;32m~\\anaconda3\\lib\\site-packages\\requests\\sessions.py\u001b[0m in \u001b[0;36msend\u001b[1;34m(self, request, **kwargs)\u001b[0m\n\u001b[0;32m    699\u001b[0m \u001b[1;33m\u001b[0m\u001b[0m\n\u001b[0;32m    700\u001b[0m         \u001b[1;31m# Send the request\u001b[0m\u001b[1;33m\u001b[0m\u001b[1;33m\u001b[0m\u001b[0m\n\u001b[1;32m--> 701\u001b[1;33m         \u001b[0mr\u001b[0m \u001b[1;33m=\u001b[0m \u001b[0madapter\u001b[0m\u001b[1;33m.\u001b[0m\u001b[0msend\u001b[0m\u001b[1;33m(\u001b[0m\u001b[0mrequest\u001b[0m\u001b[1;33m,\u001b[0m \u001b[1;33m**\u001b[0m\u001b[0mkwargs\u001b[0m\u001b[1;33m)\u001b[0m\u001b[1;33m\u001b[0m\u001b[1;33m\u001b[0m\u001b[0m\n\u001b[0m\u001b[0;32m    702\u001b[0m \u001b[1;33m\u001b[0m\u001b[0m\n\u001b[0;32m    703\u001b[0m         \u001b[1;31m# Total elapsed time of the request (approximately)\u001b[0m\u001b[1;33m\u001b[0m\u001b[1;33m\u001b[0m\u001b[0m\n",
      "\u001b[1;32m~\\anaconda3\\lib\\site-packages\\requests\\adapters.py\u001b[0m in \u001b[0;36msend\u001b[1;34m(self, request, stream, timeout, verify, cert, proxies)\u001b[0m\n\u001b[0;32m    487\u001b[0m         \u001b[1;32mtry\u001b[0m\u001b[1;33m:\u001b[0m\u001b[1;33m\u001b[0m\u001b[1;33m\u001b[0m\u001b[0m\n\u001b[0;32m    488\u001b[0m             \u001b[1;32mif\u001b[0m \u001b[1;32mnot\u001b[0m \u001b[0mchunked\u001b[0m\u001b[1;33m:\u001b[0m\u001b[1;33m\u001b[0m\u001b[1;33m\u001b[0m\u001b[0m\n\u001b[1;32m--> 489\u001b[1;33m                 resp = conn.urlopen(\n\u001b[0m\u001b[0;32m    490\u001b[0m                     \u001b[0mmethod\u001b[0m\u001b[1;33m=\u001b[0m\u001b[0mrequest\u001b[0m\u001b[1;33m.\u001b[0m\u001b[0mmethod\u001b[0m\u001b[1;33m,\u001b[0m\u001b[1;33m\u001b[0m\u001b[1;33m\u001b[0m\u001b[0m\n\u001b[0;32m    491\u001b[0m                     \u001b[0murl\u001b[0m\u001b[1;33m=\u001b[0m\u001b[0murl\u001b[0m\u001b[1;33m,\u001b[0m\u001b[1;33m\u001b[0m\u001b[1;33m\u001b[0m\u001b[0m\n",
      "\u001b[1;32m~\\anaconda3\\lib\\site-packages\\urllib3\\connectionpool.py\u001b[0m in \u001b[0;36murlopen\u001b[1;34m(self, method, url, body, headers, retries, redirect, assert_same_host, timeout, pool_timeout, release_conn, chunked, body_pos, **response_kw)\u001b[0m\n\u001b[0;32m    701\u001b[0m \u001b[1;33m\u001b[0m\u001b[0m\n\u001b[0;32m    702\u001b[0m             \u001b[1;31m# Make the request on the httplib connection object.\u001b[0m\u001b[1;33m\u001b[0m\u001b[1;33m\u001b[0m\u001b[0m\n\u001b[1;32m--> 703\u001b[1;33m             httplib_response = self._make_request(\n\u001b[0m\u001b[0;32m    704\u001b[0m                 \u001b[0mconn\u001b[0m\u001b[1;33m,\u001b[0m\u001b[1;33m\u001b[0m\u001b[1;33m\u001b[0m\u001b[0m\n\u001b[0;32m    705\u001b[0m                 \u001b[0mmethod\u001b[0m\u001b[1;33m,\u001b[0m\u001b[1;33m\u001b[0m\u001b[1;33m\u001b[0m\u001b[0m\n",
      "\u001b[1;32m~\\anaconda3\\lib\\site-packages\\urllib3\\connectionpool.py\u001b[0m in \u001b[0;36m_make_request\u001b[1;34m(self, conn, method, url, timeout, chunked, **httplib_request_kw)\u001b[0m\n\u001b[0;32m    447\u001b[0m                     \u001b[1;31m# Python 3 (including for exceptions like SystemExit).\u001b[0m\u001b[1;33m\u001b[0m\u001b[1;33m\u001b[0m\u001b[0m\n\u001b[0;32m    448\u001b[0m                     \u001b[1;31m# Otherwise it looks like a bug in the code.\u001b[0m\u001b[1;33m\u001b[0m\u001b[1;33m\u001b[0m\u001b[0m\n\u001b[1;32m--> 449\u001b[1;33m                     \u001b[0msix\u001b[0m\u001b[1;33m.\u001b[0m\u001b[0mraise_from\u001b[0m\u001b[1;33m(\u001b[0m\u001b[0me\u001b[0m\u001b[1;33m,\u001b[0m \u001b[1;32mNone\u001b[0m\u001b[1;33m)\u001b[0m\u001b[1;33m\u001b[0m\u001b[1;33m\u001b[0m\u001b[0m\n\u001b[0m\u001b[0;32m    450\u001b[0m         \u001b[1;32mexcept\u001b[0m \u001b[1;33m(\u001b[0m\u001b[0mSocketTimeout\u001b[0m\u001b[1;33m,\u001b[0m \u001b[0mBaseSSLError\u001b[0m\u001b[1;33m,\u001b[0m \u001b[0mSocketError\u001b[0m\u001b[1;33m)\u001b[0m \u001b[1;32mas\u001b[0m \u001b[0me\u001b[0m\u001b[1;33m:\u001b[0m\u001b[1;33m\u001b[0m\u001b[1;33m\u001b[0m\u001b[0m\n\u001b[0;32m    451\u001b[0m             \u001b[0mself\u001b[0m\u001b[1;33m.\u001b[0m\u001b[0m_raise_timeout\u001b[0m\u001b[1;33m(\u001b[0m\u001b[0merr\u001b[0m\u001b[1;33m=\u001b[0m\u001b[0me\u001b[0m\u001b[1;33m,\u001b[0m \u001b[0murl\u001b[0m\u001b[1;33m=\u001b[0m\u001b[0murl\u001b[0m\u001b[1;33m,\u001b[0m \u001b[0mtimeout_value\u001b[0m\u001b[1;33m=\u001b[0m\u001b[0mread_timeout\u001b[0m\u001b[1;33m)\u001b[0m\u001b[1;33m\u001b[0m\u001b[1;33m\u001b[0m\u001b[0m\n",
      "\u001b[1;32m~\\anaconda3\\lib\\site-packages\\urllib3\\packages\\six.py\u001b[0m in \u001b[0;36mraise_from\u001b[1;34m(value, from_value)\u001b[0m\n",
      "\u001b[1;32m~\\anaconda3\\lib\\site-packages\\urllib3\\connectionpool.py\u001b[0m in \u001b[0;36m_make_request\u001b[1;34m(self, conn, method, url, timeout, chunked, **httplib_request_kw)\u001b[0m\n\u001b[0;32m    442\u001b[0m                 \u001b[1;31m# Python 3\u001b[0m\u001b[1;33m\u001b[0m\u001b[1;33m\u001b[0m\u001b[0m\n\u001b[0;32m    443\u001b[0m                 \u001b[1;32mtry\u001b[0m\u001b[1;33m:\u001b[0m\u001b[1;33m\u001b[0m\u001b[1;33m\u001b[0m\u001b[0m\n\u001b[1;32m--> 444\u001b[1;33m                     \u001b[0mhttplib_response\u001b[0m \u001b[1;33m=\u001b[0m \u001b[0mconn\u001b[0m\u001b[1;33m.\u001b[0m\u001b[0mgetresponse\u001b[0m\u001b[1;33m(\u001b[0m\u001b[1;33m)\u001b[0m\u001b[1;33m\u001b[0m\u001b[1;33m\u001b[0m\u001b[0m\n\u001b[0m\u001b[0;32m    445\u001b[0m                 \u001b[1;32mexcept\u001b[0m \u001b[0mBaseException\u001b[0m \u001b[1;32mas\u001b[0m \u001b[0me\u001b[0m\u001b[1;33m:\u001b[0m\u001b[1;33m\u001b[0m\u001b[1;33m\u001b[0m\u001b[0m\n\u001b[0;32m    446\u001b[0m                     \u001b[1;31m# Remove the TypeError from the exception chain in\u001b[0m\u001b[1;33m\u001b[0m\u001b[1;33m\u001b[0m\u001b[0m\n",
      "\u001b[1;32m~\\anaconda3\\lib\\http\\client.py\u001b[0m in \u001b[0;36mgetresponse\u001b[1;34m(self)\u001b[0m\n\u001b[0;32m   1375\u001b[0m         \u001b[1;32mtry\u001b[0m\u001b[1;33m:\u001b[0m\u001b[1;33m\u001b[0m\u001b[1;33m\u001b[0m\u001b[0m\n\u001b[0;32m   1376\u001b[0m             \u001b[1;32mtry\u001b[0m\u001b[1;33m:\u001b[0m\u001b[1;33m\u001b[0m\u001b[1;33m\u001b[0m\u001b[0m\n\u001b[1;32m-> 1377\u001b[1;33m                 \u001b[0mresponse\u001b[0m\u001b[1;33m.\u001b[0m\u001b[0mbegin\u001b[0m\u001b[1;33m(\u001b[0m\u001b[1;33m)\u001b[0m\u001b[1;33m\u001b[0m\u001b[1;33m\u001b[0m\u001b[0m\n\u001b[0m\u001b[0;32m   1378\u001b[0m             \u001b[1;32mexcept\u001b[0m \u001b[0mConnectionError\u001b[0m\u001b[1;33m:\u001b[0m\u001b[1;33m\u001b[0m\u001b[1;33m\u001b[0m\u001b[0m\n\u001b[0;32m   1379\u001b[0m                 \u001b[0mself\u001b[0m\u001b[1;33m.\u001b[0m\u001b[0mclose\u001b[0m\u001b[1;33m(\u001b[0m\u001b[1;33m)\u001b[0m\u001b[1;33m\u001b[0m\u001b[1;33m\u001b[0m\u001b[0m\n",
      "\u001b[1;32m~\\anaconda3\\lib\\http\\client.py\u001b[0m in \u001b[0;36mbegin\u001b[1;34m(self)\u001b[0m\n\u001b[0;32m    318\u001b[0m         \u001b[1;31m# read until we get a non-100 response\u001b[0m\u001b[1;33m\u001b[0m\u001b[1;33m\u001b[0m\u001b[0m\n\u001b[0;32m    319\u001b[0m         \u001b[1;32mwhile\u001b[0m \u001b[1;32mTrue\u001b[0m\u001b[1;33m:\u001b[0m\u001b[1;33m\u001b[0m\u001b[1;33m\u001b[0m\u001b[0m\n\u001b[1;32m--> 320\u001b[1;33m             \u001b[0mversion\u001b[0m\u001b[1;33m,\u001b[0m \u001b[0mstatus\u001b[0m\u001b[1;33m,\u001b[0m \u001b[0mreason\u001b[0m \u001b[1;33m=\u001b[0m \u001b[0mself\u001b[0m\u001b[1;33m.\u001b[0m\u001b[0m_read_status\u001b[0m\u001b[1;33m(\u001b[0m\u001b[1;33m)\u001b[0m\u001b[1;33m\u001b[0m\u001b[1;33m\u001b[0m\u001b[0m\n\u001b[0m\u001b[0;32m    321\u001b[0m             \u001b[1;32mif\u001b[0m \u001b[0mstatus\u001b[0m \u001b[1;33m!=\u001b[0m \u001b[0mCONTINUE\u001b[0m\u001b[1;33m:\u001b[0m\u001b[1;33m\u001b[0m\u001b[1;33m\u001b[0m\u001b[0m\n\u001b[0;32m    322\u001b[0m                 \u001b[1;32mbreak\u001b[0m\u001b[1;33m\u001b[0m\u001b[1;33m\u001b[0m\u001b[0m\n",
      "\u001b[1;32m~\\anaconda3\\lib\\http\\client.py\u001b[0m in \u001b[0;36m_read_status\u001b[1;34m(self)\u001b[0m\n\u001b[0;32m    279\u001b[0m \u001b[1;33m\u001b[0m\u001b[0m\n\u001b[0;32m    280\u001b[0m     \u001b[1;32mdef\u001b[0m \u001b[0m_read_status\u001b[0m\u001b[1;33m(\u001b[0m\u001b[0mself\u001b[0m\u001b[1;33m)\u001b[0m\u001b[1;33m:\u001b[0m\u001b[1;33m\u001b[0m\u001b[1;33m\u001b[0m\u001b[0m\n\u001b[1;32m--> 281\u001b[1;33m         \u001b[0mline\u001b[0m \u001b[1;33m=\u001b[0m \u001b[0mstr\u001b[0m\u001b[1;33m(\u001b[0m\u001b[0mself\u001b[0m\u001b[1;33m.\u001b[0m\u001b[0mfp\u001b[0m\u001b[1;33m.\u001b[0m\u001b[0mreadline\u001b[0m\u001b[1;33m(\u001b[0m\u001b[0m_MAXLINE\u001b[0m \u001b[1;33m+\u001b[0m \u001b[1;36m1\u001b[0m\u001b[1;33m)\u001b[0m\u001b[1;33m,\u001b[0m \u001b[1;34m\"iso-8859-1\"\u001b[0m\u001b[1;33m)\u001b[0m\u001b[1;33m\u001b[0m\u001b[1;33m\u001b[0m\u001b[0m\n\u001b[0m\u001b[0;32m    282\u001b[0m         \u001b[1;32mif\u001b[0m \u001b[0mlen\u001b[0m\u001b[1;33m(\u001b[0m\u001b[0mline\u001b[0m\u001b[1;33m)\u001b[0m \u001b[1;33m>\u001b[0m \u001b[0m_MAXLINE\u001b[0m\u001b[1;33m:\u001b[0m\u001b[1;33m\u001b[0m\u001b[1;33m\u001b[0m\u001b[0m\n\u001b[0;32m    283\u001b[0m             \u001b[1;32mraise\u001b[0m \u001b[0mLineTooLong\u001b[0m\u001b[1;33m(\u001b[0m\u001b[1;34m\"status line\"\u001b[0m\u001b[1;33m)\u001b[0m\u001b[1;33m\u001b[0m\u001b[1;33m\u001b[0m\u001b[0m\n",
      "\u001b[1;32m~\\anaconda3\\lib\\socket.py\u001b[0m in \u001b[0;36mreadinto\u001b[1;34m(self, b)\u001b[0m\n\u001b[0;32m    702\u001b[0m         \u001b[1;32mwhile\u001b[0m \u001b[1;32mTrue\u001b[0m\u001b[1;33m:\u001b[0m\u001b[1;33m\u001b[0m\u001b[1;33m\u001b[0m\u001b[0m\n\u001b[0;32m    703\u001b[0m             \u001b[1;32mtry\u001b[0m\u001b[1;33m:\u001b[0m\u001b[1;33m\u001b[0m\u001b[1;33m\u001b[0m\u001b[0m\n\u001b[1;32m--> 704\u001b[1;33m                 \u001b[1;32mreturn\u001b[0m \u001b[0mself\u001b[0m\u001b[1;33m.\u001b[0m\u001b[0m_sock\u001b[0m\u001b[1;33m.\u001b[0m\u001b[0mrecv_into\u001b[0m\u001b[1;33m(\u001b[0m\u001b[0mb\u001b[0m\u001b[1;33m)\u001b[0m\u001b[1;33m\u001b[0m\u001b[1;33m\u001b[0m\u001b[0m\n\u001b[0m\u001b[0;32m    705\u001b[0m             \u001b[1;32mexcept\u001b[0m \u001b[0mtimeout\u001b[0m\u001b[1;33m:\u001b[0m\u001b[1;33m\u001b[0m\u001b[1;33m\u001b[0m\u001b[0m\n\u001b[0;32m    706\u001b[0m                 \u001b[0mself\u001b[0m\u001b[1;33m.\u001b[0m\u001b[0m_timeout_occurred\u001b[0m \u001b[1;33m=\u001b[0m \u001b[1;32mTrue\u001b[0m\u001b[1;33m\u001b[0m\u001b[1;33m\u001b[0m\u001b[0m\n",
      "\u001b[1;32m~\\anaconda3\\lib\\ssl.py\u001b[0m in \u001b[0;36mrecv_into\u001b[1;34m(self, buffer, nbytes, flags)\u001b[0m\n\u001b[0;32m   1240\u001b[0m                   \u001b[1;34m\"non-zero flags not allowed in calls to recv_into() on %s\"\u001b[0m \u001b[1;33m%\u001b[0m\u001b[1;33m\u001b[0m\u001b[1;33m\u001b[0m\u001b[0m\n\u001b[0;32m   1241\u001b[0m                   self.__class__)\n\u001b[1;32m-> 1242\u001b[1;33m             \u001b[1;32mreturn\u001b[0m \u001b[0mself\u001b[0m\u001b[1;33m.\u001b[0m\u001b[0mread\u001b[0m\u001b[1;33m(\u001b[0m\u001b[0mnbytes\u001b[0m\u001b[1;33m,\u001b[0m \u001b[0mbuffer\u001b[0m\u001b[1;33m)\u001b[0m\u001b[1;33m\u001b[0m\u001b[1;33m\u001b[0m\u001b[0m\n\u001b[0m\u001b[0;32m   1243\u001b[0m         \u001b[1;32melse\u001b[0m\u001b[1;33m:\u001b[0m\u001b[1;33m\u001b[0m\u001b[1;33m\u001b[0m\u001b[0m\n\u001b[0;32m   1244\u001b[0m             \u001b[1;32mreturn\u001b[0m \u001b[0msuper\u001b[0m\u001b[1;33m(\u001b[0m\u001b[1;33m)\u001b[0m\u001b[1;33m.\u001b[0m\u001b[0mrecv_into\u001b[0m\u001b[1;33m(\u001b[0m\u001b[0mbuffer\u001b[0m\u001b[1;33m,\u001b[0m \u001b[0mnbytes\u001b[0m\u001b[1;33m,\u001b[0m \u001b[0mflags\u001b[0m\u001b[1;33m)\u001b[0m\u001b[1;33m\u001b[0m\u001b[1;33m\u001b[0m\u001b[0m\n",
      "\u001b[1;32m~\\anaconda3\\lib\\ssl.py\u001b[0m in \u001b[0;36mread\u001b[1;34m(self, len, buffer)\u001b[0m\n\u001b[0;32m   1098\u001b[0m         \u001b[1;32mtry\u001b[0m\u001b[1;33m:\u001b[0m\u001b[1;33m\u001b[0m\u001b[1;33m\u001b[0m\u001b[0m\n\u001b[0;32m   1099\u001b[0m             \u001b[1;32mif\u001b[0m \u001b[0mbuffer\u001b[0m \u001b[1;32mis\u001b[0m \u001b[1;32mnot\u001b[0m \u001b[1;32mNone\u001b[0m\u001b[1;33m:\u001b[0m\u001b[1;33m\u001b[0m\u001b[1;33m\u001b[0m\u001b[0m\n\u001b[1;32m-> 1100\u001b[1;33m                 \u001b[1;32mreturn\u001b[0m \u001b[0mself\u001b[0m\u001b[1;33m.\u001b[0m\u001b[0m_sslobj\u001b[0m\u001b[1;33m.\u001b[0m\u001b[0mread\u001b[0m\u001b[1;33m(\u001b[0m\u001b[0mlen\u001b[0m\u001b[1;33m,\u001b[0m \u001b[0mbuffer\u001b[0m\u001b[1;33m)\u001b[0m\u001b[1;33m\u001b[0m\u001b[1;33m\u001b[0m\u001b[0m\n\u001b[0m\u001b[0;32m   1101\u001b[0m             \u001b[1;32melse\u001b[0m\u001b[1;33m:\u001b[0m\u001b[1;33m\u001b[0m\u001b[1;33m\u001b[0m\u001b[0m\n\u001b[0;32m   1102\u001b[0m                 \u001b[1;32mreturn\u001b[0m \u001b[0mself\u001b[0m\u001b[1;33m.\u001b[0m\u001b[0m_sslobj\u001b[0m\u001b[1;33m.\u001b[0m\u001b[0mread\u001b[0m\u001b[1;33m(\u001b[0m\u001b[0mlen\u001b[0m\u001b[1;33m)\u001b[0m\u001b[1;33m\u001b[0m\u001b[1;33m\u001b[0m\u001b[0m\n",
      "\u001b[1;31mKeyboardInterrupt\u001b[0m: "
     ]
    }
   ],
   "source": [
    "import requests\n",
    "import json\n",
    "import pandas as pd\n",
    "\n",
    "def consultar_cnpj(cnpj):\n",
    "    url = \"https://www.receitaws.com.br/v1/cnpj/{}\".format(cnpj)\n",
    "    response = requests.get(url)\n",
    "    if response.status_code == 200:  # A API retornou um resultado\n",
    "        data = response.json()\n",
    "        return data\n",
    "    else:\n",
    "        return None\n",
    "\n",
    "df = pd.read_csv(r'C:\\Users\\hirot\\Downloads\\Dados_raio - Dados_raio (2).csv')\n",
    "\n",
    "# Corrigindo o formato do CNPJ\n",
    "df['CNPJ'] = df['CNPJ'].str.replace(r'\\D', '', regex=True)\n",
    "\n",
    "# Inicializando um novo DataFrame\n",
    "dados_df = pd.DataFrame(columns=['CNPJ', 'nome do proprietario', 'email', 'telefone'])\n",
    "\n",
    "# Iterando sobre os CNPJs e consultando a API\n",
    "for cnpj in df['CNPJ']:\n",
    "    dados = consultar_cnpj(cnpj)\n",
    "    if dados is not None:\n",
    "        nome = dados.get('nome')  # Usamos o método get para evitar um KeyError se a chave não existir\n",
    "        email = dados.get('email')\n",
    "        telefone = dados.get('telefone')\n",
    "        dados_df = dados_df.append({'CNPJ': cnpj, 'nome do proprietario': nome, 'email': email, 'telefone': telefone}, ignore_index=True)\n",
    "        \n",
    "print(dados_df)\n"
   ]
  },
  {
   "cell_type": "code",
   "execution_count": 8,
   "id": "7451b09b",
   "metadata": {},
   "outputs": [
    {
     "data": {
      "text/html": [
       "<div>\n",
       "<style scoped>\n",
       "    .dataframe tbody tr th:only-of-type {\n",
       "        vertical-align: middle;\n",
       "    }\n",
       "\n",
       "    .dataframe tbody tr th {\n",
       "        vertical-align: top;\n",
       "    }\n",
       "\n",
       "    .dataframe thead th {\n",
       "        text-align: right;\n",
       "    }\n",
       "</style>\n",
       "<table border=\"1\" class=\"dataframe\">\n",
       "  <thead>\n",
       "    <tr style=\"text-align: right;\">\n",
       "      <th></th>\n",
       "      <th>CNPJ</th>\n",
       "      <th>nome do proprietario</th>\n",
       "      <th>email</th>\n",
       "      <th>telefone</th>\n",
       "    </tr>\n",
       "  </thead>\n",
       "  <tbody>\n",
       "    <tr>\n",
       "      <th>0</th>\n",
       "      <td>00002953000199</td>\n",
       "      <td>POSTO JARDIM AMERICA DE BAURU LTDA</td>\n",
       "      <td></td>\n",
       "      <td></td>\n",
       "    </tr>\n",
       "    <tr>\n",
       "      <th>1</th>\n",
       "      <td>00002953000270</td>\n",
       "      <td>POSTO JARDIM AMERICA DE BAURU LTDA</td>\n",
       "      <td></td>\n",
       "      <td></td>\n",
       "    </tr>\n",
       "    <tr>\n",
       "      <th>2</th>\n",
       "      <td>00003188000121</td>\n",
       "      <td>COMPETRO COMERCIO E DISTRIBUICAO DE DERIVADOS ...</td>\n",
       "      <td></td>\n",
       "      <td></td>\n",
       "    </tr>\n",
       "  </tbody>\n",
       "</table>\n",
       "</div>"
      ],
      "text/plain": [
       "             CNPJ                               nome do proprietario email  \\\n",
       "0  00002953000199                 POSTO JARDIM AMERICA DE BAURU LTDA         \n",
       "1  00002953000270                 POSTO JARDIM AMERICA DE BAURU LTDA         \n",
       "2  00003188000121  COMPETRO COMERCIO E DISTRIBUICAO DE DERIVADOS ...         \n",
       "\n",
       "  telefone  \n",
       "0           \n",
       "1           \n",
       "2           "
      ]
     },
     "execution_count": 8,
     "metadata": {},
     "output_type": "execute_result"
    }
   ],
   "source": []
  },
  {
   "cell_type": "code",
   "execution_count": 11,
   "id": "13fcb0e3",
   "metadata": {},
   "outputs": [
    {
     "name": "stdout",
     "output_type": "stream",
     "text": [
      "{'abertura': '10/05/1994', 'situacao': 'ATIVA', 'tipo': 'MATRIZ', 'nome': 'POSTO JARDIM AMERICA DE BAURU LTDA', 'porte': 'DEMAIS', 'natureza_juridica': '206-2 - Sociedade Empresária Limitada', 'atividade_principal': [{'code': '47.31-8-00', 'text': 'Comércio varejista de combustíveis para veículos automotores'}], 'atividades_secundarias': [{'code': '49.30-2-03', 'text': 'Transporte rodoviário de produtos perigosos'}, {'code': '47.29-6-99', 'text': 'Comércio varejista de produtos alimentícios em geral ou especializado em produtos alimentícios não especificados anteriormente'}, {'code': '45.20-0-05', 'text': 'Serviços de lavagem, lubrificação e polimento de veículos automotores'}, {'code': '47.32-6-00', 'text': 'Comércio varejista de lubrificantes'}], 'qsa': [{'nome': 'EDIVALDO ABILIO TUSCHI', 'qual': '49-Sócio-Administrador'}, {'nome': 'IZILDINHA APARECIDA PAVANI TUSCHI', 'qual': '49-Sócio-Administrador'}], 'logradouro': 'AVENIDA NOSSA SENHORA DE FATIMA', 'numero': '6 105', 'municipio': 'BAURU', 'bairro': 'VILA AVIACAO', 'uf': 'SP', 'cep': '17.053-460', 'data_situacao': '18/10/2003', 'cnpj': '00.002.953/0001-99', 'ultima_atualizacao': '2023-05-13T23:59:59.000Z', 'status': 'OK', 'fantasia': '', 'complemento': '', 'email': '', 'telefone': '', 'efr': '', 'motivo_situacao': '', 'situacao_especial': '', 'data_situacao_especial': '', 'capital_social': '350000.00', 'extra': {}, 'billing': {'free': True, 'database': True}}\n"
     ]
    }
   ],
   "source": [
    "import requests\n",
    "import json\n",
    "\n",
    "def consultar_cnpj(cnpj):\n",
    "    url = \"https://www.receitaws.com.br/v1/cnpj/{}\".format(cnpj)\n",
    "    response = requests.get(url)\n",
    "    data = response.json()\n",
    "    return data\n",
    "\n",
    "cnpj = \"00002953000199\"  # Substitua por um CNPJ válido\n",
    "dados = consultar_cnpj(cnpj)\n",
    "print(dados)\n"
   ]
  },
  {
   "cell_type": "code",
   "execution_count": 12,
   "id": "94db4e09",
   "metadata": {},
   "outputs": [
    {
     "name": "stdout",
     "output_type": "stream",
     "text": [
      "{'abertura': '30/08/1966', 'situacao': 'ATIVA', 'tipo': 'MATRIZ', 'nome': 'M L SOUZA & CIA LTDA', 'fantasia': 'POSTO PETROLINO', 'porte': 'DEMAIS', 'natureza_juridica': '206-2 - Sociedade Empresária Limitada', 'atividade_principal': [{'code': '47.31-8-00', 'text': 'Comércio varejista de combustíveis para veículos automotores'}], 'atividades_secundarias': [{'code': '45.20-0-05', 'text': 'Serviços de lavagem, lubrificação e polimento de veículos automotores'}, {'code': '45.20-0-06', 'text': 'Serviços de borracharia para veículos automotores'}, {'code': '45.30-7-03', 'text': 'Comércio a varejo de peças e acessórios novos para veículos automotores'}], 'qsa': [{'nome': 'MARCIO LUIZ RIBEIRO DE SOUZA', 'qual': '49-Sócio-Administrador'}, {'nome': 'PAULA GRAZZIANI GUERRA', 'qual': '22-Sócio'}], 'logradouro': 'QUADRA C 6', 'numero': 'S/N', 'complemento': 'LOTE 01/02', 'municipio': 'BRASILIA', 'bairro': 'TAGUATINGA CENTRO (TAGUATINGA)', 'uf': 'DF', 'cep': '72.010-060', 'email': 'postopetrolino@uol.com.br', 'telefone': '(61) 3032-8488', 'data_situacao': '16/10/2004', 'cnpj': '00.005.892/0001-13', 'ultima_atualizacao': '2023-05-13T23:59:59.000Z', 'status': 'OK', 'efr': '', 'motivo_situacao': '', 'situacao_especial': '', 'data_situacao_especial': '', 'capital_social': '1599976.00', 'extra': {}, 'billing': {'free': True, 'database': True}}\n"
     ]
    }
   ],
   "source": [
    "import requests\n",
    "import json\n",
    "\n",
    "def consultar_cnpj(cnpj):\n",
    "    url = \"https://www.receitaws.com.br/v1/cnpj/{}\".format(cnpj)\n",
    "    response = requests.get(url)\n",
    "    data = response.json()\n",
    "    return data\n",
    "\n",
    "cnpj = \"00005892000113\"  # Substitua por um CNPJ válido\n",
    "dados = consultar_cnpj(cnpj)\n",
    "print(dados)\n"
   ]
  },
  {
   "cell_type": "code",
   "execution_count": null,
   "id": "179cd285",
   "metadata": {},
   "outputs": [
    {
     "name": "stderr",
     "output_type": "stream",
     "text": [
      "C:\\Users\\hirot\\AppData\\Local\\Temp\\ipykernel_29740\\4276536922.py:14: DtypeWarning: Columns (16) have mixed types. Specify dtype option on import or set low_memory=False.\n",
      "  df = pd.read_csv(r'C:\\Users\\hirot\\Downloads\\Dados_raio - Dados_raio (2).csv')\n",
      "C:\\Users\\hirot\\AppData\\Local\\Temp\\ipykernel_29740\\4276536922.py:31: FutureWarning: The frame.append method is deprecated and will be removed from pandas in a future version. Use pandas.concat instead.\n",
      "  dados_df = dados_df.append({'CNPJ': cnpj, 'Sócio-Administrador': socio_administrador, 'Sócio': socio, 'email': email, 'telefone': telefone}, ignore_index=True)\n"
     ]
    },
    {
     "name": "stdout",
     "output_type": "stream",
     "text": [
      "EDIVALDO ABILIO TUSCHI, IZILDINHA APARECIDA PAVANI TUSCHI\n",
      "não consta na receita\n",
      "\n",
      "\n",
      "----------\n"
     ]
    },
    {
     "name": "stderr",
     "output_type": "stream",
     "text": [
      "C:\\Users\\hirot\\AppData\\Local\\Temp\\ipykernel_29740\\4276536922.py:31: FutureWarning: The frame.append method is deprecated and will be removed from pandas in a future version. Use pandas.concat instead.\n",
      "  dados_df = dados_df.append({'CNPJ': cnpj, 'Sócio-Administrador': socio_administrador, 'Sócio': socio, 'email': email, 'telefone': telefone}, ignore_index=True)\n"
     ]
    },
    {
     "name": "stdout",
     "output_type": "stream",
     "text": [
      "não consta na receita\n",
      "não consta na receita\n",
      "\n",
      "\n",
      "----------\n"
     ]
    },
    {
     "name": "stderr",
     "output_type": "stream",
     "text": [
      "C:\\Users\\hirot\\AppData\\Local\\Temp\\ipykernel_29740\\4276536922.py:31: FutureWarning: The frame.append method is deprecated and will be removed from pandas in a future version. Use pandas.concat instead.\n",
      "  dados_df = dados_df.append({'CNPJ': cnpj, 'Sócio-Administrador': socio_administrador, 'Sócio': socio, 'email': email, 'telefone': telefone}, ignore_index=True)\n"
     ]
    },
    {
     "name": "stdout",
     "output_type": "stream",
     "text": [
      "JOSE FRANCISCO SIEBER LUZ\n",
      "JOSE HUMBERTO FAZANO\n",
      "\n",
      "\n",
      "----------\n"
     ]
    },
    {
     "name": "stderr",
     "output_type": "stream",
     "text": [
      "C:\\Users\\hirot\\AppData\\Local\\Temp\\ipykernel_29740\\4276536922.py:31: FutureWarning: The frame.append method is deprecated and will be removed from pandas in a future version. Use pandas.concat instead.\n",
      "  dados_df = dados_df.append({'CNPJ': cnpj, 'Sócio-Administrador': socio_administrador, 'Sócio': socio, 'email': email, 'telefone': telefone}, ignore_index=True)\n"
     ]
    },
    {
     "name": "stdout",
     "output_type": "stream",
     "text": [
      "não consta na receita\n",
      "não consta na receita\n",
      "\n",
      "(46) 3523-5321 / (46) 3524-0447 / (46) 3523-5321\n",
      "----------\n"
     ]
    },
    {
     "name": "stderr",
     "output_type": "stream",
     "text": [
      "C:\\Users\\hirot\\AppData\\Local\\Temp\\ipykernel_29740\\4276536922.py:31: FutureWarning: The frame.append method is deprecated and will be removed from pandas in a future version. Use pandas.concat instead.\n",
      "  dados_df = dados_df.append({'CNPJ': cnpj, 'Sócio-Administrador': socio_administrador, 'Sócio': socio, 'email': email, 'telefone': telefone}, ignore_index=True)\n"
     ]
    },
    {
     "name": "stdout",
     "output_type": "stream",
     "text": [
      "não consta na receita\n",
      "não consta na receita\n",
      "geovane@pollimotta.com.br\n",
      "(46) 3524-0447 / (46) 3524-0447 / (46) 3524-0447\n",
      "----------\n"
     ]
    },
    {
     "name": "stderr",
     "output_type": "stream",
     "text": [
      "C:\\Users\\hirot\\AppData\\Local\\Temp\\ipykernel_29740\\4276536922.py:31: FutureWarning: The frame.append method is deprecated and will be removed from pandas in a future version. Use pandas.concat instead.\n",
      "  dados_df = dados_df.append({'CNPJ': cnpj, 'Sócio-Administrador': socio_administrador, 'Sócio': socio, 'email': email, 'telefone': telefone}, ignore_index=True)\n"
     ]
    },
    {
     "name": "stdout",
     "output_type": "stream",
     "text": [
      "não consta na receita\n",
      "não consta na receita\n",
      "\n",
      "(46) 3563-1495 / (46) 3524-0447 / (46) 3524-0447\n",
      "----------\n"
     ]
    },
    {
     "name": "stderr",
     "output_type": "stream",
     "text": [
      "C:\\Users\\hirot\\AppData\\Local\\Temp\\ipykernel_29740\\4276536922.py:31: FutureWarning: The frame.append method is deprecated and will be removed from pandas in a future version. Use pandas.concat instead.\n",
      "  dados_df = dados_df.append({'CNPJ': cnpj, 'Sócio-Administrador': socio_administrador, 'Sócio': socio, 'email': email, 'telefone': telefone}, ignore_index=True)\n"
     ]
    },
    {
     "name": "stdout",
     "output_type": "stream",
     "text": [
      "não consta na receita\n",
      "não consta na receita\n",
      "marinho@gruposeteestrelas.com.br\n",
      "(12) 3876-1236\n",
      "----------\n"
     ]
    },
    {
     "name": "stderr",
     "output_type": "stream",
     "text": [
      "C:\\Users\\hirot\\AppData\\Local\\Temp\\ipykernel_29740\\4276536922.py:31: FutureWarning: The frame.append method is deprecated and will be removed from pandas in a future version. Use pandas.concat instead.\n",
      "  dados_df = dados_df.append({'CNPJ': cnpj, 'Sócio-Administrador': socio_administrador, 'Sócio': socio, 'email': email, 'telefone': telefone}, ignore_index=True)\n"
     ]
    },
    {
     "name": "stdout",
     "output_type": "stream",
     "text": [
      "não consta na receita\n",
      "não consta na receita\n",
      "marinho@gruposeteestrelas.com.br\n",
      "(12) 3876-1236\n",
      "----------\n"
     ]
    },
    {
     "name": "stderr",
     "output_type": "stream",
     "text": [
      "C:\\Users\\hirot\\AppData\\Local\\Temp\\ipykernel_29740\\4276536922.py:31: FutureWarning: The frame.append method is deprecated and will be removed from pandas in a future version. Use pandas.concat instead.\n",
      "  dados_df = dados_df.append({'CNPJ': cnpj, 'Sócio-Administrador': socio_administrador, 'Sócio': socio, 'email': email, 'telefone': telefone}, ignore_index=True)\n"
     ]
    },
    {
     "name": "stdout",
     "output_type": "stream",
     "text": [
      "não consta na receita\n",
      "não consta na receita\n",
      "marinho@gruposeteestrelas.com.br\n",
      "(12) 3876-1236\n",
      "----------\n"
     ]
    },
    {
     "name": "stderr",
     "output_type": "stream",
     "text": [
      "C:\\Users\\hirot\\AppData\\Local\\Temp\\ipykernel_29740\\4276536922.py:31: FutureWarning: The frame.append method is deprecated and will be removed from pandas in a future version. Use pandas.concat instead.\n",
      "  dados_df = dados_df.append({'CNPJ': cnpj, 'Sócio-Administrador': socio_administrador, 'Sócio': socio, 'email': email, 'telefone': telefone}, ignore_index=True)\n"
     ]
    },
    {
     "name": "stdout",
     "output_type": "stream",
     "text": [
      "MIANNI VAZ DE ANDRADE, ILSON MOREIRA DE ANDRADE\n",
      "não consta na receita\n",
      "\n",
      "\n",
      "----------\n"
     ]
    },
    {
     "name": "stderr",
     "output_type": "stream",
     "text": [
      "C:\\Users\\hirot\\AppData\\Local\\Temp\\ipykernel_29740\\4276536922.py:31: FutureWarning: The frame.append method is deprecated and will be removed from pandas in a future version. Use pandas.concat instead.\n",
      "  dados_df = dados_df.append({'CNPJ': cnpj, 'Sócio-Administrador': socio_administrador, 'Sócio': socio, 'email': email, 'telefone': telefone}, ignore_index=True)\n"
     ]
    },
    {
     "name": "stdout",
     "output_type": "stream",
     "text": [
      "ARNALDO NAPOLI\n",
      "AROLDO FRANCISCO FELTRIN\n",
      "\n",
      "\n",
      "----------\n"
     ]
    },
    {
     "name": "stderr",
     "output_type": "stream",
     "text": [
      "C:\\Users\\hirot\\AppData\\Local\\Temp\\ipykernel_29740\\4276536922.py:31: FutureWarning: The frame.append method is deprecated and will be removed from pandas in a future version. Use pandas.concat instead.\n",
      "  dados_df = dados_df.append({'CNPJ': cnpj, 'Sócio-Administrador': socio_administrador, 'Sócio': socio, 'email': email, 'telefone': telefone}, ignore_index=True)\n"
     ]
    },
    {
     "name": "stdout",
     "output_type": "stream",
     "text": [
      "MANUEL DA CONCEICAO PADEIRO, EMIR MICHALICHEN\n",
      "não consta na receita\n",
      "posto.alcatrazes@terra.com.br\n",
      "(13) 3284-6363\n",
      "----------\n"
     ]
    },
    {
     "name": "stderr",
     "output_type": "stream",
     "text": [
      "C:\\Users\\hirot\\AppData\\Local\\Temp\\ipykernel_29740\\4276536922.py:31: FutureWarning: The frame.append method is deprecated and will be removed from pandas in a future version. Use pandas.concat instead.\n",
      "  dados_df = dados_df.append({'CNPJ': cnpj, 'Sócio-Administrador': socio_administrador, 'Sócio': socio, 'email': email, 'telefone': telefone}, ignore_index=True)\n"
     ]
    },
    {
     "name": "stdout",
     "output_type": "stream",
     "text": [
      "GEORGE ZARDIN FAGUNDES, MARILDA ALVES ZARDIN\n",
      "MARINES ZARDIN FAGUNDES\n",
      "ipiranguinha@tca.com.br\n",
      "(51) 3542-3337\n",
      "----------\n"
     ]
    },
    {
     "name": "stderr",
     "output_type": "stream",
     "text": [
      "C:\\Users\\hirot\\AppData\\Local\\Temp\\ipykernel_29740\\4276536922.py:31: FutureWarning: The frame.append method is deprecated and will be removed from pandas in a future version. Use pandas.concat instead.\n",
      "  dados_df = dados_df.append({'CNPJ': cnpj, 'Sócio-Administrador': socio_administrador, 'Sócio': socio, 'email': email, 'telefone': telefone}, ignore_index=True)\n"
     ]
    },
    {
     "name": "stdout",
     "output_type": "stream",
     "text": [
      "não consta na receita\n",
      "não consta na receita\n",
      "\n",
      "(051) 5461-171\n",
      "----------\n"
     ]
    },
    {
     "name": "stderr",
     "output_type": "stream",
     "text": [
      "C:\\Users\\hirot\\AppData\\Local\\Temp\\ipykernel_29740\\4276536922.py:31: FutureWarning: The frame.append method is deprecated and will be removed from pandas in a future version. Use pandas.concat instead.\n",
      "  dados_df = dados_df.append({'CNPJ': cnpj, 'Sócio-Administrador': socio_administrador, 'Sócio': socio, 'email': email, 'telefone': telefone}, ignore_index=True)\n"
     ]
    },
    {
     "name": "stdout",
     "output_type": "stream",
     "text": [
      "não consta na receita\n",
      "não consta na receita\n",
      "\n",
      "(51) 5423-337\n",
      "----------\n"
     ]
    },
    {
     "name": "stderr",
     "output_type": "stream",
     "text": [
      "C:\\Users\\hirot\\AppData\\Local\\Temp\\ipykernel_29740\\4276536922.py:31: FutureWarning: The frame.append method is deprecated and will be removed from pandas in a future version. Use pandas.concat instead.\n",
      "  dados_df = dados_df.append({'CNPJ': cnpj, 'Sócio-Administrador': socio_administrador, 'Sócio': socio, 'email': email, 'telefone': telefone}, ignore_index=True)\n"
     ]
    },
    {
     "name": "stdout",
     "output_type": "stream",
     "text": [
      "JACINTA SIMON MASIEIRO, NEREU LUIZ MASIEIRO, THOMAS SIMON MASIEIRO\n",
      "não consta na receita\n",
      "\n",
      "(46) 3523-3635\n",
      "----------\n"
     ]
    },
    {
     "name": "stderr",
     "output_type": "stream",
     "text": [
      "C:\\Users\\hirot\\AppData\\Local\\Temp\\ipykernel_29740\\4276536922.py:31: FutureWarning: The frame.append method is deprecated and will be removed from pandas in a future version. Use pandas.concat instead.\n",
      "  dados_df = dados_df.append({'CNPJ': cnpj, 'Sócio-Administrador': socio_administrador, 'Sócio': socio, 'email': email, 'telefone': telefone}, ignore_index=True)\n"
     ]
    },
    {
     "name": "stdout",
     "output_type": "stream",
     "text": [
      "NELCI KOCHHANN SCHEEREN\n",
      "EDUARDO KOCHHANN SCHEEREN\n",
      "\n",
      "(55) 3363-1114\n",
      "----------\n"
     ]
    },
    {
     "name": "stderr",
     "output_type": "stream",
     "text": [
      "C:\\Users\\hirot\\AppData\\Local\\Temp\\ipykernel_29740\\4276536922.py:31: FutureWarning: The frame.append method is deprecated and will be removed from pandas in a future version. Use pandas.concat instead.\n",
      "  dados_df = dados_df.append({'CNPJ': cnpj, 'Sócio-Administrador': socio_administrador, 'Sócio': socio, 'email': email, 'telefone': telefone}, ignore_index=True)\n"
     ]
    },
    {
     "name": "stdout",
     "output_type": "stream",
     "text": [
      "não consta na receita\n",
      "não consta na receita\n",
      "\n",
      "(69) 2255-159\n",
      "----------\n"
     ]
    },
    {
     "name": "stderr",
     "output_type": "stream",
     "text": [
      "C:\\Users\\hirot\\AppData\\Local\\Temp\\ipykernel_29740\\4276536922.py:31: FutureWarning: The frame.append method is deprecated and will be removed from pandas in a future version. Use pandas.concat instead.\n",
      "  dados_df = dados_df.append({'CNPJ': cnpj, 'Sócio-Administrador': socio_administrador, 'Sócio': socio, 'email': email, 'telefone': telefone}, ignore_index=True)\n"
     ]
    },
    {
     "name": "stdout",
     "output_type": "stream",
     "text": [
      "JORDANA SILVA DE PAULA, VANE MARIA SILVA DE PAULA, AMANDA SILVA DE PAULA\n",
      "não consta na receita\n",
      "legalizacao@confianca-contabilidade.com\n",
      "(19) 3573-7700 / (19) 3573-7701 / (19) 3573-7700\n",
      "----------\n"
     ]
    },
    {
     "name": "stderr",
     "output_type": "stream",
     "text": [
      "C:\\Users\\hirot\\AppData\\Local\\Temp\\ipykernel_29740\\4276536922.py:31: FutureWarning: The frame.append method is deprecated and will be removed from pandas in a future version. Use pandas.concat instead.\n",
      "  dados_df = dados_df.append({'CNPJ': cnpj, 'Sócio-Administrador': socio_administrador, 'Sócio': socio, 'email': email, 'telefone': telefone}, ignore_index=True)\n"
     ]
    },
    {
     "name": "stdout",
     "output_type": "stream",
     "text": [
      "não consta na receita\n",
      "não consta na receita\n",
      "\n",
      "\n",
      "----------\n"
     ]
    },
    {
     "name": "stderr",
     "output_type": "stream",
     "text": [
      "C:\\Users\\hirot\\AppData\\Local\\Temp\\ipykernel_29740\\4276536922.py:31: FutureWarning: The frame.append method is deprecated and will be removed from pandas in a future version. Use pandas.concat instead.\n",
      "  dados_df = dados_df.append({'CNPJ': cnpj, 'Sócio-Administrador': socio_administrador, 'Sócio': socio, 'email': email, 'telefone': telefone}, ignore_index=True)\n"
     ]
    },
    {
     "name": "stdout",
     "output_type": "stream",
     "text": [
      "SEVERIANO DA SILVA COELHO\n",
      "SANDRA PIRES BARBOSA COELHO\n",
      "\n",
      "(65) 5541-363 / (65) 5541-522\n",
      "----------\n"
     ]
    },
    {
     "name": "stderr",
     "output_type": "stream",
     "text": [
      "C:\\Users\\hirot\\AppData\\Local\\Temp\\ipykernel_29740\\4276536922.py:31: FutureWarning: The frame.append method is deprecated and will be removed from pandas in a future version. Use pandas.concat instead.\n",
      "  dados_df = dados_df.append({'CNPJ': cnpj, 'Sócio-Administrador': socio_administrador, 'Sócio': socio, 'email': email, 'telefone': telefone}, ignore_index=True)\n"
     ]
    },
    {
     "name": "stdout",
     "output_type": "stream",
     "text": [
      "não consta na receita\n",
      "não consta na receita\n",
      "\n",
      "\n",
      "----------\n"
     ]
    },
    {
     "name": "stderr",
     "output_type": "stream",
     "text": [
      "C:\\Users\\hirot\\AppData\\Local\\Temp\\ipykernel_29740\\4276536922.py:31: FutureWarning: The frame.append method is deprecated and will be removed from pandas in a future version. Use pandas.concat instead.\n",
      "  dados_df = dados_df.append({'CNPJ': cnpj, 'Sócio-Administrador': socio_administrador, 'Sócio': socio, 'email': email, 'telefone': telefone}, ignore_index=True)\n"
     ]
    },
    {
     "name": "stdout",
     "output_type": "stream",
     "text": [
      "não consta na receita\n",
      "não consta na receita\n",
      "postojotapinto.saojorge@hotmail.com\n",
      "(82) 3023-4504\n",
      "----------\n"
     ]
    },
    {
     "name": "stderr",
     "output_type": "stream",
     "text": [
      "C:\\Users\\hirot\\AppData\\Local\\Temp\\ipykernel_29740\\4276536922.py:31: FutureWarning: The frame.append method is deprecated and will be removed from pandas in a future version. Use pandas.concat instead.\n",
      "  dados_df = dados_df.append({'CNPJ': cnpj, 'Sócio-Administrador': socio_administrador, 'Sócio': socio, 'email': email, 'telefone': telefone}, ignore_index=True)\n"
     ]
    },
    {
     "name": "stdout",
     "output_type": "stream",
     "text": [
      "JOAO MACARIO DOS SANTOS\n",
      "JOAO MACARIO DOS SANTOS JUNIOR\n",
      "\n",
      "\n",
      "----------\n"
     ]
    },
    {
     "name": "stderr",
     "output_type": "stream",
     "text": [
      "C:\\Users\\hirot\\AppData\\Local\\Temp\\ipykernel_29740\\4276536922.py:31: FutureWarning: The frame.append method is deprecated and will be removed from pandas in a future version. Use pandas.concat instead.\n",
      "  dados_df = dados_df.append({'CNPJ': cnpj, 'Sócio-Administrador': socio_administrador, 'Sócio': socio, 'email': email, 'telefone': telefone}, ignore_index=True)\n"
     ]
    },
    {
     "name": "stdout",
     "output_type": "stream",
     "text": [
      "não consta na receita\n",
      "não consta na receita\n",
      "contabilidade@redefurnas.com.br\n",
      "(48) 3533-0152 / (48) 3533-2281 / (48) 3533-0152\n",
      "----------\n"
     ]
    },
    {
     "name": "stderr",
     "output_type": "stream",
     "text": [
      "C:\\Users\\hirot\\AppData\\Local\\Temp\\ipykernel_29740\\4276536922.py:31: FutureWarning: The frame.append method is deprecated and will be removed from pandas in a future version. Use pandas.concat instead.\n",
      "  dados_df = dados_df.append({'CNPJ': cnpj, 'Sócio-Administrador': socio_administrador, 'Sócio': socio, 'email': email, 'telefone': telefone}, ignore_index=True)\n"
     ]
    },
    {
     "name": "stdout",
     "output_type": "stream",
     "text": [
      "não consta na receita\n",
      "não consta na receita\n",
      "contabilidade@redefurnas.com.br\n",
      "(48) 3533-0152 / (48) 3533-2281 / (48) 3533-0152\n",
      "----------\n"
     ]
    },
    {
     "name": "stderr",
     "output_type": "stream",
     "text": [
      "C:\\Users\\hirot\\AppData\\Local\\Temp\\ipykernel_29740\\4276536922.py:31: FutureWarning: The frame.append method is deprecated and will be removed from pandas in a future version. Use pandas.concat instead.\n",
      "  dados_df = dados_df.append({'CNPJ': cnpj, 'Sócio-Administrador': socio_administrador, 'Sócio': socio, 'email': email, 'telefone': telefone}, ignore_index=True)\n"
     ]
    },
    {
     "name": "stdout",
     "output_type": "stream",
     "text": [
      "não consta na receita\n",
      "não consta na receita\n",
      "valmirctb@gmail.com\n",
      "(48) 3533-0152 / (48) 3533-0152 / (48) 3533-0152\n",
      "----------\n"
     ]
    },
    {
     "name": "stderr",
     "output_type": "stream",
     "text": [
      "C:\\Users\\hirot\\AppData\\Local\\Temp\\ipykernel_29740\\4276536922.py:31: FutureWarning: The frame.append method is deprecated and will be removed from pandas in a future version. Use pandas.concat instead.\n",
      "  dados_df = dados_df.append({'CNPJ': cnpj, 'Sócio-Administrador': socio_administrador, 'Sócio': socio, 'email': email, 'telefone': telefone}, ignore_index=True)\n"
     ]
    },
    {
     "name": "stdout",
     "output_type": "stream",
     "text": [
      "SERGIO TADASHI TAKAUTI, IRACEMA TAYRA TAKAUTI\n",
      "não consta na receita\n",
      "jbalves55@gmail.com\n",
      "(11) 4656-2246\n",
      "----------\n"
     ]
    },
    {
     "name": "stderr",
     "output_type": "stream",
     "text": [
      "C:\\Users\\hirot\\AppData\\Local\\Temp\\ipykernel_29740\\4276536922.py:31: FutureWarning: The frame.append method is deprecated and will be removed from pandas in a future version. Use pandas.concat instead.\n",
      "  dados_df = dados_df.append({'CNPJ': cnpj, 'Sócio-Administrador': socio_administrador, 'Sócio': socio, 'email': email, 'telefone': telefone}, ignore_index=True)\n"
     ]
    },
    {
     "name": "stdout",
     "output_type": "stream",
     "text": [
      "CESALTINA LEAL RODRIGUES ROSA, FLORINDO DOMINGUES DA CONCEICAO\n",
      "não consta na receita\n",
      "marquespombal@uol.com.br\n",
      "(11) 4442-1711\n",
      "----------\n"
     ]
    },
    {
     "name": "stderr",
     "output_type": "stream",
     "text": [
      "C:\\Users\\hirot\\AppData\\Local\\Temp\\ipykernel_29740\\4276536922.py:31: FutureWarning: The frame.append method is deprecated and will be removed from pandas in a future version. Use pandas.concat instead.\n",
      "  dados_df = dados_df.append({'CNPJ': cnpj, 'Sócio-Administrador': socio_administrador, 'Sócio': socio, 'email': email, 'telefone': telefone}, ignore_index=True)\n"
     ]
    },
    {
     "name": "stdout",
     "output_type": "stream",
     "text": [
      "LUCIO JOSE DE AMORIM BEZERRA\n",
      "EVALDO BEZERRA FILHO\n",
      "\n",
      "\n",
      "----------\n"
     ]
    },
    {
     "name": "stderr",
     "output_type": "stream",
     "text": [
      "C:\\Users\\hirot\\AppData\\Local\\Temp\\ipykernel_29740\\4276536922.py:31: FutureWarning: The frame.append method is deprecated and will be removed from pandas in a future version. Use pandas.concat instead.\n",
      "  dados_df = dados_df.append({'CNPJ': cnpj, 'Sócio-Administrador': socio_administrador, 'Sócio': socio, 'email': email, 'telefone': telefone}, ignore_index=True)\n"
     ]
    },
    {
     "name": "stdout",
     "output_type": "stream",
     "text": [
      "DANIEL BORGES DE OLIVEIRA, GABRIEL BORGES DE OLIVEIRA\n",
      "não consta na receita\n",
      "\n",
      "\n",
      "----------\n"
     ]
    },
    {
     "name": "stderr",
     "output_type": "stream",
     "text": [
      "C:\\Users\\hirot\\AppData\\Local\\Temp\\ipykernel_29740\\4276536922.py:31: FutureWarning: The frame.append method is deprecated and will be removed from pandas in a future version. Use pandas.concat instead.\n",
      "  dados_df = dados_df.append({'CNPJ': cnpj, 'Sócio-Administrador': socio_administrador, 'Sócio': socio, 'email': email, 'telefone': telefone}, ignore_index=True)\n"
     ]
    },
    {
     "name": "stdout",
     "output_type": "stream",
     "text": [
      "PATRICIA DA SILVA PONTES\n",
      "FERNANDA KELLY PONTES DE LIMA\n",
      "postosantaritapb@hotmail.com\n",
      "(83) 3229-5596\n",
      "----------\n"
     ]
    },
    {
     "name": "stderr",
     "output_type": "stream",
     "text": [
      "C:\\Users\\hirot\\AppData\\Local\\Temp\\ipykernel_29740\\4276536922.py:31: FutureWarning: The frame.append method is deprecated and will be removed from pandas in a future version. Use pandas.concat instead.\n",
      "  dados_df = dados_df.append({'CNPJ': cnpj, 'Sócio-Administrador': socio_administrador, 'Sócio': socio, 'email': email, 'telefone': telefone}, ignore_index=True)\n"
     ]
    },
    {
     "name": "stdout",
     "output_type": "stream",
     "text": [
      "GIOVANA RITA PELLEGRINO BORGES\n",
      "ROBERTA PELLEGRINO BORGES\n",
      "postosabba@uol.com.br\n",
      "(77) 3611-6171\n",
      "----------\n"
     ]
    },
    {
     "name": "stderr",
     "output_type": "stream",
     "text": [
      "C:\\Users\\hirot\\AppData\\Local\\Temp\\ipykernel_29740\\4276536922.py:31: FutureWarning: The frame.append method is deprecated and will be removed from pandas in a future version. Use pandas.concat instead.\n",
      "  dados_df = dados_df.append({'CNPJ': cnpj, 'Sócio-Administrador': socio_administrador, 'Sócio': socio, 'email': email, 'telefone': telefone}, ignore_index=True)\n"
     ]
    },
    {
     "name": "stdout",
     "output_type": "stream",
     "text": [
      "SOLANGE RIBEIRO NOBILE\n",
      "não consta na receita\n",
      "\n",
      "(067) 5651-844\n",
      "----------\n"
     ]
    },
    {
     "name": "stderr",
     "output_type": "stream",
     "text": [
      "C:\\Users\\hirot\\AppData\\Local\\Temp\\ipykernel_29740\\4276536922.py:31: FutureWarning: The frame.append method is deprecated and will be removed from pandas in a future version. Use pandas.concat instead.\n",
      "  dados_df = dados_df.append({'CNPJ': cnpj, 'Sócio-Administrador': socio_administrador, 'Sócio': socio, 'email': email, 'telefone': telefone}, ignore_index=True)\n"
     ]
    },
    {
     "name": "stdout",
     "output_type": "stream",
     "text": [
      "JACKELINE MARISTELA TESTONI, EDSON LUIZ VICENTE JUNIOR, EDSON LUIZ VICENTE, BIANCA KARINE VICENTE\n",
      "não consta na receita\n",
      "\n",
      "\n",
      "----------\n"
     ]
    },
    {
     "name": "stderr",
     "output_type": "stream",
     "text": [
      "C:\\Users\\hirot\\AppData\\Local\\Temp\\ipykernel_29740\\4276536922.py:31: FutureWarning: The frame.append method is deprecated and will be removed from pandas in a future version. Use pandas.concat instead.\n",
      "  dados_df = dados_df.append({'CNPJ': cnpj, 'Sócio-Administrador': socio_administrador, 'Sócio': socio, 'email': email, 'telefone': telefone}, ignore_index=True)\n"
     ]
    },
    {
     "name": "stdout",
     "output_type": "stream",
     "text": [
      "LUCIO JOSE STANISLAVSKI\n",
      "ROBSON ORLANDO STANISLAVSKI\n",
      "\n",
      "\n",
      "----------\n"
     ]
    },
    {
     "name": "stderr",
     "output_type": "stream",
     "text": [
      "C:\\Users\\hirot\\AppData\\Local\\Temp\\ipykernel_29740\\4276536922.py:31: FutureWarning: The frame.append method is deprecated and will be removed from pandas in a future version. Use pandas.concat instead.\n",
      "  dados_df = dados_df.append({'CNPJ': cnpj, 'Sócio-Administrador': socio_administrador, 'Sócio': socio, 'email': email, 'telefone': telefone}, ignore_index=True)\n"
     ]
    },
    {
     "name": "stdout",
     "output_type": "stream",
     "text": [
      "não consta na receita\n",
      "não consta na receita\n",
      "postosmineiro@yahoo.com.br\n",
      "(51) 3694-1329\n",
      "----------\n"
     ]
    },
    {
     "name": "stderr",
     "output_type": "stream",
     "text": [
      "C:\\Users\\hirot\\AppData\\Local\\Temp\\ipykernel_29740\\4276536922.py:31: FutureWarning: The frame.append method is deprecated and will be removed from pandas in a future version. Use pandas.concat instead.\n",
      "  dados_df = dados_df.append({'CNPJ': cnpj, 'Sócio-Administrador': socio_administrador, 'Sócio': socio, 'email': email, 'telefone': telefone}, ignore_index=True)\n"
     ]
    },
    {
     "name": "stdout",
     "output_type": "stream",
     "text": [
      "não consta na receita\n",
      "não consta na receita\n",
      "postosmineiro@yahoo.com\n",
      "(51) 3694-1329\n",
      "----------\n"
     ]
    },
    {
     "name": "stderr",
     "output_type": "stream",
     "text": [
      "C:\\Users\\hirot\\AppData\\Local\\Temp\\ipykernel_29740\\4276536922.py:31: FutureWarning: The frame.append method is deprecated and will be removed from pandas in a future version. Use pandas.concat instead.\n",
      "  dados_df = dados_df.append({'CNPJ': cnpj, 'Sócio-Administrador': socio_administrador, 'Sócio': socio, 'email': email, 'telefone': telefone}, ignore_index=True)\n"
     ]
    },
    {
     "name": "stdout",
     "output_type": "stream",
     "text": [
      "ZILDA RIBEIRO MORENO\n",
      "não consta na receita\n",
      "\n",
      "(043) 3223-683\n",
      "----------\n"
     ]
    },
    {
     "name": "stderr",
     "output_type": "stream",
     "text": [
      "C:\\Users\\hirot\\AppData\\Local\\Temp\\ipykernel_29740\\4276536922.py:31: FutureWarning: The frame.append method is deprecated and will be removed from pandas in a future version. Use pandas.concat instead.\n",
      "  dados_df = dados_df.append({'CNPJ': cnpj, 'Sócio-Administrador': socio_administrador, 'Sócio': socio, 'email': email, 'telefone': telefone}, ignore_index=True)\n"
     ]
    },
    {
     "name": "stdout",
     "output_type": "stream",
     "text": [
      "JOYCE DO COUTO SOUZA\n",
      "PEDRO HENRIQUE DE SOUZA, ROMUALDO AUGUSTO DE SOUZA, PEDRO AFONSO DE SOUZA\n",
      "fiscal@nascimentocontabilidade.net.br\n",
      "\n",
      "----------\n"
     ]
    },
    {
     "name": "stderr",
     "output_type": "stream",
     "text": [
      "C:\\Users\\hirot\\AppData\\Local\\Temp\\ipykernel_29740\\4276536922.py:31: FutureWarning: The frame.append method is deprecated and will be removed from pandas in a future version. Use pandas.concat instead.\n",
      "  dados_df = dados_df.append({'CNPJ': cnpj, 'Sócio-Administrador': socio_administrador, 'Sócio': socio, 'email': email, 'telefone': telefone}, ignore_index=True)\n"
     ]
    },
    {
     "name": "stdout",
     "output_type": "stream",
     "text": [
      "CARMEM LUISA CHAGAS MIRANDA, CARLOS ALBERTO CHAGAS MIRANDA\n",
      "não consta na receita\n",
      "nativocontabilidade@hotmail.com\n",
      "(74) 3621-2997/ (74) 9961-1266\n",
      "----------\n"
     ]
    },
    {
     "name": "stderr",
     "output_type": "stream",
     "text": [
      "C:\\Users\\hirot\\AppData\\Local\\Temp\\ipykernel_29740\\4276536922.py:31: FutureWarning: The frame.append method is deprecated and will be removed from pandas in a future version. Use pandas.concat instead.\n",
      "  dados_df = dados_df.append({'CNPJ': cnpj, 'Sócio-Administrador': socio_administrador, 'Sócio': socio, 'email': email, 'telefone': telefone}, ignore_index=True)\n"
     ]
    },
    {
     "name": "stdout",
     "output_type": "stream",
     "text": [
      "IVAN CARLOS GIMENES BAJO\n",
      "LUCIA HELENA GRASSI BAJO\n",
      "\n",
      "\n",
      "----------\n"
     ]
    },
    {
     "name": "stderr",
     "output_type": "stream",
     "text": [
      "C:\\Users\\hirot\\AppData\\Local\\Temp\\ipykernel_29740\\4276536922.py:31: FutureWarning: The frame.append method is deprecated and will be removed from pandas in a future version. Use pandas.concat instead.\n",
      "  dados_df = dados_df.append({'CNPJ': cnpj, 'Sócio-Administrador': socio_administrador, 'Sócio': socio, 'email': email, 'telefone': telefone}, ignore_index=True)\n"
     ]
    },
    {
     "name": "stdout",
     "output_type": "stream",
     "text": [
      "VALDIR PAMPLONA, PAULO SERGIO DA SILVA\n",
      "ANA CRISTINA DA SILVA, ANTONIO CARLOS AVELINO, JOSE SEBASTIAO DE FIGUEIREDO\n",
      "\n",
      "\n",
      "----------\n"
     ]
    },
    {
     "name": "stderr",
     "output_type": "stream",
     "text": [
      "C:\\Users\\hirot\\AppData\\Local\\Temp\\ipykernel_29740\\4276536922.py:31: FutureWarning: The frame.append method is deprecated and will be removed from pandas in a future version. Use pandas.concat instead.\n",
      "  dados_df = dados_df.append({'CNPJ': cnpj, 'Sócio-Administrador': socio_administrador, 'Sócio': socio, 'email': email, 'telefone': telefone}, ignore_index=True)\n",
      "C:\\Users\\hirot\\AppData\\Local\\Temp\\ipykernel_29740\\4276536922.py:31: FutureWarning: The frame.append method is deprecated and will be removed from pandas in a future version. Use pandas.concat instead.\n",
      "  dados_df = dados_df.append({'CNPJ': cnpj, 'Sócio-Administrador': socio_administrador, 'Sócio': socio, 'email': email, 'telefone': telefone}, ignore_index=True)\n"
     ]
    },
    {
     "name": "stdout",
     "output_type": "stream",
     "text": [
      "FRANCISCO JOSE FELIPE SIMOES, VALDEMIR SARILHO\n",
      "não consta na receita\n",
      "\n",
      "\n",
      "----------\n",
      "LUIZ LOPES DA COSTA\n",
      "não consta na receita\n",
      "\n",
      "(67) 3546-1168 / (67) 3546-1168\n",
      "----------\n"
     ]
    },
    {
     "name": "stderr",
     "output_type": "stream",
     "text": [
      "C:\\Users\\hirot\\AppData\\Local\\Temp\\ipykernel_29740\\4276536922.py:31: FutureWarning: The frame.append method is deprecated and will be removed from pandas in a future version. Use pandas.concat instead.\n",
      "  dados_df = dados_df.append({'CNPJ': cnpj, 'Sócio-Administrador': socio_administrador, 'Sócio': socio, 'email': email, 'telefone': telefone}, ignore_index=True)\n"
     ]
    },
    {
     "name": "stdout",
     "output_type": "stream",
     "text": [
      "não consta na receita\n",
      "não consta na receita\n",
      "\n",
      "(98) 3383-1226\n",
      "----------\n"
     ]
    },
    {
     "name": "stderr",
     "output_type": "stream",
     "text": [
      "C:\\Users\\hirot\\AppData\\Local\\Temp\\ipykernel_29740\\4276536922.py:31: FutureWarning: The frame.append method is deprecated and will be removed from pandas in a future version. Use pandas.concat instead.\n",
      "  dados_df = dados_df.append({'CNPJ': cnpj, 'Sócio-Administrador': socio_administrador, 'Sócio': socio, 'email': email, 'telefone': telefone}, ignore_index=True)\n"
     ]
    },
    {
     "name": "stdout",
     "output_type": "stream",
     "text": [
      "RICARDO VIANA DECAT, ANTONIO DE PADUA DECAT, RICARDO DE ANDRADE SILVA\n",
      "RONALDO VIANA DECAT\n",
      "contabilizar@hotmail.com\n",
      "(31) 3224-0097 / (31) 3222-4513 / (31) 3222-4513\n",
      "----------\n"
     ]
    },
    {
     "name": "stderr",
     "output_type": "stream",
     "text": [
      "C:\\Users\\hirot\\AppData\\Local\\Temp\\ipykernel_29740\\4276536922.py:31: FutureWarning: The frame.append method is deprecated and will be removed from pandas in a future version. Use pandas.concat instead.\n",
      "  dados_df = dados_df.append({'CNPJ': cnpj, 'Sócio-Administrador': socio_administrador, 'Sócio': socio, 'email': email, 'telefone': telefone}, ignore_index=True)\n"
     ]
    },
    {
     "name": "stdout",
     "output_type": "stream",
     "text": [
      "GISELLE DE PAULA\n",
      "não consta na receita\n",
      "\n",
      "\n",
      "----------\n"
     ]
    },
    {
     "name": "stderr",
     "output_type": "stream",
     "text": [
      "C:\\Users\\hirot\\AppData\\Local\\Temp\\ipykernel_29740\\4276536922.py:31: FutureWarning: The frame.append method is deprecated and will be removed from pandas in a future version. Use pandas.concat instead.\n",
      "  dados_df = dados_df.append({'CNPJ': cnpj, 'Sócio-Administrador': socio_administrador, 'Sócio': socio, 'email': email, 'telefone': telefone}, ignore_index=True)\n",
      "C:\\Users\\hirot\\AppData\\Local\\Temp\\ipykernel_29740\\4276536922.py:31: FutureWarning: The frame.append method is deprecated and will be removed from pandas in a future version. Use pandas.concat instead.\n",
      "  dados_df = dados_df.append({'CNPJ': cnpj, 'Sócio-Administrador': socio_administrador, 'Sócio': socio, 'email': email, 'telefone': telefone}, ignore_index=True)\n"
     ]
    },
    {
     "name": "stdout",
     "output_type": "stream",
     "text": [
      "ASLEM PAULINELLI BAHIA, ALDREI PAULINELLI BAHIA\n",
      "RAFAEL BAHIA\n",
      "senhas@moreiracoelho.com\n",
      "(31) 3439-5650\n",
      "----------\n",
      "SEBASTIAO RODRIGUES DANTAS, EDNEUSA MARIA OLIVEIRA SILVA DANTAS\n",
      "não consta na receita\n",
      "\n",
      "(075) 2751-140 / (075) 2751-140\n",
      "----------\n"
     ]
    },
    {
     "name": "stderr",
     "output_type": "stream",
     "text": [
      "C:\\Users\\hirot\\AppData\\Local\\Temp\\ipykernel_29740\\4276536922.py:31: FutureWarning: The frame.append method is deprecated and will be removed from pandas in a future version. Use pandas.concat instead.\n",
      "  dados_df = dados_df.append({'CNPJ': cnpj, 'Sócio-Administrador': socio_administrador, 'Sócio': socio, 'email': email, 'telefone': telefone}, ignore_index=True)\n"
     ]
    },
    {
     "name": "stdout",
     "output_type": "stream",
     "text": [
      "JORGE LUIZ DE MELO ROLDAO\n",
      "RAPHAELA DE OLIVEIRA ROLDAO, RODRIGO OLIVEIRA ROLDAO\n",
      "jucelia@cristalengenharia.com.br\n",
      "(92) 2123-8100 / (92) 6113-836\n",
      "----------\n"
     ]
    },
    {
     "name": "stderr",
     "output_type": "stream",
     "text": [
      "C:\\Users\\hirot\\AppData\\Local\\Temp\\ipykernel_29740\\4276536922.py:31: FutureWarning: The frame.append method is deprecated and will be removed from pandas in a future version. Use pandas.concat instead.\n",
      "  dados_df = dados_df.append({'CNPJ': cnpj, 'Sócio-Administrador': socio_administrador, 'Sócio': socio, 'email': email, 'telefone': telefone}, ignore_index=True)\n",
      "C:\\Users\\hirot\\AppData\\Local\\Temp\\ipykernel_29740\\4276536922.py:31: FutureWarning: The frame.append method is deprecated and will be removed from pandas in a future version. Use pandas.concat instead.\n",
      "  dados_df = dados_df.append({'CNPJ': cnpj, 'Sócio-Administrador': socio_administrador, 'Sócio': socio, 'email': email, 'telefone': telefone}, ignore_index=True)\n"
     ]
    },
    {
     "name": "stdout",
     "output_type": "stream",
     "text": [
      "MARIO QUENDI HIKIDA\n",
      "MARIANE HIKIDA\n",
      "\n",
      "(43) 3265-1797 / (43) 3265-1446 / (43) 3265-1797\n",
      "----------\n",
      "LUIZ ANTONIO CARVALHO SIQUEIRA, ANGELICA SIQUEIRA JARDIM, JAIME EDUARDO CARVALHO SIQUEIRA\n",
      "não consta na receita\n",
      "\n",
      "\n",
      "----------\n"
     ]
    },
    {
     "name": "stderr",
     "output_type": "stream",
     "text": [
      "C:\\Users\\hirot\\AppData\\Local\\Temp\\ipykernel_29740\\4276536922.py:31: FutureWarning: The frame.append method is deprecated and will be removed from pandas in a future version. Use pandas.concat instead.\n",
      "  dados_df = dados_df.append({'CNPJ': cnpj, 'Sócio-Administrador': socio_administrador, 'Sócio': socio, 'email': email, 'telefone': telefone}, ignore_index=True)\n"
     ]
    },
    {
     "name": "stdout",
     "output_type": "stream",
     "text": [
      "não consta na receita\n",
      "não consta na receita\n",
      "\n",
      "(35) 9899-9448\n",
      "----------\n"
     ]
    },
    {
     "name": "stderr",
     "output_type": "stream",
     "text": [
      "C:\\Users\\hirot\\AppData\\Local\\Temp\\ipykernel_29740\\4276536922.py:31: FutureWarning: The frame.append method is deprecated and will be removed from pandas in a future version. Use pandas.concat instead.\n",
      "  dados_df = dados_df.append({'CNPJ': cnpj, 'Sócio-Administrador': socio_administrador, 'Sócio': socio, 'email': email, 'telefone': telefone}, ignore_index=True)\n"
     ]
    },
    {
     "name": "stdout",
     "output_type": "stream",
     "text": [
      "ALEXANDRE ANDRADE ARRUDA\n",
      "não consta na receita\n",
      "postoguimaraes@redemca.com\n",
      "(99) 3538-2780 / (99) 9172-2477 / (99) 3538-2780\n",
      "----------\n"
     ]
    },
    {
     "name": "stderr",
     "output_type": "stream",
     "text": [
      "C:\\Users\\hirot\\AppData\\Local\\Temp\\ipykernel_29740\\4276536922.py:31: FutureWarning: The frame.append method is deprecated and will be removed from pandas in a future version. Use pandas.concat instead.\n",
      "  dados_df = dados_df.append({'CNPJ': cnpj, 'Sócio-Administrador': socio_administrador, 'Sócio': socio, 'email': email, 'telefone': telefone}, ignore_index=True)\n"
     ]
    },
    {
     "name": "stdout",
     "output_type": "stream",
     "text": [
      "SIDNEI RODRIGUES DE MATOS\n",
      "LANDER ADRIEN VIEIRA DE MATOS OLIVEIRA\n",
      "hinterlang@uol.com.br\n",
      "(67) 3291-9400 / (067) 2911-818\n",
      "----------\n"
     ]
    },
    {
     "name": "stderr",
     "output_type": "stream",
     "text": [
      "C:\\Users\\hirot\\AppData\\Local\\Temp\\ipykernel_29740\\4276536922.py:31: FutureWarning: The frame.append method is deprecated and will be removed from pandas in a future version. Use pandas.concat instead.\n",
      "  dados_df = dados_df.append({'CNPJ': cnpj, 'Sócio-Administrador': socio_administrador, 'Sócio': socio, 'email': email, 'telefone': telefone}, ignore_index=True)\n"
     ]
    },
    {
     "name": "stdout",
     "output_type": "stream",
     "text": [
      "FERNANDO VIEIRA DE MIRANDA, JOSE MARCOS VIEIRA DE MIRANDA\n",
      "não consta na receita\n",
      "\n",
      "\n",
      "----------\n"
     ]
    },
    {
     "name": "stderr",
     "output_type": "stream",
     "text": [
      "C:\\Users\\hirot\\AppData\\Local\\Temp\\ipykernel_29740\\4276536922.py:31: FutureWarning: The frame.append method is deprecated and will be removed from pandas in a future version. Use pandas.concat instead.\n",
      "  dados_df = dados_df.append({'CNPJ': cnpj, 'Sócio-Administrador': socio_administrador, 'Sócio': socio, 'email': email, 'telefone': telefone}, ignore_index=True)\n",
      "C:\\Users\\hirot\\AppData\\Local\\Temp\\ipykernel_29740\\4276536922.py:31: FutureWarning: The frame.append method is deprecated and will be removed from pandas in a future version. Use pandas.concat instead.\n",
      "  dados_df = dados_df.append({'CNPJ': cnpj, 'Sócio-Administrador': socio_administrador, 'Sócio': socio, 'email': email, 'telefone': telefone}, ignore_index=True)\n"
     ]
    },
    {
     "name": "stdout",
     "output_type": "stream",
     "text": [
      "VANDRE ARAUJO GUNES VIANA\n",
      "MWM HOLDINGS E PARTICIPACOES LTDA\n",
      "exclusiva.controladoria@gmail.com\n",
      "(75) 9981-1539\n",
      "----------\n",
      "ADALTO RODRIGUES DA SILVA\n",
      "não consta na receita\n",
      "\n",
      "(67) 4042-0095/ (17) 8134-2222\n",
      "----------\n"
     ]
    },
    {
     "name": "stderr",
     "output_type": "stream",
     "text": [
      "C:\\Users\\hirot\\AppData\\Local\\Temp\\ipykernel_29740\\4276536922.py:31: FutureWarning: The frame.append method is deprecated and will be removed from pandas in a future version. Use pandas.concat instead.\n",
      "  dados_df = dados_df.append({'CNPJ': cnpj, 'Sócio-Administrador': socio_administrador, 'Sócio': socio, 'email': email, 'telefone': telefone}, ignore_index=True)\n"
     ]
    },
    {
     "name": "stdout",
     "output_type": "stream",
     "text": [
      "GINBERVALDO DE ARAUJO LIMA, CRISTIANO SANTOS LIMA\n",
      "não consta na receita\n",
      "andersonadmi@yahoo.com\n",
      "(75) 3261-3810 / (75) 3261-2859\n",
      "----------\n"
     ]
    },
    {
     "name": "stderr",
     "output_type": "stream",
     "text": [
      "C:\\Users\\hirot\\AppData\\Local\\Temp\\ipykernel_29740\\4276536922.py:31: FutureWarning: The frame.append method is deprecated and will be removed from pandas in a future version. Use pandas.concat instead.\n",
      "  dados_df = dados_df.append({'CNPJ': cnpj, 'Sócio-Administrador': socio_administrador, 'Sócio': socio, 'email': email, 'telefone': telefone}, ignore_index=True)\n"
     ]
    },
    {
     "name": "stdout",
     "output_type": "stream",
     "text": [
      "não consta na receita\n",
      "não consta na receita\n",
      "legalizacao@alcantaracontadores.com.br\n",
      "(21) 2570-1326 / (21) 2571-7021\n",
      "----------\n"
     ]
    },
    {
     "name": "stderr",
     "output_type": "stream",
     "text": [
      "C:\\Users\\hirot\\AppData\\Local\\Temp\\ipykernel_29740\\4276536922.py:31: FutureWarning: The frame.append method is deprecated and will be removed from pandas in a future version. Use pandas.concat instead.\n",
      "  dados_df = dados_df.append({'CNPJ': cnpj, 'Sócio-Administrador': socio_administrador, 'Sócio': socio, 'email': email, 'telefone': telefone}, ignore_index=True)\n",
      "C:\\Users\\hirot\\AppData\\Local\\Temp\\ipykernel_29740\\4276536922.py:31: FutureWarning: The frame.append method is deprecated and will be removed from pandas in a future version. Use pandas.concat instead.\n",
      "  dados_df = dados_df.append({'CNPJ': cnpj, 'Sócio-Administrador': socio_administrador, 'Sócio': socio, 'email': email, 'telefone': telefone}, ignore_index=True)\n"
     ]
    },
    {
     "name": "stdout",
     "output_type": "stream",
     "text": [
      "não consta na receita\n",
      "não consta na receita\n",
      "liz@alcantaracontadores.com.br\n",
      "(21) 2570-1326 / (21) 2570-1326 / (21) 2570-1326\n",
      "----------\n",
      "não consta na receita\n",
      "não consta na receita\n",
      "liz@alcantaracontadores.com.br\n",
      "(21) 2570-1326 / (21) 2570-1326 / (21) 2570-1326\n",
      "----------\n"
     ]
    },
    {
     "name": "stderr",
     "output_type": "stream",
     "text": [
      "C:\\Users\\hirot\\AppData\\Local\\Temp\\ipykernel_29740\\4276536922.py:31: FutureWarning: The frame.append method is deprecated and will be removed from pandas in a future version. Use pandas.concat instead.\n",
      "  dados_df = dados_df.append({'CNPJ': cnpj, 'Sócio-Administrador': socio_administrador, 'Sócio': socio, 'email': email, 'telefone': telefone}, ignore_index=True)\n"
     ]
    },
    {
     "name": "stdout",
     "output_type": "stream",
     "text": [
      "ROGERIO SABADIN MENDES\n",
      "ROUTE HOLDING LTDA\n",
      "empresasrsm@hotmail.com\n",
      "(15) 3222-0766\n",
      "----------\n"
     ]
    },
    {
     "name": "stderr",
     "output_type": "stream",
     "text": [
      "C:\\Users\\hirot\\AppData\\Local\\Temp\\ipykernel_29740\\4276536922.py:31: FutureWarning: The frame.append method is deprecated and will be removed from pandas in a future version. Use pandas.concat instead.\n",
      "  dados_df = dados_df.append({'CNPJ': cnpj, 'Sócio-Administrador': socio_administrador, 'Sócio': socio, 'email': email, 'telefone': telefone}, ignore_index=True)\n"
     ]
    },
    {
     "name": "stdout",
     "output_type": "stream",
     "text": [
      "MIRNA BARELLA GOEDEL\n",
      "MAICOM BARELLA GOEDEL, GLAUBER BARELLA GOEDEL\n",
      "maicombarella@hotmail.com\n",
      "(62) 8332-0371 / (62) 8660-1603\n",
      "----------\n"
     ]
    },
    {
     "name": "stderr",
     "output_type": "stream",
     "text": [
      "C:\\Users\\hirot\\AppData\\Local\\Temp\\ipykernel_29740\\4276536922.py:31: FutureWarning: The frame.append method is deprecated and will be removed from pandas in a future version. Use pandas.concat instead.\n",
      "  dados_df = dados_df.append({'CNPJ': cnpj, 'Sócio-Administrador': socio_administrador, 'Sócio': socio, 'email': email, 'telefone': telefone}, ignore_index=True)\n"
     ]
    },
    {
     "name": "stdout",
     "output_type": "stream",
     "text": [
      "JULIO CEZAR DA SILVA FARIAS\n",
      "não consta na receita\n",
      "institutocontabilempresarial@gmail.com\n",
      "(96) 4141-0371\n",
      "----------\n"
     ]
    },
    {
     "name": "stderr",
     "output_type": "stream",
     "text": [
      "C:\\Users\\hirot\\AppData\\Local\\Temp\\ipykernel_29740\\4276536922.py:31: FutureWarning: The frame.append method is deprecated and will be removed from pandas in a future version. Use pandas.concat instead.\n",
      "  dados_df = dados_df.append({'CNPJ': cnpj, 'Sócio-Administrador': socio_administrador, 'Sócio': socio, 'email': email, 'telefone': telefone}, ignore_index=True)\n",
      "C:\\Users\\hirot\\AppData\\Local\\Temp\\ipykernel_29740\\4276536922.py:31: FutureWarning: The frame.append method is deprecated and will be removed from pandas in a future version. Use pandas.concat instead.\n",
      "  dados_df = dados_df.append({'CNPJ': cnpj, 'Sócio-Administrador': socio_administrador, 'Sócio': socio, 'email': email, 'telefone': telefone}, ignore_index=True)\n"
     ]
    },
    {
     "name": "stdout",
     "output_type": "stream",
     "text": [
      "não consta na receita\n",
      "não consta na receita\n",
      "fae@mhnet.com.br\n",
      "(49) 3664-1697\n",
      "----------\n",
      "não consta na receita\n",
      "não consta na receita\n",
      "fae@mhnet.com.br\n",
      "(49) 3664-3029\n",
      "----------\n"
     ]
    },
    {
     "name": "stderr",
     "output_type": "stream",
     "text": [
      "C:\\Users\\hirot\\AppData\\Local\\Temp\\ipykernel_29740\\4276536922.py:31: FutureWarning: The frame.append method is deprecated and will be removed from pandas in a future version. Use pandas.concat instead.\n",
      "  dados_df = dados_df.append({'CNPJ': cnpj, 'Sócio-Administrador': socio_administrador, 'Sócio': socio, 'email': email, 'telefone': telefone}, ignore_index=True)\n"
     ]
    },
    {
     "name": "stdout",
     "output_type": "stream",
     "text": [
      "não consta na receita\n",
      "não consta na receita\n",
      "fae@mhnet.com.br\n",
      "(49) 3664-3029\n",
      "----------\n"
     ]
    },
    {
     "name": "stderr",
     "output_type": "stream",
     "text": [
      "C:\\Users\\hirot\\AppData\\Local\\Temp\\ipykernel_29740\\4276536922.py:31: FutureWarning: The frame.append method is deprecated and will be removed from pandas in a future version. Use pandas.concat instead.\n",
      "  dados_df = dados_df.append({'CNPJ': cnpj, 'Sócio-Administrador': socio_administrador, 'Sócio': socio, 'email': email, 'telefone': telefone}, ignore_index=True)\n"
     ]
    },
    {
     "name": "stdout",
     "output_type": "stream",
     "text": [
      "LOUISE SILVA ALMEIDA MARTINS, AMANDA SILVA ALMEIDA MARTINS\n",
      "não consta na receita\n",
      "\n",
      "(73) 3525-5825\n",
      "----------\n"
     ]
    },
    {
     "name": "stderr",
     "output_type": "stream",
     "text": [
      "C:\\Users\\hirot\\AppData\\Local\\Temp\\ipykernel_29740\\4276536922.py:31: FutureWarning: The frame.append method is deprecated and will be removed from pandas in a future version. Use pandas.concat instead.\n",
      "  dados_df = dados_df.append({'CNPJ': cnpj, 'Sócio-Administrador': socio_administrador, 'Sócio': socio, 'email': email, 'telefone': telefone}, ignore_index=True)\n"
     ]
    },
    {
     "name": "stdout",
     "output_type": "stream",
     "text": [
      "não consta na receita\n",
      "não consta na receita\n",
      "\n",
      "\n",
      "----------\n"
     ]
    },
    {
     "name": "stderr",
     "output_type": "stream",
     "text": [
      "C:\\Users\\hirot\\AppData\\Local\\Temp\\ipykernel_29740\\4276536922.py:31: FutureWarning: The frame.append method is deprecated and will be removed from pandas in a future version. Use pandas.concat instead.\n",
      "  dados_df = dados_df.append({'CNPJ': cnpj, 'Sócio-Administrador': socio_administrador, 'Sócio': socio, 'email': email, 'telefone': telefone}, ignore_index=True)\n"
     ]
    },
    {
     "name": "stdout",
     "output_type": "stream",
     "text": [
      "não consta na receita\n",
      "não consta na receita\n",
      "\n",
      "(77) 6632-184\n",
      "----------\n"
     ]
    },
    {
     "name": "stderr",
     "output_type": "stream",
     "text": [
      "C:\\Users\\hirot\\AppData\\Local\\Temp\\ipykernel_29740\\4276536922.py:31: FutureWarning: The frame.append method is deprecated and will be removed from pandas in a future version. Use pandas.concat instead.\n",
      "  dados_df = dados_df.append({'CNPJ': cnpj, 'Sócio-Administrador': socio_administrador, 'Sócio': socio, 'email': email, 'telefone': telefone}, ignore_index=True)\n"
     ]
    },
    {
     "name": "stdout",
     "output_type": "stream",
     "text": [
      "JOSE ALCOLUMBRE\n",
      "FRANCISCO DA SILVA VILHENA\n",
      "finan@automoto-ap.com.br\n",
      "(96) 2101-2000 / (96) 2101-2010\n",
      "----------\n"
     ]
    },
    {
     "name": "stderr",
     "output_type": "stream",
     "text": [
      "C:\\Users\\hirot\\AppData\\Local\\Temp\\ipykernel_29740\\4276536922.py:31: FutureWarning: The frame.append method is deprecated and will be removed from pandas in a future version. Use pandas.concat instead.\n",
      "  dados_df = dados_df.append({'CNPJ': cnpj, 'Sócio-Administrador': socio_administrador, 'Sócio': socio, 'email': email, 'telefone': telefone}, ignore_index=True)\n"
     ]
    },
    {
     "name": "stdout",
     "output_type": "stream",
     "text": [
      "não consta na receita\n",
      "não consta na receita\n",
      "\n",
      "(96) 2171-005\n",
      "----------\n"
     ]
    },
    {
     "name": "stderr",
     "output_type": "stream",
     "text": [
      "C:\\Users\\hirot\\AppData\\Local\\Temp\\ipykernel_29740\\4276536922.py:31: FutureWarning: The frame.append method is deprecated and will be removed from pandas in a future version. Use pandas.concat instead.\n",
      "  dados_df = dados_df.append({'CNPJ': cnpj, 'Sócio-Administrador': socio_administrador, 'Sócio': socio, 'email': email, 'telefone': telefone}, ignore_index=True)\n"
     ]
    },
    {
     "name": "stdout",
     "output_type": "stream",
     "text": [
      "não consta na receita\n",
      "não consta na receita\n",
      "\n",
      "\n",
      "----------\n"
     ]
    },
    {
     "name": "stderr",
     "output_type": "stream",
     "text": [
      "C:\\Users\\hirot\\AppData\\Local\\Temp\\ipykernel_29740\\4276536922.py:31: FutureWarning: The frame.append method is deprecated and will be removed from pandas in a future version. Use pandas.concat instead.\n",
      "  dados_df = dados_df.append({'CNPJ': cnpj, 'Sócio-Administrador': socio_administrador, 'Sócio': socio, 'email': email, 'telefone': telefone}, ignore_index=True)\n"
     ]
    },
    {
     "name": "stdout",
     "output_type": "stream",
     "text": [
      "não consta na receita\n",
      "não consta na receita\n",
      "\n",
      "(88) 4151-122\n",
      "----------\n"
     ]
    },
    {
     "name": "stderr",
     "output_type": "stream",
     "text": [
      "C:\\Users\\hirot\\AppData\\Local\\Temp\\ipykernel_29740\\4276536922.py:31: FutureWarning: The frame.append method is deprecated and will be removed from pandas in a future version. Use pandas.concat instead.\n",
      "  dados_df = dados_df.append({'CNPJ': cnpj, 'Sócio-Administrador': socio_administrador, 'Sócio': socio, 'email': email, 'telefone': telefone}, ignore_index=True)\n"
     ]
    },
    {
     "name": "stdout",
     "output_type": "stream",
     "text": [
      "LUCIANO DE PAIVA ALVES\n",
      "não consta na receita\n",
      "postocabodacolina@gmail.com\n",
      "(11) 2092-8044 / (11) 2143-3811\n",
      "----------\n"
     ]
    },
    {
     "name": "stderr",
     "output_type": "stream",
     "text": [
      "C:\\Users\\hirot\\AppData\\Local\\Temp\\ipykernel_29740\\4276536922.py:31: FutureWarning: The frame.append method is deprecated and will be removed from pandas in a future version. Use pandas.concat instead.\n",
      "  dados_df = dados_df.append({'CNPJ': cnpj, 'Sócio-Administrador': socio_administrador, 'Sócio': socio, 'email': email, 'telefone': telefone}, ignore_index=True)\n"
     ]
    },
    {
     "name": "stdout",
     "output_type": "stream",
     "text": [
      "PAULO CESAR GAIESKI, MARCOS ANTONIO LEITE, FRANCISCO CARLOS GAIESKI\n",
      "não consta na receita\n",
      "financeiro2@rede28.com.br\n",
      "(11) 2569-6030\n",
      "----------\n"
     ]
    },
    {
     "name": "stderr",
     "output_type": "stream",
     "text": [
      "C:\\Users\\hirot\\AppData\\Local\\Temp\\ipykernel_29740\\4276536922.py:31: FutureWarning: The frame.append method is deprecated and will be removed from pandas in a future version. Use pandas.concat instead.\n",
      "  dados_df = dados_df.append({'CNPJ': cnpj, 'Sócio-Administrador': socio_administrador, 'Sócio': socio, 'email': email, 'telefone': telefone}, ignore_index=True)\n"
     ]
    },
    {
     "name": "stdout",
     "output_type": "stream",
     "text": [
      "MARIA RITA TEIXEIRA BARBOSA MELO, ANTONIO CARLOS DE MELO\n",
      "não consta na receita\n",
      "\n",
      "(62) 2511-042 / (62) 2511-708\n",
      "----------\n"
     ]
    },
    {
     "name": "stderr",
     "output_type": "stream",
     "text": [
      "C:\\Users\\hirot\\AppData\\Local\\Temp\\ipykernel_29740\\4276536922.py:31: FutureWarning: The frame.append method is deprecated and will be removed from pandas in a future version. Use pandas.concat instead.\n",
      "  dados_df = dados_df.append({'CNPJ': cnpj, 'Sócio-Administrador': socio_administrador, 'Sócio': socio, 'email': email, 'telefone': telefone}, ignore_index=True)\n"
     ]
    },
    {
     "name": "stdout",
     "output_type": "stream",
     "text": [
      "ANGELIQUE DE JAGER\n",
      "não consta na receita\n",
      "\n",
      "(42) 3234-1360 / (42) 2341-118\n",
      "----------\n"
     ]
    },
    {
     "name": "stderr",
     "output_type": "stream",
     "text": [
      "C:\\Users\\hirot\\AppData\\Local\\Temp\\ipykernel_29740\\4276536922.py:31: FutureWarning: The frame.append method is deprecated and will be removed from pandas in a future version. Use pandas.concat instead.\n",
      "  dados_df = dados_df.append({'CNPJ': cnpj, 'Sócio-Administrador': socio_administrador, 'Sócio': socio, 'email': email, 'telefone': telefone}, ignore_index=True)\n"
     ]
    },
    {
     "name": "stdout",
     "output_type": "stream",
     "text": [
      "JOSE BENEDITO MARTINS\n",
      "não consta na receita\n",
      "\n",
      "\n",
      "----------\n"
     ]
    },
    {
     "name": "stderr",
     "output_type": "stream",
     "text": [
      "C:\\Users\\hirot\\AppData\\Local\\Temp\\ipykernel_29740\\4276536922.py:31: FutureWarning: The frame.append method is deprecated and will be removed from pandas in a future version. Use pandas.concat instead.\n",
      "  dados_df = dados_df.append({'CNPJ': cnpj, 'Sócio-Administrador': socio_administrador, 'Sócio': socio, 'email': email, 'telefone': telefone}, ignore_index=True)\n"
     ]
    },
    {
     "name": "stdout",
     "output_type": "stream",
     "text": [
      "VANDEVALDO TEIXEIRA RIOS\n",
      "BARTIRA CARVALHO RIOS\n",
      "fiscal3.orcoma@hotmail.com\n",
      "\n",
      "----------\n"
     ]
    },
    {
     "name": "stderr",
     "output_type": "stream",
     "text": [
      "C:\\Users\\hirot\\AppData\\Local\\Temp\\ipykernel_29740\\4276536922.py:31: FutureWarning: The frame.append method is deprecated and will be removed from pandas in a future version. Use pandas.concat instead.\n",
      "  dados_df = dados_df.append({'CNPJ': cnpj, 'Sócio-Administrador': socio_administrador, 'Sócio': socio, 'email': email, 'telefone': telefone}, ignore_index=True)\n"
     ]
    },
    {
     "name": "stdout",
     "output_type": "stream",
     "text": [
      "TANIA MARIA LOUZADA MAZZI\n",
      "NIVALDO MAZZI\n",
      "\n",
      "\n",
      "----------\n"
     ]
    },
    {
     "name": "stderr",
     "output_type": "stream",
     "text": [
      "C:\\Users\\hirot\\AppData\\Local\\Temp\\ipykernel_29740\\4276536922.py:31: FutureWarning: The frame.append method is deprecated and will be removed from pandas in a future version. Use pandas.concat instead.\n",
      "  dados_df = dados_df.append({'CNPJ': cnpj, 'Sócio-Administrador': socio_administrador, 'Sócio': socio, 'email': email, 'telefone': telefone}, ignore_index=True)\n"
     ]
    },
    {
     "name": "stdout",
     "output_type": "stream",
     "text": [
      "não consta na receita\n",
      "não consta na receita\n",
      "abertura@agrellicontabilidade.com.br\n",
      "(17) 3322-3777\n",
      "----------\n"
     ]
    },
    {
     "name": "stderr",
     "output_type": "stream",
     "text": [
      "C:\\Users\\hirot\\AppData\\Local\\Temp\\ipykernel_29740\\4276536922.py:31: FutureWarning: The frame.append method is deprecated and will be removed from pandas in a future version. Use pandas.concat instead.\n",
      "  dados_df = dados_df.append({'CNPJ': cnpj, 'Sócio-Administrador': socio_administrador, 'Sócio': socio, 'email': email, 'telefone': telefone}, ignore_index=True)\n"
     ]
    },
    {
     "name": "stdout",
     "output_type": "stream",
     "text": [
      "EDUARDO ANTONIO ASSIS\n",
      "ROSANGELA NUNES CAMPOS, LOGICA PARTICIPACOES LTDA.\n",
      "fiscal@jbretas.com.br\n",
      "(31) 2512-2534\n",
      "----------\n"
     ]
    },
    {
     "name": "stderr",
     "output_type": "stream",
     "text": [
      "C:\\Users\\hirot\\AppData\\Local\\Temp\\ipykernel_29740\\4276536922.py:31: FutureWarning: The frame.append method is deprecated and will be removed from pandas in a future version. Use pandas.concat instead.\n",
      "  dados_df = dados_df.append({'CNPJ': cnpj, 'Sócio-Administrador': socio_administrador, 'Sócio': socio, 'email': email, 'telefone': telefone}, ignore_index=True)\n"
     ]
    },
    {
     "name": "stdout",
     "output_type": "stream",
     "text": [
      "MARCIO SANTOS GODINHO\n",
      "não consta na receita\n",
      "redegrl@redegrl.com.br\n",
      "(71) 3246-4700 / (71) 9185-7705 / (71) 3246-4700\n",
      "----------\n"
     ]
    },
    {
     "name": "stderr",
     "output_type": "stream",
     "text": [
      "C:\\Users\\hirot\\AppData\\Local\\Temp\\ipykernel_29740\\4276536922.py:31: FutureWarning: The frame.append method is deprecated and will be removed from pandas in a future version. Use pandas.concat instead.\n",
      "  dados_df = dados_df.append({'CNPJ': cnpj, 'Sócio-Administrador': socio_administrador, 'Sócio': socio, 'email': email, 'telefone': telefone}, ignore_index=True)\n"
     ]
    },
    {
     "name": "stdout",
     "output_type": "stream",
     "text": [
      "não consta na receita\n",
      "não consta na receita\n",
      "redegrl@redegrl.com.br\n",
      "(71) 3246-4700 / (71) 3192-4242 / (32) 4647-00\n",
      "----------\n"
     ]
    },
    {
     "name": "stderr",
     "output_type": "stream",
     "text": [
      "C:\\Users\\hirot\\AppData\\Local\\Temp\\ipykernel_29740\\4276536922.py:31: FutureWarning: The frame.append method is deprecated and will be removed from pandas in a future version. Use pandas.concat instead.\n",
      "  dados_df = dados_df.append({'CNPJ': cnpj, 'Sócio-Administrador': socio_administrador, 'Sócio': socio, 'email': email, 'telefone': telefone}, ignore_index=True)\n"
     ]
    },
    {
     "name": "stdout",
     "output_type": "stream",
     "text": [
      "SERGIO WERNER\n",
      "DANIEL RODRIGO WERNER\n",
      "\n",
      "(49) 6420-177\n",
      "----------\n"
     ]
    },
    {
     "name": "stderr",
     "output_type": "stream",
     "text": [
      "C:\\Users\\hirot\\AppData\\Local\\Temp\\ipykernel_29740\\4276536922.py:31: FutureWarning: The frame.append method is deprecated and will be removed from pandas in a future version. Use pandas.concat instead.\n",
      "  dados_df = dados_df.append({'CNPJ': cnpj, 'Sócio-Administrador': socio_administrador, 'Sócio': socio, 'email': email, 'telefone': telefone}, ignore_index=True)\n"
     ]
    },
    {
     "name": "stdout",
     "output_type": "stream",
     "text": [
      "não consta na receita\n",
      "SHERKE-PARTICIPACOES SOCIETARIAS LTDA, MASUT PARTICIPACOES SOCIETARIAS LTDA\n",
      "contabilidade3@masut.com.br\n",
      "(64) 3411-2289\n",
      "----------\n"
     ]
    },
    {
     "name": "stderr",
     "output_type": "stream",
     "text": [
      "C:\\Users\\hirot\\AppData\\Local\\Temp\\ipykernel_29740\\4276536922.py:31: FutureWarning: The frame.append method is deprecated and will be removed from pandas in a future version. Use pandas.concat instead.\n",
      "  dados_df = dados_df.append({'CNPJ': cnpj, 'Sócio-Administrador': socio_administrador, 'Sócio': socio, 'email': email, 'telefone': telefone}, ignore_index=True)\n"
     ]
    },
    {
     "name": "stdout",
     "output_type": "stream",
     "text": [
      "VINICIUS MANSUR DE GISMENES FRANCO DE SOUZA, SORAYA MANSUR DE GISMENES FRANCO DE SOUZA\n",
      "RAISSA MANSUR DE GISMENES FRANCO DE SOUZA SIMOES\n",
      "legalizacao@confianca-contabilidade.com\n",
      "(19) 3573-7700 / (19) 3573-7701 / (19) 3573-7702\n",
      "----------\n"
     ]
    },
    {
     "name": "stderr",
     "output_type": "stream",
     "text": [
      "C:\\Users\\hirot\\AppData\\Local\\Temp\\ipykernel_29740\\4276536922.py:31: FutureWarning: The frame.append method is deprecated and will be removed from pandas in a future version. Use pandas.concat instead.\n",
      "  dados_df = dados_df.append({'CNPJ': cnpj, 'Sócio-Administrador': socio_administrador, 'Sócio': socio, 'email': email, 'telefone': telefone}, ignore_index=True)\n",
      "C:\\Users\\hirot\\AppData\\Local\\Temp\\ipykernel_29740\\4276536922.py:31: FutureWarning: The frame.append method is deprecated and will be removed from pandas in a future version. Use pandas.concat instead.\n",
      "  dados_df = dados_df.append({'CNPJ': cnpj, 'Sócio-Administrador': socio_administrador, 'Sócio': socio, 'email': email, 'telefone': telefone}, ignore_index=True)\n"
     ]
    },
    {
     "name": "stdout",
     "output_type": "stream",
     "text": [
      "ONEVALDO BUGLIO CERVANTES\n",
      "FELIPE SANTOS BUGLIO\n",
      "stellanega@hotmail.com\n",
      "(67) 3239-1466 / (67) 3239-2434\n",
      "----------\n",
      "EUFLAVIO ODILON RIBEIRO, EUGENIO ODILON RIBEIRO\n",
      "CAIRU PARTICIPACOES S/A\n",
      "contabil@ciclocairu.com.br\n",
      "(69) 3451-0500\n",
      "----------\n"
     ]
    },
    {
     "name": "stderr",
     "output_type": "stream",
     "text": [
      "C:\\Users\\hirot\\AppData\\Local\\Temp\\ipykernel_29740\\4276536922.py:31: FutureWarning: The frame.append method is deprecated and will be removed from pandas in a future version. Use pandas.concat instead.\n",
      "  dados_df = dados_df.append({'CNPJ': cnpj, 'Sócio-Administrador': socio_administrador, 'Sócio': socio, 'email': email, 'telefone': telefone}, ignore_index=True)\n"
     ]
    },
    {
     "name": "stdout",
     "output_type": "stream",
     "text": [
      "MARCELO HERVES ARGENTA\n",
      "CELSO ARGENTA, MOACIR HERVES ARGENTA, ELSA RECH ARGENTA\n",
      "\n",
      "(54) 2351-032\n",
      "----------\n"
     ]
    },
    {
     "name": "stderr",
     "output_type": "stream",
     "text": [
      "C:\\Users\\hirot\\AppData\\Local\\Temp\\ipykernel_29740\\4276536922.py:31: FutureWarning: The frame.append method is deprecated and will be removed from pandas in a future version. Use pandas.concat instead.\n",
      "  dados_df = dados_df.append({'CNPJ': cnpj, 'Sócio-Administrador': socio_administrador, 'Sócio': socio, 'email': email, 'telefone': telefone}, ignore_index=True)\n"
     ]
    },
    {
     "name": "stdout",
     "output_type": "stream",
     "text": [
      "LEONARDO BOSCO\n",
      "não consta na receita\n",
      "adcont@adcontcontabilidade.com.br\n",
      "(62) 3581-1920 / (062) 5812-083\n",
      "----------\n"
     ]
    },
    {
     "name": "stderr",
     "output_type": "stream",
     "text": [
      "C:\\Users\\hirot\\AppData\\Local\\Temp\\ipykernel_29740\\4276536922.py:31: FutureWarning: The frame.append method is deprecated and will be removed from pandas in a future version. Use pandas.concat instead.\n",
      "  dados_df = dados_df.append({'CNPJ': cnpj, 'Sócio-Administrador': socio_administrador, 'Sócio': socio, 'email': email, 'telefone': telefone}, ignore_index=True)\n",
      "C:\\Users\\hirot\\AppData\\Local\\Temp\\ipykernel_29740\\4276536922.py:31: FutureWarning: The frame.append method is deprecated and will be removed from pandas in a future version. Use pandas.concat instead.\n",
      "  dados_df = dados_df.append({'CNPJ': cnpj, 'Sócio-Administrador': socio_administrador, 'Sócio': socio, 'email': email, 'telefone': telefone}, ignore_index=True)\n"
     ]
    },
    {
     "name": "stdout",
     "output_type": "stream",
     "text": [
      "ANDREA CARVALHO ALVES\n",
      "LUCIANA CARVALHO ALVES\n",
      "autopostojaguar@gmail.com\n",
      "(35) 3291-7060 / (35) 2924-892\n",
      "----------\n",
      "LUIZ GUILHERME MIRAGLIA BARBOSA, FRANCISCO MIRAGLIA SIMOES BARBOSA\n",
      "não consta na receita\n",
      "kiko@redelk.com.br\n",
      "(14) 3227-7540\n",
      "----------\n"
     ]
    },
    {
     "name": "stderr",
     "output_type": "stream",
     "text": [
      "C:\\Users\\hirot\\AppData\\Local\\Temp\\ipykernel_29740\\4276536922.py:31: FutureWarning: The frame.append method is deprecated and will be removed from pandas in a future version. Use pandas.concat instead.\n",
      "  dados_df = dados_df.append({'CNPJ': cnpj, 'Sócio-Administrador': socio_administrador, 'Sócio': socio, 'email': email, 'telefone': telefone}, ignore_index=True)\n"
     ]
    },
    {
     "name": "stdout",
     "output_type": "stream",
     "text": [
      "RODRIGO PEREIRA MARQUES, THIAGO PEREIRA MARQUES\n",
      "não consta na receita\n",
      "siare@escritaonline.cnt.br\n",
      "(33) 8763-2730\n",
      "----------\n"
     ]
    },
    {
     "name": "stderr",
     "output_type": "stream",
     "text": [
      "C:\\Users\\hirot\\AppData\\Local\\Temp\\ipykernel_29740\\4276536922.py:31: FutureWarning: The frame.append method is deprecated and will be removed from pandas in a future version. Use pandas.concat instead.\n",
      "  dados_df = dados_df.append({'CNPJ': cnpj, 'Sócio-Administrador': socio_administrador, 'Sócio': socio, 'email': email, 'telefone': telefone}, ignore_index=True)\n"
     ]
    },
    {
     "name": "stdout",
     "output_type": "stream",
     "text": [
      "CESARIO CARLOS DE ALMEIDA FILHO, LUCAS SIQUEIRA BENETTON, GISLEINE CILCEIA BADO DE ALMEIDA, JOAO BATISTA BADO JUNIOR\n",
      "não consta na receita\n",
      "almeidaecia450@gmail.com\n",
      "(15) 3283-6357 / (15) 3283-6357\n",
      "----------\n"
     ]
    },
    {
     "name": "stderr",
     "output_type": "stream",
     "text": [
      "C:\\Users\\hirot\\AppData\\Local\\Temp\\ipykernel_29740\\4276536922.py:31: FutureWarning: The frame.append method is deprecated and will be removed from pandas in a future version. Use pandas.concat instead.\n",
      "  dados_df = dados_df.append({'CNPJ': cnpj, 'Sócio-Administrador': socio_administrador, 'Sócio': socio, 'email': email, 'telefone': telefone}, ignore_index=True)\n"
     ]
    },
    {
     "name": "stdout",
     "output_type": "stream",
     "text": [
      "ADELTON ANTONIO FEVEREIRO\n",
      "não consta na receita\n",
      "\n",
      "(44) 2471-606\n",
      "----------\n"
     ]
    },
    {
     "name": "stderr",
     "output_type": "stream",
     "text": [
      "C:\\Users\\hirot\\AppData\\Local\\Temp\\ipykernel_29740\\4276536922.py:31: FutureWarning: The frame.append method is deprecated and will be removed from pandas in a future version. Use pandas.concat instead.\n",
      "  dados_df = dados_df.append({'CNPJ': cnpj, 'Sócio-Administrador': socio_administrador, 'Sócio': socio, 'email': email, 'telefone': telefone}, ignore_index=True)\n"
     ]
    },
    {
     "name": "stdout",
     "output_type": "stream",
     "text": [
      "REGINA ASSUNCAO NAVES MELO\n",
      "CESAR BORGES DOS SANTOS\n",
      "\n",
      "\n",
      "----------\n"
     ]
    },
    {
     "name": "stderr",
     "output_type": "stream",
     "text": [
      "C:\\Users\\hirot\\AppData\\Local\\Temp\\ipykernel_29740\\4276536922.py:31: FutureWarning: The frame.append method is deprecated and will be removed from pandas in a future version. Use pandas.concat instead.\n",
      "  dados_df = dados_df.append({'CNPJ': cnpj, 'Sócio-Administrador': socio_administrador, 'Sócio': socio, 'email': email, 'telefone': telefone}, ignore_index=True)\n"
     ]
    },
    {
     "name": "stdout",
     "output_type": "stream",
     "text": [
      "AMARILDO LOPES GIL MARIANI, ARI FELTRIN\n",
      "não consta na receita\n",
      "\n",
      "\n",
      "----------\n"
     ]
    },
    {
     "name": "stderr",
     "output_type": "stream",
     "text": [
      "C:\\Users\\hirot\\AppData\\Local\\Temp\\ipykernel_29740\\4276536922.py:31: FutureWarning: The frame.append method is deprecated and will be removed from pandas in a future version. Use pandas.concat instead.\n",
      "  dados_df = dados_df.append({'CNPJ': cnpj, 'Sócio-Administrador': socio_administrador, 'Sócio': socio, 'email': email, 'telefone': telefone}, ignore_index=True)\n"
     ]
    },
    {
     "name": "stdout",
     "output_type": "stream",
     "text": [
      "EDI MARIA BARCKERT FAVARETTO\n",
      "JOSELI JOSE FAVARETTO\n",
      "\n",
      "(51) 3770-1001 / (51) 3770-1173\n",
      "----------\n"
     ]
    },
    {
     "name": "stderr",
     "output_type": "stream",
     "text": [
      "C:\\Users\\hirot\\AppData\\Local\\Temp\\ipykernel_29740\\4276536922.py:31: FutureWarning: The frame.append method is deprecated and will be removed from pandas in a future version. Use pandas.concat instead.\n",
      "  dados_df = dados_df.append({'CNPJ': cnpj, 'Sócio-Administrador': socio_administrador, 'Sócio': socio, 'email': email, 'telefone': telefone}, ignore_index=True)\n",
      "C:\\Users\\hirot\\AppData\\Local\\Temp\\ipykernel_29740\\4276536922.py:31: FutureWarning: The frame.append method is deprecated and will be removed from pandas in a future version. Use pandas.concat instead.\n",
      "  dados_df = dados_df.append({'CNPJ': cnpj, 'Sócio-Administrador': socio_administrador, 'Sócio': socio, 'email': email, 'telefone': telefone}, ignore_index=True)\n"
     ]
    },
    {
     "name": "stdout",
     "output_type": "stream",
     "text": [
      "CLOVIS EDGAR MORSCHBACHER\n",
      "CLEOFAS JOSE MORSCHBACHER\n",
      "\n",
      "(51) 3762-1361 / (51) 3762-2790\n",
      "----------\n",
      "não consta na receita\n",
      "não consta na receita\n",
      "\n",
      "(51) 3762-2555\n",
      "----------\n"
     ]
    },
    {
     "name": "stderr",
     "output_type": "stream",
     "text": [
      "C:\\Users\\hirot\\AppData\\Local\\Temp\\ipykernel_29740\\4276536922.py:31: FutureWarning: The frame.append method is deprecated and will be removed from pandas in a future version. Use pandas.concat instead.\n",
      "  dados_df = dados_df.append({'CNPJ': cnpj, 'Sócio-Administrador': socio_administrador, 'Sócio': socio, 'email': email, 'telefone': telefone}, ignore_index=True)\n"
     ]
    },
    {
     "name": "stdout",
     "output_type": "stream",
     "text": [
      "não consta na receita\n",
      "não consta na receita\n",
      "sd@sdcontabil.srv.br\n",
      "(51) 3762-2555\n",
      "----------\n"
     ]
    },
    {
     "name": "stderr",
     "output_type": "stream",
     "text": [
      "C:\\Users\\hirot\\AppData\\Local\\Temp\\ipykernel_29740\\4276536922.py:31: FutureWarning: The frame.append method is deprecated and will be removed from pandas in a future version. Use pandas.concat instead.\n",
      "  dados_df = dados_df.append({'CNPJ': cnpj, 'Sócio-Administrador': socio_administrador, 'Sócio': socio, 'email': email, 'telefone': telefone}, ignore_index=True)\n"
     ]
    },
    {
     "name": "stdout",
     "output_type": "stream",
     "text": [
      "VALDELIR LUIS DARIVA\n",
      "LIDIA SMAGALLA DARIVA\n",
      "\n",
      "\n",
      "----------\n"
     ]
    },
    {
     "name": "stderr",
     "output_type": "stream",
     "text": [
      "C:\\Users\\hirot\\AppData\\Local\\Temp\\ipykernel_29740\\4276536922.py:31: FutureWarning: The frame.append method is deprecated and will be removed from pandas in a future version. Use pandas.concat instead.\n",
      "  dados_df = dados_df.append({'CNPJ': cnpj, 'Sócio-Administrador': socio_administrador, 'Sócio': socio, 'email': email, 'telefone': telefone}, ignore_index=True)\n"
     ]
    },
    {
     "name": "stdout",
     "output_type": "stream",
     "text": [
      "EDVALDO GONCALVES VARJAO, CARLOS MENEZES PEREIRA\n",
      "não consta na receita\n",
      "\n",
      "\n",
      "----------\n"
     ]
    },
    {
     "name": "stderr",
     "output_type": "stream",
     "text": [
      "C:\\Users\\hirot\\AppData\\Local\\Temp\\ipykernel_29740\\4276536922.py:31: FutureWarning: The frame.append method is deprecated and will be removed from pandas in a future version. Use pandas.concat instead.\n",
      "  dados_df = dados_df.append({'CNPJ': cnpj, 'Sócio-Administrador': socio_administrador, 'Sócio': socio, 'email': email, 'telefone': telefone}, ignore_index=True)\n"
     ]
    },
    {
     "name": "stdout",
     "output_type": "stream",
     "text": [
      "não consta na receita\n",
      "não consta na receita\n",
      "\n",
      "(98) 6550-020\n",
      "----------\n"
     ]
    },
    {
     "name": "stderr",
     "output_type": "stream",
     "text": [
      "C:\\Users\\hirot\\AppData\\Local\\Temp\\ipykernel_29740\\4276536922.py:31: FutureWarning: The frame.append method is deprecated and will be removed from pandas in a future version. Use pandas.concat instead.\n",
      "  dados_df = dados_df.append({'CNPJ': cnpj, 'Sócio-Administrador': socio_administrador, 'Sócio': socio, 'email': email, 'telefone': telefone}, ignore_index=True)\n"
     ]
    },
    {
     "name": "stdout",
     "output_type": "stream",
     "text": [
      "AUREA ELIETE FAXINA BELTRAMIN\n",
      "MAURICIO BELTRAMIN\n",
      "\n",
      "(0044) 6431-310 / (0044) 6431-310\n",
      "----------\n"
     ]
    },
    {
     "name": "stderr",
     "output_type": "stream",
     "text": [
      "C:\\Users\\hirot\\AppData\\Local\\Temp\\ipykernel_29740\\4276536922.py:31: FutureWarning: The frame.append method is deprecated and will be removed from pandas in a future version. Use pandas.concat instead.\n",
      "  dados_df = dados_df.append({'CNPJ': cnpj, 'Sócio-Administrador': socio_administrador, 'Sócio': socio, 'email': email, 'telefone': telefone}, ignore_index=True)\n"
     ]
    },
    {
     "name": "stdout",
     "output_type": "stream",
     "text": [
      "ALEXANDRE MORAIS DE SOUZA\n",
      "LUCIANE DE ANDRADE FREITAS E SOUZA\n",
      "fiscal@docfrutal.com.br\n",
      "\n",
      "----------\n"
     ]
    },
    {
     "name": "stderr",
     "output_type": "stream",
     "text": [
      "C:\\Users\\hirot\\AppData\\Local\\Temp\\ipykernel_29740\\4276536922.py:31: FutureWarning: The frame.append method is deprecated and will be removed from pandas in a future version. Use pandas.concat instead.\n",
      "  dados_df = dados_df.append({'CNPJ': cnpj, 'Sócio-Administrador': socio_administrador, 'Sócio': socio, 'email': email, 'telefone': telefone}, ignore_index=True)\n"
     ]
    },
    {
     "name": "stdout",
     "output_type": "stream",
     "text": [
      "FIDEL DE SA MAGALHAES\n",
      "não consta na receita\n",
      "\n",
      "\n",
      "----------\n"
     ]
    },
    {
     "name": "stderr",
     "output_type": "stream",
     "text": [
      "C:\\Users\\hirot\\AppData\\Local\\Temp\\ipykernel_29740\\4276536922.py:31: FutureWarning: The frame.append method is deprecated and will be removed from pandas in a future version. Use pandas.concat instead.\n",
      "  dados_df = dados_df.append({'CNPJ': cnpj, 'Sócio-Administrador': socio_administrador, 'Sócio': socio, 'email': email, 'telefone': telefone}, ignore_index=True)\n"
     ]
    },
    {
     "name": "stdout",
     "output_type": "stream",
     "text": [
      "JOAO LUIZ CARVALHO DA SILVA, IVONETE CARVALHO DA SILVA\n",
      "GILDA RIBEIRO DE CARVALHO SILVA\n",
      "corujaomatriz@hotmail.com\n",
      "(86) 9853-9696\n",
      "----------\n"
     ]
    },
    {
     "name": "stderr",
     "output_type": "stream",
     "text": [
      "C:\\Users\\hirot\\AppData\\Local\\Temp\\ipykernel_29740\\4276536922.py:31: FutureWarning: The frame.append method is deprecated and will be removed from pandas in a future version. Use pandas.concat instead.\n",
      "  dados_df = dados_df.append({'CNPJ': cnpj, 'Sócio-Administrador': socio_administrador, 'Sócio': socio, 'email': email, 'telefone': telefone}, ignore_index=True)\n"
     ]
    },
    {
     "name": "stdout",
     "output_type": "stream",
     "text": [
      "não consta na receita\n",
      "não consta na receita\n",
      "djacicosta@ig.com.br\n",
      "(86) 9950-4339/ (86) 3221-1137\n",
      "----------\n"
     ]
    },
    {
     "name": "stderr",
     "output_type": "stream",
     "text": [
      "C:\\Users\\hirot\\AppData\\Local\\Temp\\ipykernel_29740\\4276536922.py:31: FutureWarning: The frame.append method is deprecated and will be removed from pandas in a future version. Use pandas.concat instead.\n",
      "  dados_df = dados_df.append({'CNPJ': cnpj, 'Sócio-Administrador': socio_administrador, 'Sócio': socio, 'email': email, 'telefone': telefone}, ignore_index=True)\n"
     ]
    },
    {
     "name": "stdout",
     "output_type": "stream",
     "text": [
      "JOAO MARCELO DE CARVALHO GOMES\n",
      "JG ADMINISTRADORA DE ATIVOS E PARTICIPACOES SOCIETARIAS LTDA\n",
      "\n",
      "(44) 2243-600 / (44) 2243-600\n",
      "----------\n"
     ]
    },
    {
     "name": "stderr",
     "output_type": "stream",
     "text": [
      "C:\\Users\\hirot\\AppData\\Local\\Temp\\ipykernel_29740\\4276536922.py:31: FutureWarning: The frame.append method is deprecated and will be removed from pandas in a future version. Use pandas.concat instead.\n",
      "  dados_df = dados_df.append({'CNPJ': cnpj, 'Sócio-Administrador': socio_administrador, 'Sócio': socio, 'email': email, 'telefone': telefone}, ignore_index=True)\n"
     ]
    },
    {
     "name": "stdout",
     "output_type": "stream",
     "text": [
      "ROSNEI LUIZ TOZETTO\n",
      "LETICIA BUENO TOZETTO\n",
      "\n",
      "(47) 3300-322\n",
      "----------\n"
     ]
    },
    {
     "name": "stderr",
     "output_type": "stream",
     "text": [
      "C:\\Users\\hirot\\AppData\\Local\\Temp\\ipykernel_29740\\4276536922.py:31: FutureWarning: The frame.append method is deprecated and will be removed from pandas in a future version. Use pandas.concat instead.\n",
      "  dados_df = dados_df.append({'CNPJ': cnpj, 'Sócio-Administrador': socio_administrador, 'Sócio': socio, 'email': email, 'telefone': telefone}, ignore_index=True)\n"
     ]
    },
    {
     "name": "stdout",
     "output_type": "stream",
     "text": [
      "GRAYLIN NICOLE BEJARANO BERNAL, CARLOS ALBERTO POLICARPIO BEJARANO BERNAL\n",
      "não consta na receita\n",
      "\n",
      "\n",
      "----------\n"
     ]
    },
    {
     "name": "stderr",
     "output_type": "stream",
     "text": [
      "C:\\Users\\hirot\\AppData\\Local\\Temp\\ipykernel_29740\\4276536922.py:31: FutureWarning: The frame.append method is deprecated and will be removed from pandas in a future version. Use pandas.concat instead.\n",
      "  dados_df = dados_df.append({'CNPJ': cnpj, 'Sócio-Administrador': socio_administrador, 'Sócio': socio, 'email': email, 'telefone': telefone}, ignore_index=True)\n"
     ]
    },
    {
     "name": "stdout",
     "output_type": "stream",
     "text": [
      "não consta na receita\n",
      "não consta na receita\n",
      "\n",
      "(98) 3475-1317\n",
      "----------\n"
     ]
    },
    {
     "name": "stderr",
     "output_type": "stream",
     "text": [
      "C:\\Users\\hirot\\AppData\\Local\\Temp\\ipykernel_29740\\4276536922.py:31: FutureWarning: The frame.append method is deprecated and will be removed from pandas in a future version. Use pandas.concat instead.\n",
      "  dados_df = dados_df.append({'CNPJ': cnpj, 'Sócio-Administrador': socio_administrador, 'Sócio': socio, 'email': email, 'telefone': telefone}, ignore_index=True)\n"
     ]
    },
    {
     "name": "stdout",
     "output_type": "stream",
     "text": [
      "LUIZ ANTONIO TEIXEIRA\n",
      "CHRISLIANNE ANDRADE SONI TEIXEIRA\n",
      "postovicentemachado@uol.com.br\n",
      "(41) 3022-2422\n",
      "----------\n"
     ]
    },
    {
     "name": "stderr",
     "output_type": "stream",
     "text": [
      "C:\\Users\\hirot\\AppData\\Local\\Temp\\ipykernel_29740\\4276536922.py:31: FutureWarning: The frame.append method is deprecated and will be removed from pandas in a future version. Use pandas.concat instead.\n",
      "  dados_df = dados_df.append({'CNPJ': cnpj, 'Sócio-Administrador': socio_administrador, 'Sócio': socio, 'email': email, 'telefone': telefone}, ignore_index=True)\n"
     ]
    },
    {
     "name": "stdout",
     "output_type": "stream",
     "text": [
      "DELANE ALMEIDA RAMOS, DARLAN ALMEIDA RAMOS, DAILSON ALMEIDA RAMOS, DELMO ALMEIDA RAMOS\n",
      "DECIO ALMEIDA RAMOS, ACELE DE ALMEIDA RAMOS, DENIZ RAMOS PRATA\n",
      "adm@pbandeirante.com.br\n",
      "(62) 3251-1042 / (62) 3251-1708 / (62) 3251-9929\n",
      "----------\n"
     ]
    },
    {
     "name": "stderr",
     "output_type": "stream",
     "text": [
      "C:\\Users\\hirot\\AppData\\Local\\Temp\\ipykernel_29740\\4276536922.py:31: FutureWarning: The frame.append method is deprecated and will be removed from pandas in a future version. Use pandas.concat instead.\n",
      "  dados_df = dados_df.append({'CNPJ': cnpj, 'Sócio-Administrador': socio_administrador, 'Sócio': socio, 'email': email, 'telefone': telefone}, ignore_index=True)\n"
     ]
    },
    {
     "name": "stdout",
     "output_type": "stream",
     "text": [
      "DEONYRCE BOTTAN BUGATTI\n",
      "ROSANA BUGATTI CREPALDI, LUCIANO BUGATTI, LUIS CLAUDIO BUGATTI\n",
      "\n",
      "\n",
      "----------\n"
     ]
    },
    {
     "name": "stderr",
     "output_type": "stream",
     "text": [
      "C:\\Users\\hirot\\AppData\\Local\\Temp\\ipykernel_29740\\4276536922.py:31: FutureWarning: The frame.append method is deprecated and will be removed from pandas in a future version. Use pandas.concat instead.\n",
      "  dados_df = dados_df.append({'CNPJ': cnpj, 'Sócio-Administrador': socio_administrador, 'Sócio': socio, 'email': email, 'telefone': telefone}, ignore_index=True)\n"
     ]
    },
    {
     "name": "stdout",
     "output_type": "stream",
     "text": [
      "ANTONIO MENDES NETO\n",
      "não consta na receita\n",
      "aeropostos.aline@gmail.com\n",
      "(51) 3651-1988\n",
      "----------\n"
     ]
    },
    {
     "name": "stderr",
     "output_type": "stream",
     "text": [
      "C:\\Users\\hirot\\AppData\\Local\\Temp\\ipykernel_29740\\4276536922.py:31: FutureWarning: The frame.append method is deprecated and will be removed from pandas in a future version. Use pandas.concat instead.\n",
      "  dados_df = dados_df.append({'CNPJ': cnpj, 'Sócio-Administrador': socio_administrador, 'Sócio': socio, 'email': email, 'telefone': telefone}, ignore_index=True)\n",
      "C:\\Users\\hirot\\AppData\\Local\\Temp\\ipykernel_29740\\4276536922.py:31: FutureWarning: The frame.append method is deprecated and will be removed from pandas in a future version. Use pandas.concat instead.\n",
      "  dados_df = dados_df.append({'CNPJ': cnpj, 'Sócio-Administrador': socio_administrador, 'Sócio': socio, 'email': email, 'telefone': telefone}, ignore_index=True)\n"
     ]
    },
    {
     "name": "stdout",
     "output_type": "stream",
     "text": [
      "ROGERIO DE ARAUJO AVILA, MARCELO ARAUJO AVILA\n",
      "não consta na receita\n",
      "\n",
      "\n",
      "----------\n",
      "NAZI OMAIRI\n",
      "SUSANE MELCHIOR OMAIRI\n",
      "\n",
      "(45) 5744-601\n",
      "----------\n"
     ]
    },
    {
     "name": "stderr",
     "output_type": "stream",
     "text": [
      "C:\\Users\\hirot\\AppData\\Local\\Temp\\ipykernel_29740\\4276536922.py:31: FutureWarning: The frame.append method is deprecated and will be removed from pandas in a future version. Use pandas.concat instead.\n",
      "  dados_df = dados_df.append({'CNPJ': cnpj, 'Sócio-Administrador': socio_administrador, 'Sócio': socio, 'email': email, 'telefone': telefone}, ignore_index=True)\n"
     ]
    },
    {
     "name": "stdout",
     "output_type": "stream",
     "text": [
      "não consta na receita\n",
      "não consta na receita\n",
      "\n",
      "\n",
      "----------\n"
     ]
    },
    {
     "name": "stderr",
     "output_type": "stream",
     "text": [
      "C:\\Users\\hirot\\AppData\\Local\\Temp\\ipykernel_29740\\4276536922.py:31: FutureWarning: The frame.append method is deprecated and will be removed from pandas in a future version. Use pandas.concat instead.\n",
      "  dados_df = dados_df.append({'CNPJ': cnpj, 'Sócio-Administrador': socio_administrador, 'Sócio': socio, 'email': email, 'telefone': telefone}, ignore_index=True)\n",
      "C:\\Users\\hirot\\AppData\\Local\\Temp\\ipykernel_29740\\4276536922.py:31: FutureWarning: The frame.append method is deprecated and will be removed from pandas in a future version. Use pandas.concat instead.\n",
      "  dados_df = dados_df.append({'CNPJ': cnpj, 'Sócio-Administrador': socio_administrador, 'Sócio': socio, 'email': email, 'telefone': telefone}, ignore_index=True)\n"
     ]
    },
    {
     "name": "stdout",
     "output_type": "stream",
     "text": [
      "não consta na receita\n",
      "não consta na receita\n",
      "\n",
      "(96) 3224-0530\n",
      "----------\n",
      "não consta na receita\n",
      "não consta na receita\n",
      "\n",
      "(96) 2171-873\n",
      "----------\n"
     ]
    },
    {
     "name": "stderr",
     "output_type": "stream",
     "text": [
      "C:\\Users\\hirot\\AppData\\Local\\Temp\\ipykernel_29740\\4276536922.py:31: FutureWarning: The frame.append method is deprecated and will be removed from pandas in a future version. Use pandas.concat instead.\n",
      "  dados_df = dados_df.append({'CNPJ': cnpj, 'Sócio-Administrador': socio_administrador, 'Sócio': socio, 'email': email, 'telefone': telefone}, ignore_index=True)\n"
     ]
    },
    {
     "name": "stdout",
     "output_type": "stream",
     "text": [
      "WILSON JOSE ROGE FERREIRA\n",
      "não consta na receita\n",
      "legalizacao@escritoriogold.com.br\n",
      "(15) 3342-8451\n",
      "----------\n"
     ]
    },
    {
     "name": "stderr",
     "output_type": "stream",
     "text": [
      "C:\\Users\\hirot\\AppData\\Local\\Temp\\ipykernel_29740\\4276536922.py:31: FutureWarning: The frame.append method is deprecated and will be removed from pandas in a future version. Use pandas.concat instead.\n",
      "  dados_df = dados_df.append({'CNPJ': cnpj, 'Sócio-Administrador': socio_administrador, 'Sócio': socio, 'email': email, 'telefone': telefone}, ignore_index=True)\n"
     ]
    },
    {
     "name": "stdout",
     "output_type": "stream",
     "text": [
      "JOSE ELIAS BRAGANCA NETO, CLAUDIA HALIUC\n",
      "não consta na receita\n",
      "mota@contar.cnt.br\n",
      "(11) 5904-6664 / (11) 9987-7101 / (11) 3572-0501\n",
      "----------\n"
     ]
    },
    {
     "name": "stderr",
     "output_type": "stream",
     "text": [
      "C:\\Users\\hirot\\AppData\\Local\\Temp\\ipykernel_29740\\4276536922.py:31: FutureWarning: The frame.append method is deprecated and will be removed from pandas in a future version. Use pandas.concat instead.\n",
      "  dados_df = dados_df.append({'CNPJ': cnpj, 'Sócio-Administrador': socio_administrador, 'Sócio': socio, 'email': email, 'telefone': telefone}, ignore_index=True)\n"
     ]
    },
    {
     "name": "stdout",
     "output_type": "stream",
     "text": [
      "ITACIR ARALDI\n",
      "CLAUDIO JOAO ARALDI\n",
      "postocooperado@yahoo.com.br\n",
      "(49) 3522-5105/ (49) 3522-1233\n",
      "----------\n"
     ]
    },
    {
     "name": "stderr",
     "output_type": "stream",
     "text": [
      "C:\\Users\\hirot\\AppData\\Local\\Temp\\ipykernel_29740\\4276536922.py:31: FutureWarning: The frame.append method is deprecated and will be removed from pandas in a future version. Use pandas.concat instead.\n",
      "  dados_df = dados_df.append({'CNPJ': cnpj, 'Sócio-Administrador': socio_administrador, 'Sócio': socio, 'email': email, 'telefone': telefone}, ignore_index=True)\n"
     ]
    },
    {
     "name": "stdout",
     "output_type": "stream",
     "text": [
      "não consta na receita\n",
      "não consta na receita\n",
      "postomercosul@postosparati.com.br\n",
      "(55) 3352-1786\n",
      "----------\n"
     ]
    },
    {
     "name": "stderr",
     "output_type": "stream",
     "text": [
      "C:\\Users\\hirot\\AppData\\Local\\Temp\\ipykernel_29740\\4276536922.py:31: FutureWarning: The frame.append method is deprecated and will be removed from pandas in a future version. Use pandas.concat instead.\n",
      "  dados_df = dados_df.append({'CNPJ': cnpj, 'Sócio-Administrador': socio_administrador, 'Sócio': socio, 'email': email, 'telefone': telefone}, ignore_index=True)\n",
      "C:\\Users\\hirot\\AppData\\Local\\Temp\\ipykernel_29740\\4276536922.py:31: FutureWarning: The frame.append method is deprecated and will be removed from pandas in a future version. Use pandas.concat instead.\n",
      "  dados_df = dados_df.append({'CNPJ': cnpj, 'Sócio-Administrador': socio_administrador, 'Sócio': socio, 'email': email, 'telefone': telefone}, ignore_index=True)\n"
     ]
    },
    {
     "name": "stdout",
     "output_type": "stream",
     "text": [
      "não consta na receita\n",
      "não consta na receita\n",
      "paratiijui@postosparati.com.br\n",
      "(55) 3332-9170\n",
      "----------\n",
      "não consta na receita\n",
      "não consta na receita\n",
      "postocoronelbarros@postosparati.com.br\n",
      "(55) 3333-9207\n",
      "----------\n"
     ]
    },
    {
     "name": "stderr",
     "output_type": "stream",
     "text": [
      "C:\\Users\\hirot\\AppData\\Local\\Temp\\ipykernel_29740\\4276536922.py:31: FutureWarning: The frame.append method is deprecated and will be removed from pandas in a future version. Use pandas.concat instead.\n",
      "  dados_df = dados_df.append({'CNPJ': cnpj, 'Sócio-Administrador': socio_administrador, 'Sócio': socio, 'email': email, 'telefone': telefone}, ignore_index=True)\n",
      "C:\\Users\\hirot\\AppData\\Local\\Temp\\ipykernel_29740\\4276536922.py:31: FutureWarning: The frame.append method is deprecated and will be removed from pandas in a future version. Use pandas.concat instead.\n",
      "  dados_df = dados_df.append({'CNPJ': cnpj, 'Sócio-Administrador': socio_administrador, 'Sócio': socio, 'email': email, 'telefone': telefone}, ignore_index=True)\n"
     ]
    },
    {
     "name": "stdout",
     "output_type": "stream",
     "text": [
      "VALDIR ANTONIO VICENTE\n",
      "SIRLENE FERREIRA DE OLIVEIRA VICENTE\n",
      "eschumaita2@hotmail.com\n",
      "(97) 3373-1123 / (97) 8116-8640 / (97) 3373-1123\n",
      "----------\n",
      "não consta na receita\n",
      "não consta na receita\n",
      "eschumaita4@hotmail.com\n",
      "(97) 3373-1223/ (97) 8116-4640\n",
      "----------\n"
     ]
    },
    {
     "name": "stderr",
     "output_type": "stream",
     "text": [
      "C:\\Users\\hirot\\AppData\\Local\\Temp\\ipykernel_29740\\4276536922.py:31: FutureWarning: The frame.append method is deprecated and will be removed from pandas in a future version. Use pandas.concat instead.\n",
      "  dados_df = dados_df.append({'CNPJ': cnpj, 'Sócio-Administrador': socio_administrador, 'Sócio': socio, 'email': email, 'telefone': telefone}, ignore_index=True)\n"
     ]
    },
    {
     "name": "stdout",
     "output_type": "stream",
     "text": [
      "EZEQUIEL FRANCISCO BONFANTI, MOACIR BONFANTI\n",
      "não consta na receita\n",
      "\n",
      "\n",
      "----------\n"
     ]
    },
    {
     "name": "stderr",
     "output_type": "stream",
     "text": [
      "C:\\Users\\hirot\\AppData\\Local\\Temp\\ipykernel_29740\\4276536922.py:31: FutureWarning: The frame.append method is deprecated and will be removed from pandas in a future version. Use pandas.concat instead.\n",
      "  dados_df = dados_df.append({'CNPJ': cnpj, 'Sócio-Administrador': socio_administrador, 'Sócio': socio, 'email': email, 'telefone': telefone}, ignore_index=True)\n"
     ]
    },
    {
     "name": "stdout",
     "output_type": "stream",
     "text": [
      "RODRIGO SILVA DE MORAES, ANA CRISTINA DE SOUSA SILVA\n",
      "não consta na receita\n",
      "fiscal@rederpb.com.br\n",
      "(79) 3522-2476 / (79) 5222-755\n",
      "----------\n"
     ]
    },
    {
     "name": "stderr",
     "output_type": "stream",
     "text": [
      "C:\\Users\\hirot\\AppData\\Local\\Temp\\ipykernel_29740\\4276536922.py:31: FutureWarning: The frame.append method is deprecated and will be removed from pandas in a future version. Use pandas.concat instead.\n",
      "  dados_df = dados_df.append({'CNPJ': cnpj, 'Sócio-Administrador': socio_administrador, 'Sócio': socio, 'email': email, 'telefone': telefone}, ignore_index=True)\n"
     ]
    },
    {
     "name": "stdout",
     "output_type": "stream",
     "text": [
      "não consta na receita\n",
      "não consta na receita\n",
      "fiscal@rederpb.com.br\n",
      "(79) 3522-2476 / (79) 5222-755\n",
      "----------\n"
     ]
    },
    {
     "name": "stderr",
     "output_type": "stream",
     "text": [
      "C:\\Users\\hirot\\AppData\\Local\\Temp\\ipykernel_29740\\4276536922.py:31: FutureWarning: The frame.append method is deprecated and will be removed from pandas in a future version. Use pandas.concat instead.\n",
      "  dados_df = dados_df.append({'CNPJ': cnpj, 'Sócio-Administrador': socio_administrador, 'Sócio': socio, 'email': email, 'telefone': telefone}, ignore_index=True)\n"
     ]
    },
    {
     "name": "stdout",
     "output_type": "stream",
     "text": [
      "não consta na receita\n",
      "não consta na receita\n",
      "fiscal@rederpb.com.br\n",
      "(79) 3522-2476\n",
      "----------\n"
     ]
    },
    {
     "name": "stderr",
     "output_type": "stream",
     "text": [
      "C:\\Users\\hirot\\AppData\\Local\\Temp\\ipykernel_29740\\4276536922.py:31: FutureWarning: The frame.append method is deprecated and will be removed from pandas in a future version. Use pandas.concat instead.\n",
      "  dados_df = dados_df.append({'CNPJ': cnpj, 'Sócio-Administrador': socio_administrador, 'Sócio': socio, 'email': email, 'telefone': telefone}, ignore_index=True)\n"
     ]
    },
    {
     "name": "stdout",
     "output_type": "stream",
     "text": [
      "MARIO LUIS FURTADO DE MORAIS\n",
      "não consta na receita\n",
      "contato@elloscontabil.com.br\n",
      "(19) 3232-2902\n",
      "----------\n"
     ]
    },
    {
     "name": "stderr",
     "output_type": "stream",
     "text": [
      "C:\\Users\\hirot\\AppData\\Local\\Temp\\ipykernel_29740\\4276536922.py:31: FutureWarning: The frame.append method is deprecated and will be removed from pandas in a future version. Use pandas.concat instead.\n",
      "  dados_df = dados_df.append({'CNPJ': cnpj, 'Sócio-Administrador': socio_administrador, 'Sócio': socio, 'email': email, 'telefone': telefone}, ignore_index=True)\n"
     ]
    },
    {
     "name": "stdout",
     "output_type": "stream",
     "text": [
      "não consta na receita\n",
      "PRA PARTICIPACOES LTDA, JAAII PARTICIPACOES LTDA, JAQUELINE DO COUTO NEVES PASSOS, DENISE DO NASCIMENTO SANTOS, ICDB PARTICIPACOES LTDA, THAIS GOMES DAS CHAGAS TAVARES, BELLA'S PARTICIPACOES LTDA, BEATRIZ BASTOS PARTICIPACOES LTDA\n",
      "adm@redeblas.com.br\n",
      "(21) 3795-8552\n",
      "----------\n"
     ]
    },
    {
     "name": "stderr",
     "output_type": "stream",
     "text": [
      "C:\\Users\\hirot\\AppData\\Local\\Temp\\ipykernel_29740\\4276536922.py:31: FutureWarning: The frame.append method is deprecated and will be removed from pandas in a future version. Use pandas.concat instead.\n",
      "  dados_df = dados_df.append({'CNPJ': cnpj, 'Sócio-Administrador': socio_administrador, 'Sócio': socio, 'email': email, 'telefone': telefone}, ignore_index=True)\n"
     ]
    },
    {
     "name": "stdout",
     "output_type": "stream",
     "text": [
      "não consta na receita\n",
      "não consta na receita\n",
      "\n",
      "(85) 3483-2232 / (85) 3483-7333 / (85) 3484-4505\n",
      "----------\n"
     ]
    },
    {
     "name": "stderr",
     "output_type": "stream",
     "text": [
      "C:\\Users\\hirot\\AppData\\Local\\Temp\\ipykernel_29740\\4276536922.py:31: FutureWarning: The frame.append method is deprecated and will be removed from pandas in a future version. Use pandas.concat instead.\n",
      "  dados_df = dados_df.append({'CNPJ': cnpj, 'Sócio-Administrador': socio_administrador, 'Sócio': socio, 'email': email, 'telefone': telefone}, ignore_index=True)\n"
     ]
    },
    {
     "name": "stdout",
     "output_type": "stream",
     "text": [
      "PEDRO VALADARES GONTIJO, PEDRO HENRIQUE CARDOSO FURTADO\n",
      "não consta na receita\n",
      "legalizacao@revendacontabil.com.br\n",
      "(31) 9611-8683 / (31) 3271-2934\n",
      "----------\n"
     ]
    },
    {
     "name": "stderr",
     "output_type": "stream",
     "text": [
      "C:\\Users\\hirot\\AppData\\Local\\Temp\\ipykernel_29740\\4276536922.py:31: FutureWarning: The frame.append method is deprecated and will be removed from pandas in a future version. Use pandas.concat instead.\n",
      "  dados_df = dados_df.append({'CNPJ': cnpj, 'Sócio-Administrador': socio_administrador, 'Sócio': socio, 'email': email, 'telefone': telefone}, ignore_index=True)\n"
     ]
    },
    {
     "name": "stdout",
     "output_type": "stream",
     "text": [
      "não consta na receita\n",
      "não consta na receita\n",
      "rafael.amorim3@hotmail.com\n",
      "(98) 9613-6383\n",
      "----------\n"
     ]
    },
    {
     "name": "stderr",
     "output_type": "stream",
     "text": [
      "C:\\Users\\hirot\\AppData\\Local\\Temp\\ipykernel_29740\\4276536922.py:31: FutureWarning: The frame.append method is deprecated and will be removed from pandas in a future version. Use pandas.concat instead.\n",
      "  dados_df = dados_df.append({'CNPJ': cnpj, 'Sócio-Administrador': socio_administrador, 'Sócio': socio, 'email': email, 'telefone': telefone}, ignore_index=True)\n"
     ]
    },
    {
     "name": "stdout",
     "output_type": "stream",
     "text": [
      "não consta na receita\n",
      "não consta na receita\n",
      "zarelli.contabil.@hotmail.com\n",
      "(69) 3643-1168 / (69) 3643-1007 / (69) 3643-1007\n",
      "----------\n"
     ]
    },
    {
     "name": "stderr",
     "output_type": "stream",
     "text": [
      "C:\\Users\\hirot\\AppData\\Local\\Temp\\ipykernel_29740\\4276536922.py:31: FutureWarning: The frame.append method is deprecated and will be removed from pandas in a future version. Use pandas.concat instead.\n",
      "  dados_df = dados_df.append({'CNPJ': cnpj, 'Sócio-Administrador': socio_administrador, 'Sócio': socio, 'email': email, 'telefone': telefone}, ignore_index=True)\n"
     ]
    },
    {
     "name": "stdout",
     "output_type": "stream",
     "text": [
      "não consta na receita\n",
      "não consta na receita\n",
      "aguinaldo.molon@simrede.com.br\n",
      "(54) 3292-9999 / (54) 3292-9970 / (54) 3292-9959\n",
      "----------\n"
     ]
    },
    {
     "name": "stderr",
     "output_type": "stream",
     "text": [
      "C:\\Users\\hirot\\AppData\\Local\\Temp\\ipykernel_29740\\4276536922.py:31: FutureWarning: The frame.append method is deprecated and will be removed from pandas in a future version. Use pandas.concat instead.\n",
      "  dados_df = dados_df.append({'CNPJ': cnpj, 'Sócio-Administrador': socio_administrador, 'Sócio': socio, 'email': email, 'telefone': telefone}, ignore_index=True)\n"
     ]
    },
    {
     "name": "stdout",
     "output_type": "stream",
     "text": [
      "não consta na receita\n",
      "não consta na receita\n",
      "aguinaldo.molon@simrede.com.br\n",
      "(54) 3292-9999 / (54) 3292-9970 / (54) 3292-9959\n",
      "----------\n"
     ]
    },
    {
     "name": "stderr",
     "output_type": "stream",
     "text": [
      "C:\\Users\\hirot\\AppData\\Local\\Temp\\ipykernel_29740\\4276536922.py:31: FutureWarning: The frame.append method is deprecated and will be removed from pandas in a future version. Use pandas.concat instead.\n",
      "  dados_df = dados_df.append({'CNPJ': cnpj, 'Sócio-Administrador': socio_administrador, 'Sócio': socio, 'email': email, 'telefone': telefone}, ignore_index=True)\n"
     ]
    },
    {
     "name": "stdout",
     "output_type": "stream",
     "text": [
      "não consta na receita\n",
      "não consta na receita\n",
      "aguinaldo.molon@simrede.com.br\n",
      "(54) 3292-9999/ (54) 3292-9970\n",
      "----------\n"
     ]
    },
    {
     "name": "stderr",
     "output_type": "stream",
     "text": [
      "C:\\Users\\hirot\\AppData\\Local\\Temp\\ipykernel_29740\\4276536922.py:31: FutureWarning: The frame.append method is deprecated and will be removed from pandas in a future version. Use pandas.concat instead.\n",
      "  dados_df = dados_df.append({'CNPJ': cnpj, 'Sócio-Administrador': socio_administrador, 'Sócio': socio, 'email': email, 'telefone': telefone}, ignore_index=True)\n"
     ]
    },
    {
     "name": "stdout",
     "output_type": "stream",
     "text": [
      "CLEIDE ESTER DE OLIVEIRA PASSOS\n",
      "EDNA MARIA DE OLIVEIRA\n",
      "acontecrso@hotmail.com\n",
      "(74) 3535-1281 / (74) 3535-1281\n",
      "----------\n"
     ]
    },
    {
     "name": "stderr",
     "output_type": "stream",
     "text": [
      "C:\\Users\\hirot\\AppData\\Local\\Temp\\ipykernel_29740\\4276536922.py:31: FutureWarning: The frame.append method is deprecated and will be removed from pandas in a future version. Use pandas.concat instead.\n",
      "  dados_df = dados_df.append({'CNPJ': cnpj, 'Sócio-Administrador': socio_administrador, 'Sócio': socio, 'email': email, 'telefone': telefone}, ignore_index=True)\n"
     ]
    },
    {
     "name": "stdout",
     "output_type": "stream",
     "text": [
      "não consta na receita\n",
      "não consta na receita\n",
      "\n",
      "\n",
      "----------\n"
     ]
    },
    {
     "name": "stderr",
     "output_type": "stream",
     "text": [
      "C:\\Users\\hirot\\AppData\\Local\\Temp\\ipykernel_29740\\4276536922.py:31: FutureWarning: The frame.append method is deprecated and will be removed from pandas in a future version. Use pandas.concat instead.\n",
      "  dados_df = dados_df.append({'CNPJ': cnpj, 'Sócio-Administrador': socio_administrador, 'Sócio': socio, 'email': email, 'telefone': telefone}, ignore_index=True)\n"
     ]
    },
    {
     "name": "stdout",
     "output_type": "stream",
     "text": [
      "FRANCISCO ALVES NETO, ANTONIA MIRIAN FERREIRA ALVES\n",
      "não consta na receita\n",
      "independencia01@hotmail.com\n",
      "(88) 3544-1133 / (88) 9914-0031 / (88) 3523-7063\n",
      "----------\n"
     ]
    },
    {
     "name": "stderr",
     "output_type": "stream",
     "text": [
      "C:\\Users\\hirot\\AppData\\Local\\Temp\\ipykernel_29740\\4276536922.py:31: FutureWarning: The frame.append method is deprecated and will be removed from pandas in a future version. Use pandas.concat instead.\n",
      "  dados_df = dados_df.append({'CNPJ': cnpj, 'Sócio-Administrador': socio_administrador, 'Sócio': socio, 'email': email, 'telefone': telefone}, ignore_index=True)\n"
     ]
    },
    {
     "name": "stdout",
     "output_type": "stream",
     "text": [
      "VILSON SEBASTIAO DA SILVA\n",
      "CARLOS EDUARDO ZANONI GABRIEL DE OLIVEIRA\n",
      "autopostovs20@gmail.com\n",
      "(43) 9909-5037\n",
      "----------\n"
     ]
    },
    {
     "name": "stderr",
     "output_type": "stream",
     "text": [
      "C:\\Users\\hirot\\AppData\\Local\\Temp\\ipykernel_29740\\4276536922.py:31: FutureWarning: The frame.append method is deprecated and will be removed from pandas in a future version. Use pandas.concat instead.\n",
      "  dados_df = dados_df.append({'CNPJ': cnpj, 'Sócio-Administrador': socio_administrador, 'Sócio': socio, 'email': email, 'telefone': telefone}, ignore_index=True)\n",
      "C:\\Users\\hirot\\AppData\\Local\\Temp\\ipykernel_29740\\4276536922.py:31: FutureWarning: The frame.append method is deprecated and will be removed from pandas in a future version. Use pandas.concat instead.\n",
      "  dados_df = dados_df.append({'CNPJ': cnpj, 'Sócio-Administrador': socio_administrador, 'Sócio': socio, 'email': email, 'telefone': telefone}, ignore_index=True)\n"
     ]
    },
    {
     "name": "stdout",
     "output_type": "stream",
     "text": [
      "CATARINA ROSANGELA LEITE MENDONCA MEIRELES, NARCELIO MELO MEIRELES\n",
      "não consta na receita\n",
      "contabilidade@postocafe.com.br\n",
      "(88) 9934-7094\n",
      "----------\n",
      "não consta na receita\n",
      "não consta na receita\n",
      "contabilidade@postocafe.com.br\n",
      "(88) 9934-7094\n",
      "----------\n"
     ]
    },
    {
     "name": "stderr",
     "output_type": "stream",
     "text": [
      "C:\\Users\\hirot\\AppData\\Local\\Temp\\ipykernel_29740\\4276536922.py:31: FutureWarning: The frame.append method is deprecated and will be removed from pandas in a future version. Use pandas.concat instead.\n",
      "  dados_df = dados_df.append({'CNPJ': cnpj, 'Sócio-Administrador': socio_administrador, 'Sócio': socio, 'email': email, 'telefone': telefone}, ignore_index=True)\n"
     ]
    },
    {
     "name": "stdout",
     "output_type": "stream",
     "text": [
      "IVAN AMARO SABI, PAULO RICARDO FAURI\n",
      "FABIANA DIAS FAURI\n",
      "\n",
      "(54) 3286-1935 / (54) 3286-1935\n",
      "----------\n"
     ]
    },
    {
     "name": "stderr",
     "output_type": "stream",
     "text": [
      "C:\\Users\\hirot\\AppData\\Local\\Temp\\ipykernel_29740\\4276536922.py:31: FutureWarning: The frame.append method is deprecated and will be removed from pandas in a future version. Use pandas.concat instead.\n",
      "  dados_df = dados_df.append({'CNPJ': cnpj, 'Sócio-Administrador': socio_administrador, 'Sócio': socio, 'email': email, 'telefone': telefone}, ignore_index=True)\n",
      "C:\\Users\\hirot\\AppData\\Local\\Temp\\ipykernel_29740\\4276536922.py:31: FutureWarning: The frame.append method is deprecated and will be removed from pandas in a future version. Use pandas.concat instead.\n",
      "  dados_df = dados_df.append({'CNPJ': cnpj, 'Sócio-Administrador': socio_administrador, 'Sócio': socio, 'email': email, 'telefone': telefone}, ignore_index=True)\n"
     ]
    },
    {
     "name": "stdout",
     "output_type": "stream",
     "text": [
      "RAIMUNDO DE CAMPOS, ANA CAROLINA SILVA DE CAMPOS EVERS\n",
      "não consta na receita\n",
      "legalizacao@confianca-contabilidade.com\n",
      "(19) 3573-7700 / (19) 3573-7701 / (19) 3573-7700\n",
      "----------\n",
      "ALEX SANDRO REZENDE\n",
      "não consta na receita\n",
      "\n",
      "(41) 3285-3266\n",
      "----------\n"
     ]
    },
    {
     "name": "stderr",
     "output_type": "stream",
     "text": [
      "C:\\Users\\hirot\\AppData\\Local\\Temp\\ipykernel_29740\\4276536922.py:31: FutureWarning: The frame.append method is deprecated and will be removed from pandas in a future version. Use pandas.concat instead.\n",
      "  dados_df = dados_df.append({'CNPJ': cnpj, 'Sócio-Administrador': socio_administrador, 'Sócio': socio, 'email': email, 'telefone': telefone}, ignore_index=True)\n"
     ]
    },
    {
     "name": "stdout",
     "output_type": "stream",
     "text": [
      "não consta na receita\n",
      "não consta na receita\n",
      "registro1@webperfect.com.br\n",
      "(51) 9999-9999 / (51) 3561-1274\n",
      "----------\n"
     ]
    },
    {
     "name": "stderr",
     "output_type": "stream",
     "text": [
      "C:\\Users\\hirot\\AppData\\Local\\Temp\\ipykernel_29740\\4276536922.py:31: FutureWarning: The frame.append method is deprecated and will be removed from pandas in a future version. Use pandas.concat instead.\n",
      "  dados_df = dados_df.append({'CNPJ': cnpj, 'Sócio-Administrador': socio_administrador, 'Sócio': socio, 'email': email, 'telefone': telefone}, ignore_index=True)\n",
      "C:\\Users\\hirot\\AppData\\Local\\Temp\\ipykernel_29740\\4276536922.py:31: FutureWarning: The frame.append method is deprecated and will be removed from pandas in a future version. Use pandas.concat instead.\n",
      "  dados_df = dados_df.append({'CNPJ': cnpj, 'Sócio-Administrador': socio_administrador, 'Sócio': socio, 'email': email, 'telefone': telefone}, ignore_index=True)\n"
     ]
    },
    {
     "name": "stdout",
     "output_type": "stream",
     "text": [
      "não consta na receita\n",
      "não consta na receita\n",
      "registro1@webperfect.com.br\n",
      "(51) 9999-9999 / (51) 3561-2029\n",
      "----------\n",
      "DIOGO ANTONIO DE BARROS FILHO\n",
      "não consta na receita\n",
      "jrescritorio@uol.com.br\n",
      "(14) 3842-1151 / (14) 3841-2749\n",
      "----------\n"
     ]
    },
    {
     "name": "stderr",
     "output_type": "stream",
     "text": [
      "C:\\Users\\hirot\\AppData\\Local\\Temp\\ipykernel_29740\\4276536922.py:31: FutureWarning: The frame.append method is deprecated and will be removed from pandas in a future version. Use pandas.concat instead.\n",
      "  dados_df = dados_df.append({'CNPJ': cnpj, 'Sócio-Administrador': socio_administrador, 'Sócio': socio, 'email': email, 'telefone': telefone}, ignore_index=True)\n"
     ]
    },
    {
     "name": "stdout",
     "output_type": "stream",
     "text": [
      "ANTONIO PEREIRA DE VASCONCELOS JUNIOR\n",
      "ANTONIO PEREIRA DE VASCONCELOS, MARIA DE LOURDES DE MELO VASCONCELOS\n",
      "\n",
      "\n",
      "----------\n"
     ]
    },
    {
     "name": "stderr",
     "output_type": "stream",
     "text": [
      "C:\\Users\\hirot\\AppData\\Local\\Temp\\ipykernel_29740\\4276536922.py:31: FutureWarning: The frame.append method is deprecated and will be removed from pandas in a future version. Use pandas.concat instead.\n",
      "  dados_df = dados_df.append({'CNPJ': cnpj, 'Sócio-Administrador': socio_administrador, 'Sócio': socio, 'email': email, 'telefone': telefone}, ignore_index=True)\n"
     ]
    },
    {
     "name": "stdout",
     "output_type": "stream",
     "text": [
      "NELIR APARECIDA TAVARES\n",
      "não consta na receita\n",
      "nadya_mnez@hotmail.com\n",
      "(94) 3433-3148 / (94) 3433-1113 / (94) 3433-1787\n",
      "----------\n"
     ]
    },
    {
     "name": "stderr",
     "output_type": "stream",
     "text": [
      "C:\\Users\\hirot\\AppData\\Local\\Temp\\ipykernel_29740\\4276536922.py:31: FutureWarning: The frame.append method is deprecated and will be removed from pandas in a future version. Use pandas.concat instead.\n",
      "  dados_df = dados_df.append({'CNPJ': cnpj, 'Sócio-Administrador': socio_administrador, 'Sócio': socio, 'email': email, 'telefone': telefone}, ignore_index=True)\n"
     ]
    },
    {
     "name": "stdout",
     "output_type": "stream",
     "text": [
      "ANTONIO MANOEL FONTENELE VERAS FILHO\n",
      "ANA MARIA BEVILAQUA MOREIRA VERAS\n",
      "\n",
      "(88) 3621-2485\n",
      "----------\n"
     ]
    },
    {
     "name": "stderr",
     "output_type": "stream",
     "text": [
      "C:\\Users\\hirot\\AppData\\Local\\Temp\\ipykernel_29740\\4276536922.py:31: FutureWarning: The frame.append method is deprecated and will be removed from pandas in a future version. Use pandas.concat instead.\n",
      "  dados_df = dados_df.append({'CNPJ': cnpj, 'Sócio-Administrador': socio_administrador, 'Sócio': socio, 'email': email, 'telefone': telefone}, ignore_index=True)\n"
     ]
    },
    {
     "name": "stdout",
     "output_type": "stream",
     "text": [
      "não consta na receita\n",
      "não consta na receita\n",
      "\n",
      "(86) 3232-2447\n",
      "----------\n"
     ]
    },
    {
     "name": "stderr",
     "output_type": "stream",
     "text": [
      "C:\\Users\\hirot\\AppData\\Local\\Temp\\ipykernel_29740\\4276536922.py:31: FutureWarning: The frame.append method is deprecated and will be removed from pandas in a future version. Use pandas.concat instead.\n",
      "  dados_df = dados_df.append({'CNPJ': cnpj, 'Sócio-Administrador': socio_administrador, 'Sócio': socio, 'email': email, 'telefone': telefone}, ignore_index=True)\n"
     ]
    },
    {
     "name": "stdout",
     "output_type": "stream",
     "text": [
      "ALDENIR NUNES FEITOSA\n",
      "não consta na receita\n",
      "\n",
      "(86) 3231-2456/ (86) 3237-5574\n",
      "----------\n"
     ]
    },
    {
     "name": "stderr",
     "output_type": "stream",
     "text": [
      "C:\\Users\\hirot\\AppData\\Local\\Temp\\ipykernel_29740\\4276536922.py:31: FutureWarning: The frame.append method is deprecated and will be removed from pandas in a future version. Use pandas.concat instead.\n",
      "  dados_df = dados_df.append({'CNPJ': cnpj, 'Sócio-Administrador': socio_administrador, 'Sócio': socio, 'email': email, 'telefone': telefone}, ignore_index=True)\n"
     ]
    },
    {
     "name": "stdout",
     "output_type": "stream",
     "text": [
      "PEDRO DE BRITO MACHADO, MARIA DE JESUS DE CARVALHO\n",
      "não consta na receita\n",
      "\n",
      "(86) 3231-2456 / (86) 3232-9040 / (86) 3237-5574\n",
      "----------\n"
     ]
    },
    {
     "name": "stderr",
     "output_type": "stream",
     "text": [
      "C:\\Users\\hirot\\AppData\\Local\\Temp\\ipykernel_29740\\4276536922.py:31: FutureWarning: The frame.append method is deprecated and will be removed from pandas in a future version. Use pandas.concat instead.\n",
      "  dados_df = dados_df.append({'CNPJ': cnpj, 'Sócio-Administrador': socio_administrador, 'Sócio': socio, 'email': email, 'telefone': telefone}, ignore_index=True)\n"
     ]
    },
    {
     "name": "stdout",
     "output_type": "stream",
     "text": [
      "VALDIR ANTONIO VICENTE\n",
      "JUAN ALEX TESTONI\n",
      "\n",
      "(69) 3463-2326 / (69) 3463-2157\n",
      "----------\n"
     ]
    },
    {
     "name": "stderr",
     "output_type": "stream",
     "text": [
      "C:\\Users\\hirot\\AppData\\Local\\Temp\\ipykernel_29740\\4276536922.py:31: FutureWarning: The frame.append method is deprecated and will be removed from pandas in a future version. Use pandas.concat instead.\n",
      "  dados_df = dados_df.append({'CNPJ': cnpj, 'Sócio-Administrador': socio_administrador, 'Sócio': socio, 'email': email, 'telefone': telefone}, ignore_index=True)\n"
     ]
    },
    {
     "name": "stdout",
     "output_type": "stream",
     "text": [
      "ANTONIO DE JESUS NASCIMENTO SILVA\n",
      "JOSELIA DOS SANTOS ALMEIDA SILVA\n",
      "bomjesuscombustivel@hotmail.com\n",
      "(98) 8463-3046 / (98) 8463-3046\n",
      "----------\n"
     ]
    },
    {
     "name": "stderr",
     "output_type": "stream",
     "text": [
      "C:\\Users\\hirot\\AppData\\Local\\Temp\\ipykernel_29740\\4276536922.py:31: FutureWarning: The frame.append method is deprecated and will be removed from pandas in a future version. Use pandas.concat instead.\n",
      "  dados_df = dados_df.append({'CNPJ': cnpj, 'Sócio-Administrador': socio_administrador, 'Sócio': socio, 'email': email, 'telefone': telefone}, ignore_index=True)\n"
     ]
    },
    {
     "name": "stdout",
     "output_type": "stream",
     "text": [
      "JOSE CARLOS MARQUES SOUZA REIS, JOSE LUIZ DE MOURA ALMEIDA\n",
      "não consta na receita\n",
      "posto.136@redezmaisz.com.br\n",
      "(62) 3946-8800\n",
      "----------\n"
     ]
    },
    {
     "name": "stderr",
     "output_type": "stream",
     "text": [
      "C:\\Users\\hirot\\AppData\\Local\\Temp\\ipykernel_29740\\4276536922.py:31: FutureWarning: The frame.append method is deprecated and will be removed from pandas in a future version. Use pandas.concat instead.\n",
      "  dados_df = dados_df.append({'CNPJ': cnpj, 'Sócio-Administrador': socio_administrador, 'Sócio': socio, 'email': email, 'telefone': telefone}, ignore_index=True)\n"
     ]
    },
    {
     "name": "stdout",
     "output_type": "stream",
     "text": [
      "não consta na receita\n",
      "VALMIR FRANKLIN DA SILVA SOUZA, LUANA OLIVEIRA, LUISI CORREA PINHO\n",
      "\n",
      "(21) 2401-5596 / (21) 2401-5596\n",
      "----------\n"
     ]
    },
    {
     "name": "stderr",
     "output_type": "stream",
     "text": [
      "C:\\Users\\hirot\\AppData\\Local\\Temp\\ipykernel_29740\\4276536922.py:31: FutureWarning: The frame.append method is deprecated and will be removed from pandas in a future version. Use pandas.concat instead.\n",
      "  dados_df = dados_df.append({'CNPJ': cnpj, 'Sócio-Administrador': socio_administrador, 'Sócio': socio, 'email': email, 'telefone': telefone}, ignore_index=True)\n"
     ]
    },
    {
     "name": "stdout",
     "output_type": "stream",
     "text": [
      "DENIS ALEXANDRE JOTESSO VILLANI\n",
      "não consta na receita\n",
      "diego.dmllcontadores@gmail.com\n",
      "(41) 9905-0342 / (35) 3521-4583\n",
      "----------\n"
     ]
    },
    {
     "name": "stderr",
     "output_type": "stream",
     "text": [
      "C:\\Users\\hirot\\AppData\\Local\\Temp\\ipykernel_29740\\4276536922.py:31: FutureWarning: The frame.append method is deprecated and will be removed from pandas in a future version. Use pandas.concat instead.\n",
      "  dados_df = dados_df.append({'CNPJ': cnpj, 'Sócio-Administrador': socio_administrador, 'Sócio': socio, 'email': email, 'telefone': telefone}, ignore_index=True)\n"
     ]
    },
    {
     "name": "stdout",
     "output_type": "stream",
     "text": [
      "MARCO AURELIO SCHMITT, RENATO LUIZ NEIS\n",
      "não consta na receita\n",
      "\n",
      "(51) 3037-3847\n",
      "----------\n"
     ]
    },
    {
     "name": "stderr",
     "output_type": "stream",
     "text": [
      "C:\\Users\\hirot\\AppData\\Local\\Temp\\ipykernel_29740\\4276536922.py:31: FutureWarning: The frame.append method is deprecated and will be removed from pandas in a future version. Use pandas.concat instead.\n",
      "  dados_df = dados_df.append({'CNPJ': cnpj, 'Sócio-Administrador': socio_administrador, 'Sócio': socio, 'email': email, 'telefone': telefone}, ignore_index=True)\n"
     ]
    },
    {
     "name": "stdout",
     "output_type": "stream",
     "text": [
      "não consta na receita\n",
      "não consta na receita\n",
      "administrativo@amazoniapetroleo.com.br\n",
      "(65) 3052-6160\n",
      "----------\n"
     ]
    },
    {
     "name": "stderr",
     "output_type": "stream",
     "text": [
      "C:\\Users\\hirot\\AppData\\Local\\Temp\\ipykernel_29740\\4276536922.py:31: FutureWarning: The frame.append method is deprecated and will be removed from pandas in a future version. Use pandas.concat instead.\n",
      "  dados_df = dados_df.append({'CNPJ': cnpj, 'Sócio-Administrador': socio_administrador, 'Sócio': socio, 'email': email, 'telefone': telefone}, ignore_index=True)\n"
     ]
    },
    {
     "name": "stdout",
     "output_type": "stream",
     "text": [
      "não consta na receita\n",
      "não consta na receita\n",
      "administrativo@amazoniapetroleo.com.br\n",
      "(65) 3052-6160\n",
      "----------\n"
     ]
    },
    {
     "name": "stderr",
     "output_type": "stream",
     "text": [
      "C:\\Users\\hirot\\AppData\\Local\\Temp\\ipykernel_29740\\4276536922.py:31: FutureWarning: The frame.append method is deprecated and will be removed from pandas in a future version. Use pandas.concat instead.\n",
      "  dados_df = dados_df.append({'CNPJ': cnpj, 'Sócio-Administrador': socio_administrador, 'Sócio': socio, 'email': email, 'telefone': telefone}, ignore_index=True)\n"
     ]
    },
    {
     "name": "stdout",
     "output_type": "stream",
     "text": [
      "não consta na receita\n",
      "não consta na receita\n",
      "administrativo@amazoniapetroleo.com.br\n",
      "(65) 3052-6160\n",
      "----------\n"
     ]
    },
    {
     "name": "stderr",
     "output_type": "stream",
     "text": [
      "C:\\Users\\hirot\\AppData\\Local\\Temp\\ipykernel_29740\\4276536922.py:31: FutureWarning: The frame.append method is deprecated and will be removed from pandas in a future version. Use pandas.concat instead.\n",
      "  dados_df = dados_df.append({'CNPJ': cnpj, 'Sócio-Administrador': socio_administrador, 'Sócio': socio, 'email': email, 'telefone': telefone}, ignore_index=True)\n"
     ]
    },
    {
     "name": "stdout",
     "output_type": "stream",
     "text": [
      "PAULO CESAR CARREIRA AFONSO, ALZEMIRO CARREIRA AFONSO\n",
      "não consta na receita\n",
      "\n",
      "(21) 2260-1159/ (21) 2260-1159\n",
      "----------\n"
     ]
    },
    {
     "name": "stderr",
     "output_type": "stream",
     "text": [
      "C:\\Users\\hirot\\AppData\\Local\\Temp\\ipykernel_29740\\4276536922.py:31: FutureWarning: The frame.append method is deprecated and will be removed from pandas in a future version. Use pandas.concat instead.\n",
      "  dados_df = dados_df.append({'CNPJ': cnpj, 'Sócio-Administrador': socio_administrador, 'Sócio': socio, 'email': email, 'telefone': telefone}, ignore_index=True)\n"
     ]
    },
    {
     "name": "stdout",
     "output_type": "stream",
     "text": [
      "JOSE ROBERTO DE ANDRADE GOMES\n",
      "não consta na receita\n",
      "financeirocaixa@hotmail.com\n",
      "(81) 3655-1251\n",
      "----------\n"
     ]
    },
    {
     "name": "stderr",
     "output_type": "stream",
     "text": [
      "C:\\Users\\hirot\\AppData\\Local\\Temp\\ipykernel_29740\\4276536922.py:31: FutureWarning: The frame.append method is deprecated and will be removed from pandas in a future version. Use pandas.concat instead.\n",
      "  dados_df = dados_df.append({'CNPJ': cnpj, 'Sócio-Administrador': socio_administrador, 'Sócio': socio, 'email': email, 'telefone': telefone}, ignore_index=True)\n"
     ]
    },
    {
     "name": "stdout",
     "output_type": "stream",
     "text": [
      "não consta na receita\n",
      "não consta na receita\n",
      "nilson@redestop.com\n",
      "(45) 3038-8088/ (45) 3038-8086\n",
      "----------\n"
     ]
    },
    {
     "name": "stderr",
     "output_type": "stream",
     "text": [
      "C:\\Users\\hirot\\AppData\\Local\\Temp\\ipykernel_29740\\4276536922.py:31: FutureWarning: The frame.append method is deprecated and will be removed from pandas in a future version. Use pandas.concat instead.\n",
      "  dados_df = dados_df.append({'CNPJ': cnpj, 'Sócio-Administrador': socio_administrador, 'Sócio': socio, 'email': email, 'telefone': telefone}, ignore_index=True)\n"
     ]
    },
    {
     "name": "stdout",
     "output_type": "stream",
     "text": [
      "não consta na receita\n",
      "não consta na receita\n",
      "\n",
      "(81) 3728-2126/ (81) 3728-2126\n",
      "----------\n"
     ]
    },
    {
     "name": "stderr",
     "output_type": "stream",
     "text": [
      "C:\\Users\\hirot\\AppData\\Local\\Temp\\ipykernel_29740\\4276536922.py:31: FutureWarning: The frame.append method is deprecated and will be removed from pandas in a future version. Use pandas.concat instead.\n",
      "  dados_df = dados_df.append({'CNPJ': cnpj, 'Sócio-Administrador': socio_administrador, 'Sócio': socio, 'email': email, 'telefone': telefone}, ignore_index=True)\n"
     ]
    },
    {
     "name": "stdout",
     "output_type": "stream",
     "text": [
      "JOSE ROBERTO VIEIRA\n",
      "não consta na receita\n",
      "redejr@uol.com.br\n",
      "(11) 2892-4260\n",
      "----------\n"
     ]
    },
    {
     "name": "stderr",
     "output_type": "stream",
     "text": [
      "C:\\Users\\hirot\\AppData\\Local\\Temp\\ipykernel_29740\\4276536922.py:31: FutureWarning: The frame.append method is deprecated and will be removed from pandas in a future version. Use pandas.concat instead.\n",
      "  dados_df = dados_df.append({'CNPJ': cnpj, 'Sócio-Administrador': socio_administrador, 'Sócio': socio, 'email': email, 'telefone': telefone}, ignore_index=True)\n"
     ]
    },
    {
     "name": "stdout",
     "output_type": "stream",
     "text": [
      "JOSIANE HEHN DA SILVA VENZKE, JOAO ALAMIR VENZKE\n",
      "não consta na receita\n",
      "jjvenzke@hotmail.com\n",
      "(51) 3611-7064\n",
      "----------\n"
     ]
    },
    {
     "name": "stderr",
     "output_type": "stream",
     "text": [
      "C:\\Users\\hirot\\AppData\\Local\\Temp\\ipykernel_29740\\4276536922.py:31: FutureWarning: The frame.append method is deprecated and will be removed from pandas in a future version. Use pandas.concat instead.\n",
      "  dados_df = dados_df.append({'CNPJ': cnpj, 'Sócio-Administrador': socio_administrador, 'Sócio': socio, 'email': email, 'telefone': telefone}, ignore_index=True)\n",
      "C:\\Users\\hirot\\AppData\\Local\\Temp\\ipykernel_29740\\4276536922.py:31: FutureWarning: The frame.append method is deprecated and will be removed from pandas in a future version. Use pandas.concat instead.\n",
      "  dados_df = dados_df.append({'CNPJ': cnpj, 'Sócio-Administrador': socio_administrador, 'Sócio': socio, 'email': email, 'telefone': telefone}, ignore_index=True)\n"
     ]
    },
    {
     "name": "stdout",
     "output_type": "stream",
     "text": [
      "ANDRE LUIS ASSIS\n",
      "não consta na receita\n",
      "postoterradoboi2009@hotmail.com\n",
      "(64) 3659-1477\n",
      "----------\n",
      "JOSE AMARO DOS SANTOS\n",
      "não consta na receita\n",
      "sandra@seveel.com.br\n",
      "(11) 9456-8815\n",
      "----------\n"
     ]
    },
    {
     "name": "stderr",
     "output_type": "stream",
     "text": [
      "C:\\Users\\hirot\\AppData\\Local\\Temp\\ipykernel_29740\\4276536922.py:31: FutureWarning: The frame.append method is deprecated and will be removed from pandas in a future version. Use pandas.concat instead.\n",
      "  dados_df = dados_df.append({'CNPJ': cnpj, 'Sócio-Administrador': socio_administrador, 'Sócio': socio, 'email': email, 'telefone': telefone}, ignore_index=True)\n"
     ]
    },
    {
     "name": "stdout",
     "output_type": "stream",
     "text": [
      "HERBERT BEZERRA DE HOLANDA\n",
      "KATRYANNE HOLANDA MARQUES, KALYNNE DE HOLANDA CABRAL\n",
      "contabilidade@grupoedc.com.br\n",
      "(87) 3762-9926\n",
      "----------\n"
     ]
    },
    {
     "name": "stderr",
     "output_type": "stream",
     "text": [
      "C:\\Users\\hirot\\AppData\\Local\\Temp\\ipykernel_29740\\4276536922.py:31: FutureWarning: The frame.append method is deprecated and will be removed from pandas in a future version. Use pandas.concat instead.\n",
      "  dados_df = dados_df.append({'CNPJ': cnpj, 'Sócio-Administrador': socio_administrador, 'Sócio': socio, 'email': email, 'telefone': telefone}, ignore_index=True)\n"
     ]
    },
    {
     "name": "stdout",
     "output_type": "stream",
     "text": [
      "não consta na receita\n",
      "não consta na receita\n",
      "diretoria@assercon-para.com.br\n",
      "(94) 3346-5857\n",
      "----------\n"
     ]
    },
    {
     "name": "stderr",
     "output_type": "stream",
     "text": [
      "C:\\Users\\hirot\\AppData\\Local\\Temp\\ipykernel_29740\\4276536922.py:31: FutureWarning: The frame.append method is deprecated and will be removed from pandas in a future version. Use pandas.concat instead.\n",
      "  dados_df = dados_df.append({'CNPJ': cnpj, 'Sócio-Administrador': socio_administrador, 'Sócio': socio, 'email': email, 'telefone': telefone}, ignore_index=True)\n"
     ]
    },
    {
     "name": "stdout",
     "output_type": "stream",
     "text": [
      "não consta na receita\n",
      "não consta na receita\n",
      "andreia@atacadaomacre.com.br\n",
      "(94) 9138-3256\n",
      "----------\n"
     ]
    },
    {
     "name": "stderr",
     "output_type": "stream",
     "text": [
      "C:\\Users\\hirot\\AppData\\Local\\Temp\\ipykernel_29740\\4276536922.py:31: FutureWarning: The frame.append method is deprecated and will be removed from pandas in a future version. Use pandas.concat instead.\n",
      "  dados_df = dados_df.append({'CNPJ': cnpj, 'Sócio-Administrador': socio_administrador, 'Sócio': socio, 'email': email, 'telefone': telefone}, ignore_index=True)\n"
     ]
    },
    {
     "name": "stdout",
     "output_type": "stream",
     "text": [
      "não consta na receita\n",
      "não consta na receita\n",
      "andreia@atacadaomacre.com.br\n",
      "(94) 9138-3256\n",
      "----------\n"
     ]
    },
    {
     "name": "stderr",
     "output_type": "stream",
     "text": [
      "C:\\Users\\hirot\\AppData\\Local\\Temp\\ipykernel_29740\\4276536922.py:31: FutureWarning: The frame.append method is deprecated and will be removed from pandas in a future version. Use pandas.concat instead.\n",
      "  dados_df = dados_df.append({'CNPJ': cnpj, 'Sócio-Administrador': socio_administrador, 'Sócio': socio, 'email': email, 'telefone': telefone}, ignore_index=True)\n",
      "C:\\Users\\hirot\\AppData\\Local\\Temp\\ipykernel_29740\\4276536922.py:31: FutureWarning: The frame.append method is deprecated and will be removed from pandas in a future version. Use pandas.concat instead.\n",
      "  dados_df = dados_df.append({'CNPJ': cnpj, 'Sócio-Administrador': socio_administrador, 'Sócio': socio, 'email': email, 'telefone': telefone}, ignore_index=True)\n"
     ]
    },
    {
     "name": "stdout",
     "output_type": "stream",
     "text": [
      "AUGUSTO DE TOLEDO BOSSOLANI, RAFAELA TROMBIN FERRACINI\n",
      "não consta na receita\n",
      "reginaldo-boca@hotmail.com\n",
      "(18) 3786-1502/ (18) 3786-1502\n",
      "----------\n",
      "ANA PAGLIOTTO DE SOUZA, JORGE ALBERTO PAGLIOTTO DE SOUZA\n",
      "não consta na receita\n",
      "\n",
      "(67) 3421-4275\n",
      "----------\n"
     ]
    },
    {
     "name": "stderr",
     "output_type": "stream",
     "text": [
      "C:\\Users\\hirot\\AppData\\Local\\Temp\\ipykernel_29740\\4276536922.py:31: FutureWarning: The frame.append method is deprecated and will be removed from pandas in a future version. Use pandas.concat instead.\n",
      "  dados_df = dados_df.append({'CNPJ': cnpj, 'Sócio-Administrador': socio_administrador, 'Sócio': socio, 'email': email, 'telefone': telefone}, ignore_index=True)\n"
     ]
    },
    {
     "name": "stdout",
     "output_type": "stream",
     "text": [
      "não consta na receita\n",
      "não consta na receita\n",
      "contabilidadeidpb@gmail.com\n",
      "(92) 9399-6730\n",
      "----------\n"
     ]
    },
    {
     "name": "stderr",
     "output_type": "stream",
     "text": [
      "C:\\Users\\hirot\\AppData\\Local\\Temp\\ipykernel_29740\\4276536922.py:31: FutureWarning: The frame.append method is deprecated and will be removed from pandas in a future version. Use pandas.concat instead.\n",
      "  dados_df = dados_df.append({'CNPJ': cnpj, 'Sócio-Administrador': socio_administrador, 'Sócio': socio, 'email': email, 'telefone': telefone}, ignore_index=True)\n"
     ]
    },
    {
     "name": "stdout",
     "output_type": "stream",
     "text": [
      "JOCIVALDO MOURA LINS\n",
      "CLAUDIA SIMONE OLIVEIRA LINS\n",
      "\n",
      "(93) 9123-5044\n",
      "----------\n"
     ]
    },
    {
     "name": "stderr",
     "output_type": "stream",
     "text": [
      "C:\\Users\\hirot\\AppData\\Local\\Temp\\ipykernel_29740\\4276536922.py:31: FutureWarning: The frame.append method is deprecated and will be removed from pandas in a future version. Use pandas.concat instead.\n",
      "  dados_df = dados_df.append({'CNPJ': cnpj, 'Sócio-Administrador': socio_administrador, 'Sócio': socio, 'email': email, 'telefone': telefone}, ignore_index=True)\n"
     ]
    },
    {
     "name": "stdout",
     "output_type": "stream",
     "text": [
      "BRUNO TAVES ROMANELLI\n",
      "não consta na receita\n",
      "titanposto@gmail.com\n",
      "(12) 3883-3915/ (12) 8125-4180\n",
      "----------\n"
     ]
    },
    {
     "name": "stderr",
     "output_type": "stream",
     "text": [
      "C:\\Users\\hirot\\AppData\\Local\\Temp\\ipykernel_29740\\4276536922.py:31: FutureWarning: The frame.append method is deprecated and will be removed from pandas in a future version. Use pandas.concat instead.\n",
      "  dados_df = dados_df.append({'CNPJ': cnpj, 'Sócio-Administrador': socio_administrador, 'Sócio': socio, 'email': email, 'telefone': telefone}, ignore_index=True)\n"
     ]
    },
    {
     "name": "stdout",
     "output_type": "stream",
     "text": [
      "IZABEL CAMILO GOMES DA SILVA, MARIO CESAR GOMES DA SILVA\n",
      "não consta na receita\n",
      "oestrella@uol.com.br\n",
      "(11) 2914-1406\n",
      "----------\n"
     ]
    },
    {
     "name": "stderr",
     "output_type": "stream",
     "text": [
      "C:\\Users\\hirot\\AppData\\Local\\Temp\\ipykernel_29740\\4276536922.py:31: FutureWarning: The frame.append method is deprecated and will be removed from pandas in a future version. Use pandas.concat instead.\n",
      "  dados_df = dados_df.append({'CNPJ': cnpj, 'Sócio-Administrador': socio_administrador, 'Sócio': socio, 'email': email, 'telefone': telefone}, ignore_index=True)\n",
      "C:\\Users\\hirot\\AppData\\Local\\Temp\\ipykernel_29740\\4276536922.py:31: FutureWarning: The frame.append method is deprecated and will be removed from pandas in a future version. Use pandas.concat instead.\n",
      "  dados_df = dados_df.append({'CNPJ': cnpj, 'Sócio-Administrador': socio_administrador, 'Sócio': socio, 'email': email, 'telefone': telefone}, ignore_index=True)\n"
     ]
    },
    {
     "name": "stdout",
     "output_type": "stream",
     "text": [
      "ANDRE GIAZI ROTA\n",
      "GIDERVAL LUIS ROTTA\n",
      "autopostorotta@hotmail.com\n",
      "(17) 3548-1236\n",
      "----------\n",
      "não consta na receita\n",
      "não consta na receita\n",
      "\n",
      "(81) 9973-1956\n",
      "----------\n"
     ]
    },
    {
     "name": "stderr",
     "output_type": "stream",
     "text": [
      "C:\\Users\\hirot\\AppData\\Local\\Temp\\ipykernel_29740\\4276536922.py:31: FutureWarning: The frame.append method is deprecated and will be removed from pandas in a future version. Use pandas.concat instead.\n",
      "  dados_df = dados_df.append({'CNPJ': cnpj, 'Sócio-Administrador': socio_administrador, 'Sócio': socio, 'email': email, 'telefone': telefone}, ignore_index=True)\n"
     ]
    },
    {
     "name": "stdout",
     "output_type": "stream",
     "text": [
      "GLEICIANE FERREIRA CAMPOS ANTUNES, ELDIO ANTUNES DA SILVA JUNIOR\n",
      "não consta na receita\n",
      "servicon.cal@terra.com.br\n",
      "(74) 3533-2697/ (74) 3533-2697\n",
      "----------\n"
     ]
    },
    {
     "name": "stderr",
     "output_type": "stream",
     "text": [
      "C:\\Users\\hirot\\AppData\\Local\\Temp\\ipykernel_29740\\4276536922.py:31: FutureWarning: The frame.append method is deprecated and will be removed from pandas in a future version. Use pandas.concat instead.\n",
      "  dados_df = dados_df.append({'CNPJ': cnpj, 'Sócio-Administrador': socio_administrador, 'Sócio': socio, 'email': email, 'telefone': telefone}, ignore_index=True)\n"
     ]
    },
    {
     "name": "stdout",
     "output_type": "stream",
     "text": [
      "GILVAR VIEIRA DE MELO, SANDRA MARIA SILVA DE MELO\n",
      "não consta na receita\n",
      "maracas@orcoma.com.br\n",
      "(75) 3412-2232\n",
      "----------\n"
     ]
    },
    {
     "name": "stderr",
     "output_type": "stream",
     "text": [
      "C:\\Users\\hirot\\AppData\\Local\\Temp\\ipykernel_29740\\4276536922.py:31: FutureWarning: The frame.append method is deprecated and will be removed from pandas in a future version. Use pandas.concat instead.\n",
      "  dados_df = dados_df.append({'CNPJ': cnpj, 'Sócio-Administrador': socio_administrador, 'Sócio': socio, 'email': email, 'telefone': telefone}, ignore_index=True)\n"
     ]
    },
    {
     "name": "stdout",
     "output_type": "stream",
     "text": [
      "ROBERTO MICLOS LEDO JUNIOR\n",
      "não consta na receita\n",
      "postoaguialtda@hotmail.com\n",
      "(94) 3434-2218\n",
      "----------\n"
     ]
    },
    {
     "name": "stderr",
     "output_type": "stream",
     "text": [
      "C:\\Users\\hirot\\AppData\\Local\\Temp\\ipykernel_29740\\4276536922.py:31: FutureWarning: The frame.append method is deprecated and will be removed from pandas in a future version. Use pandas.concat instead.\n",
      "  dados_df = dados_df.append({'CNPJ': cnpj, 'Sócio-Administrador': socio_administrador, 'Sócio': socio, 'email': email, 'telefone': telefone}, ignore_index=True)\n"
     ]
    },
    {
     "name": "stdout",
     "output_type": "stream",
     "text": [
      "LEANDRO DA SILVA PINHEIRO, CARLOS ALBERTO FERNANDES PINHEIRO\n",
      "não consta na receita\n",
      "priscila@lemonrn.com.br\n",
      "(84) 2010-9270\n",
      "----------\n"
     ]
    },
    {
     "name": "stderr",
     "output_type": "stream",
     "text": [
      "C:\\Users\\hirot\\AppData\\Local\\Temp\\ipykernel_29740\\4276536922.py:31: FutureWarning: The frame.append method is deprecated and will be removed from pandas in a future version. Use pandas.concat instead.\n",
      "  dados_df = dados_df.append({'CNPJ': cnpj, 'Sócio-Administrador': socio_administrador, 'Sócio': socio, 'email': email, 'telefone': telefone}, ignore_index=True)\n",
      "C:\\Users\\hirot\\AppData\\Local\\Temp\\ipykernel_29740\\4276536922.py:31: FutureWarning: The frame.append method is deprecated and will be removed from pandas in a future version. Use pandas.concat instead.\n",
      "  dados_df = dados_df.append({'CNPJ': cnpj, 'Sócio-Administrador': socio_administrador, 'Sócio': socio, 'email': email, 'telefone': telefone}, ignore_index=True)\n"
     ]
    },
    {
     "name": "stdout",
     "output_type": "stream",
     "text": [
      "LUIS FELIPE EROLES FERNANDES, LUIS AUGUSTO FERNANDES\n",
      "não consta na receita\n",
      "oestrella@uol.com.br\n",
      "(11) 2914-1406\n",
      "----------\n",
      "KATIA ROBERTA TORREZAN\n",
      "FERNANDO CESAR TORREZAN, ANA FLAVIA VALERIO TORREZAN, FLAVIO RENAN VALERIO TORREZAN, VINICIUS VALERIO TORREZAN, LUCIMARA VALERIO TORREZAN, RAFAEL ALENCAR TORREZAN\n",
      "torrezanautoposto4@hotmail.com\n",
      "(44) 3453-1767\n",
      "----------\n"
     ]
    },
    {
     "name": "stderr",
     "output_type": "stream",
     "text": [
      "C:\\Users\\hirot\\AppData\\Local\\Temp\\ipykernel_29740\\4276536922.py:31: FutureWarning: The frame.append method is deprecated and will be removed from pandas in a future version. Use pandas.concat instead.\n",
      "  dados_df = dados_df.append({'CNPJ': cnpj, 'Sócio-Administrador': socio_administrador, 'Sócio': socio, 'email': email, 'telefone': telefone}, ignore_index=True)\n"
     ]
    },
    {
     "name": "stdout",
     "output_type": "stream",
     "text": [
      "CAMILLA ARIANE AJITA PICIRONI\n",
      "M.I. PAR 58 ADMINISTRADORA DE IMOVEIS E PARTICIPACOES SOCIAIS LTDA\n",
      "\n",
      "(44) 3255-1617/ (44) 3255-1617\n",
      "----------\n"
     ]
    },
    {
     "name": "stderr",
     "output_type": "stream",
     "text": [
      "C:\\Users\\hirot\\AppData\\Local\\Temp\\ipykernel_29740\\4276536922.py:31: FutureWarning: The frame.append method is deprecated and will be removed from pandas in a future version. Use pandas.concat instead.\n",
      "  dados_df = dados_df.append({'CNPJ': cnpj, 'Sócio-Administrador': socio_administrador, 'Sócio': socio, 'email': email, 'telefone': telefone}, ignore_index=True)\n"
     ]
    },
    {
     "name": "stdout",
     "output_type": "stream",
     "text": [
      "não consta na receita\n",
      "não consta na receita\n",
      "\n",
      "(81) 3622-0111\n",
      "----------\n"
     ]
    },
    {
     "name": "stderr",
     "output_type": "stream",
     "text": [
      "C:\\Users\\hirot\\AppData\\Local\\Temp\\ipykernel_29740\\4276536922.py:31: FutureWarning: The frame.append method is deprecated and will be removed from pandas in a future version. Use pandas.concat instead.\n",
      "  dados_df = dados_df.append({'CNPJ': cnpj, 'Sócio-Administrador': socio_administrador, 'Sócio': socio, 'email': email, 'telefone': telefone}, ignore_index=True)\n"
     ]
    },
    {
     "name": "stdout",
     "output_type": "stream",
     "text": [
      "não consta na receita\n",
      "não consta na receita\n",
      "\n",
      "(81) 3626-0485\n",
      "----------\n"
     ]
    },
    {
     "name": "stderr",
     "output_type": "stream",
     "text": [
      "C:\\Users\\hirot\\AppData\\Local\\Temp\\ipykernel_29740\\4276536922.py:31: FutureWarning: The frame.append method is deprecated and will be removed from pandas in a future version. Use pandas.concat instead.\n",
      "  dados_df = dados_df.append({'CNPJ': cnpj, 'Sócio-Administrador': socio_administrador, 'Sócio': socio, 'email': email, 'telefone': telefone}, ignore_index=True)\n"
     ]
    },
    {
     "name": "stdout",
     "output_type": "stream",
     "text": [
      "não consta na receita\n",
      "não consta na receita\n",
      "\n",
      "(81) 3635-1099\n",
      "----------\n"
     ]
    },
    {
     "name": "stderr",
     "output_type": "stream",
     "text": [
      "C:\\Users\\hirot\\AppData\\Local\\Temp\\ipykernel_29740\\4276536922.py:31: FutureWarning: The frame.append method is deprecated and will be removed from pandas in a future version. Use pandas.concat instead.\n",
      "  dados_df = dados_df.append({'CNPJ': cnpj, 'Sócio-Administrador': socio_administrador, 'Sócio': socio, 'email': email, 'telefone': telefone}, ignore_index=True)\n"
     ]
    },
    {
     "name": "stdout",
     "output_type": "stream",
     "text": [
      "EDGAR PEREIRA DO AMARAL\n",
      "LUCIANO DE MELO AMARAL\n",
      "wiltoncrepaldi@perdoesnet.com.br\n",
      "(35) 3864-1282/ (35) 3821-4966\n",
      "----------\n"
     ]
    },
    {
     "name": "stderr",
     "output_type": "stream",
     "text": [
      "C:\\Users\\hirot\\AppData\\Local\\Temp\\ipykernel_29740\\4276536922.py:31: FutureWarning: The frame.append method is deprecated and will be removed from pandas in a future version. Use pandas.concat instead.\n",
      "  dados_df = dados_df.append({'CNPJ': cnpj, 'Sócio-Administrador': socio_administrador, 'Sócio': socio, 'email': email, 'telefone': telefone}, ignore_index=True)\n",
      "C:\\Users\\hirot\\AppData\\Local\\Temp\\ipykernel_29740\\4276536922.py:31: FutureWarning: The frame.append method is deprecated and will be removed from pandas in a future version. Use pandas.concat instead.\n",
      "  dados_df = dados_df.append({'CNPJ': cnpj, 'Sócio-Administrador': socio_administrador, 'Sócio': socio, 'email': email, 'telefone': telefone}, ignore_index=True)\n"
     ]
    },
    {
     "name": "stdout",
     "output_type": "stream",
     "text": [
      "não consta na receita\n",
      "não consta na receita\n",
      "\n",
      "(81) 3728-1238\n",
      "----------\n",
      "MARIA TERESA DENARDI COLOMBO CABRINI, MARCOS ANTONIO COLOMBO, MARCIO BENEDITO COLOMBO, MARIA ANGELA COLOMBO FELIPPE, MARIA DA GRACA COLOMBO FORMIGONI\n",
      "não consta na receita\n",
      "meire.parra@hotmail.com\n",
      "(17) 9739-8320\n",
      "----------\n"
     ]
    },
    {
     "name": "stderr",
     "output_type": "stream",
     "text": [
      "C:\\Users\\hirot\\AppData\\Local\\Temp\\ipykernel_29740\\4276536922.py:31: FutureWarning: The frame.append method is deprecated and will be removed from pandas in a future version. Use pandas.concat instead.\n",
      "  dados_df = dados_df.append({'CNPJ': cnpj, 'Sócio-Administrador': socio_administrador, 'Sócio': socio, 'email': email, 'telefone': telefone}, ignore_index=True)\n"
     ]
    },
    {
     "name": "stdout",
     "output_type": "stream",
     "text": [
      "LUIZA MATTOS BICALHO POWALOWSKI GOMES, LUCIANO ALFONS MONTEIRO POWALOWSKI\n",
      "LUCIANO DE MORAIS GOMES\n",
      "sbrenguer@live.com\n",
      "(81) 3542-1065\n",
      "----------\n"
     ]
    },
    {
     "name": "stderr",
     "output_type": "stream",
     "text": [
      "C:\\Users\\hirot\\AppData\\Local\\Temp\\ipykernel_29740\\4276536922.py:31: FutureWarning: The frame.append method is deprecated and will be removed from pandas in a future version. Use pandas.concat instead.\n",
      "  dados_df = dados_df.append({'CNPJ': cnpj, 'Sócio-Administrador': socio_administrador, 'Sócio': socio, 'email': email, 'telefone': telefone}, ignore_index=True)\n"
     ]
    },
    {
     "name": "stdout",
     "output_type": "stream",
     "text": [
      "RENAN WAGNER ANDRADA MELO\n",
      "não consta na receita\n",
      "lucrecontabil@hotmail.com\n",
      "(63) 3312-4398\n",
      "----------\n"
     ]
    },
    {
     "name": "stderr",
     "output_type": "stream",
     "text": [
      "C:\\Users\\hirot\\AppData\\Local\\Temp\\ipykernel_29740\\4276536922.py:31: FutureWarning: The frame.append method is deprecated and will be removed from pandas in a future version. Use pandas.concat instead.\n",
      "  dados_df = dados_df.append({'CNPJ': cnpj, 'Sócio-Administrador': socio_administrador, 'Sócio': socio, 'email': email, 'telefone': telefone}, ignore_index=True)\n"
     ]
    },
    {
     "name": "stdout",
     "output_type": "stream",
     "text": [
      "LEANDRO CASAGRANDE DAHM, EDUARDO CASAGRANDE DAHM\n",
      "não consta na receita\n",
      "\n",
      "(67) 9962-1014/ (67) 9962-1014\n",
      "----------\n"
     ]
    },
    {
     "name": "stderr",
     "output_type": "stream",
     "text": [
      "C:\\Users\\hirot\\AppData\\Local\\Temp\\ipykernel_29740\\4276536922.py:31: FutureWarning: The frame.append method is deprecated and will be removed from pandas in a future version. Use pandas.concat instead.\n",
      "  dados_df = dados_df.append({'CNPJ': cnpj, 'Sócio-Administrador': socio_administrador, 'Sócio': socio, 'email': email, 'telefone': telefone}, ignore_index=True)\n"
     ]
    },
    {
     "name": "stdout",
     "output_type": "stream",
     "text": [
      "não consta na receita\n",
      "não consta na receita\n",
      "postocampobelo@hotmial.com\n",
      "(84) 3274-4671\n",
      "----------\n"
     ]
    },
    {
     "name": "stderr",
     "output_type": "stream",
     "text": [
      "C:\\Users\\hirot\\AppData\\Local\\Temp\\ipykernel_29740\\4276536922.py:31: FutureWarning: The frame.append method is deprecated and will be removed from pandas in a future version. Use pandas.concat instead.\n",
      "  dados_df = dados_df.append({'CNPJ': cnpj, 'Sócio-Administrador': socio_administrador, 'Sócio': socio, 'email': email, 'telefone': telefone}, ignore_index=True)\n"
     ]
    },
    {
     "name": "stdout",
     "output_type": "stream",
     "text": [
      "MARIA HELENA PEREIRA\n",
      "não consta na receita\n",
      "\n",
      "(81) 3721-2057\n",
      "----------\n"
     ]
    },
    {
     "name": "stderr",
     "output_type": "stream",
     "text": [
      "C:\\Users\\hirot\\AppData\\Local\\Temp\\ipykernel_29740\\4276536922.py:31: FutureWarning: The frame.append method is deprecated and will be removed from pandas in a future version. Use pandas.concat instead.\n",
      "  dados_df = dados_df.append({'CNPJ': cnpj, 'Sócio-Administrador': socio_administrador, 'Sócio': socio, 'email': email, 'telefone': telefone}, ignore_index=True)\n"
     ]
    },
    {
     "name": "stdout",
     "output_type": "stream",
     "text": [
      "não consta na receita\n",
      "não consta na receita\n",
      "\n",
      "(99) 3661-1899\n",
      "----------\n"
     ]
    },
    {
     "name": "stderr",
     "output_type": "stream",
     "text": [
      "C:\\Users\\hirot\\AppData\\Local\\Temp\\ipykernel_29740\\4276536922.py:31: FutureWarning: The frame.append method is deprecated and will be removed from pandas in a future version. Use pandas.concat instead.\n",
      "  dados_df = dados_df.append({'CNPJ': cnpj, 'Sócio-Administrador': socio_administrador, 'Sócio': socio, 'email': email, 'telefone': telefone}, ignore_index=True)\n"
     ]
    },
    {
     "name": "stdout",
     "output_type": "stream",
     "text": [
      "MAURO SERGIO TEIXEIRA ALVES, RODRIGO ROCHA FERNANDES STUTZ\n",
      "não consta na receita\n",
      "\n",
      "(21) 2473-3366\n",
      "----------\n"
     ]
    },
    {
     "name": "stderr",
     "output_type": "stream",
     "text": [
      "C:\\Users\\hirot\\AppData\\Local\\Temp\\ipykernel_29740\\4276536922.py:31: FutureWarning: The frame.append method is deprecated and will be removed from pandas in a future version. Use pandas.concat instead.\n",
      "  dados_df = dados_df.append({'CNPJ': cnpj, 'Sócio-Administrador': socio_administrador, 'Sócio': socio, 'email': email, 'telefone': telefone}, ignore_index=True)\n"
     ]
    },
    {
     "name": "stdout",
     "output_type": "stream",
     "text": [
      "ANA JULIA DE CUNHA E ARAUJO\n",
      "não consta na receita\n",
      "alianca-contabil@hotmail.com\n",
      "(69) 3231-2494/ (69) 9219-6000\n",
      "----------\n"
     ]
    },
    {
     "name": "stderr",
     "output_type": "stream",
     "text": [
      "C:\\Users\\hirot\\AppData\\Local\\Temp\\ipykernel_29740\\4276536922.py:31: FutureWarning: The frame.append method is deprecated and will be removed from pandas in a future version. Use pandas.concat instead.\n",
      "  dados_df = dados_df.append({'CNPJ': cnpj, 'Sócio-Administrador': socio_administrador, 'Sócio': socio, 'email': email, 'telefone': telefone}, ignore_index=True)\n"
     ]
    },
    {
     "name": "stdout",
     "output_type": "stream",
     "text": [
      "ANTONIO EDER NUNES CHAVES\n",
      "VANIA MARIA NUNES CHAVES\n",
      "re-contabilidade@hotmai.com\n",
      "(85) 8529-6004\n",
      "----------\n"
     ]
    },
    {
     "name": "stderr",
     "output_type": "stream",
     "text": [
      "C:\\Users\\hirot\\AppData\\Local\\Temp\\ipykernel_29740\\4276536922.py:31: FutureWarning: The frame.append method is deprecated and will be removed from pandas in a future version. Use pandas.concat instead.\n",
      "  dados_df = dados_df.append({'CNPJ': cnpj, 'Sócio-Administrador': socio_administrador, 'Sócio': socio, 'email': email, 'telefone': telefone}, ignore_index=True)\n"
     ]
    },
    {
     "name": "stdout",
     "output_type": "stream",
     "text": [
      "GENIL MATA DA CRUZ, EUCINEY FERRARI\n",
      "não consta na receita\n",
      "simonecontabil@hotmail.com\n",
      "(33) 3271-9126\n",
      "----------\n"
     ]
    },
    {
     "name": "stderr",
     "output_type": "stream",
     "text": [
      "C:\\Users\\hirot\\AppData\\Local\\Temp\\ipykernel_29740\\4276536922.py:31: FutureWarning: The frame.append method is deprecated and will be removed from pandas in a future version. Use pandas.concat instead.\n",
      "  dados_df = dados_df.append({'CNPJ': cnpj, 'Sócio-Administrador': socio_administrador, 'Sócio': socio, 'email': email, 'telefone': telefone}, ignore_index=True)\n"
     ]
    },
    {
     "name": "stdout",
     "output_type": "stream",
     "text": [
      "ANA CLAUDIA BERGAMO BALDOCHI ALVARENGA, FERNANDO CHIAVENATO ALVARENGA\n",
      "não consta na receita\n",
      "emerson@redesaojudas.com.br\n",
      "(16) 3329-7852\n",
      "----------\n"
     ]
    },
    {
     "name": "stderr",
     "output_type": "stream",
     "text": [
      "C:\\Users\\hirot\\AppData\\Local\\Temp\\ipykernel_29740\\4276536922.py:31: FutureWarning: The frame.append method is deprecated and will be removed from pandas in a future version. Use pandas.concat instead.\n",
      "  dados_df = dados_df.append({'CNPJ': cnpj, 'Sócio-Administrador': socio_administrador, 'Sócio': socio, 'email': email, 'telefone': telefone}, ignore_index=True)\n"
     ]
    },
    {
     "name": "stdout",
     "output_type": "stream",
     "text": [
      "PATRICIA CHRISTINA DE OLIVEIRA BRANT, RICARDO SANTOS BRANT\n",
      "não consta na receita\n",
      "contecmg@uai.com.br\n",
      "(38) 3756-1232\n",
      "----------\n"
     ]
    },
    {
     "name": "stderr",
     "output_type": "stream",
     "text": [
      "C:\\Users\\hirot\\AppData\\Local\\Temp\\ipykernel_29740\\4276536922.py:31: FutureWarning: The frame.append method is deprecated and will be removed from pandas in a future version. Use pandas.concat instead.\n",
      "  dados_df = dados_df.append({'CNPJ': cnpj, 'Sócio-Administrador': socio_administrador, 'Sócio': socio, 'email': email, 'telefone': telefone}, ignore_index=True)\n"
     ]
    },
    {
     "name": "stdout",
     "output_type": "stream",
     "text": [
      "WELLINTON DEALCY BARBOSA SILVA\n",
      "não consta na receita\n",
      "contabilidadecarvalho@hotmail.com\n",
      "(77) 3457-2304/ (77) 9961-1889\n",
      "----------\n"
     ]
    },
    {
     "name": "stderr",
     "output_type": "stream",
     "text": [
      "C:\\Users\\hirot\\AppData\\Local\\Temp\\ipykernel_29740\\4276536922.py:31: FutureWarning: The frame.append method is deprecated and will be removed from pandas in a future version. Use pandas.concat instead.\n",
      "  dados_df = dados_df.append({'CNPJ': cnpj, 'Sócio-Administrador': socio_administrador, 'Sócio': socio, 'email': email, 'telefone': telefone}, ignore_index=True)\n"
     ]
    },
    {
     "name": "stdout",
     "output_type": "stream",
     "text": [
      "FERNANDO PEREIRA SILVA, DORIEDSON PEREIRA DA COSTA, SILVARIO PEREIRA SILVA, DARLAN PEREIRA SILVA\n",
      "não consta na receita\n",
      "posto3d.bsf@hotmail.com\n",
      "(27) 3756-2676\n",
      "----------\n"
     ]
    },
    {
     "name": "stderr",
     "output_type": "stream",
     "text": [
      "C:\\Users\\hirot\\AppData\\Local\\Temp\\ipykernel_29740\\4276536922.py:31: FutureWarning: The frame.append method is deprecated and will be removed from pandas in a future version. Use pandas.concat instead.\n",
      "  dados_df = dados_df.append({'CNPJ': cnpj, 'Sócio-Administrador': socio_administrador, 'Sócio': socio, 'email': email, 'telefone': telefone}, ignore_index=True)\n"
     ]
    },
    {
     "name": "stdout",
     "output_type": "stream",
     "text": [
      "ALBERTO SILVIO ARRUDA\n",
      "THAMIRES CALDAS ARRUDA DE ARAUJO COSTA\n",
      "helderonsantos@hotmail.com\n",
      "(91) 3271-4360\n",
      "----------\n"
     ]
    },
    {
     "name": "stderr",
     "output_type": "stream",
     "text": [
      "C:\\Users\\hirot\\AppData\\Local\\Temp\\ipykernel_29740\\4276536922.py:31: FutureWarning: The frame.append method is deprecated and will be removed from pandas in a future version. Use pandas.concat instead.\n",
      "  dados_df = dados_df.append({'CNPJ': cnpj, 'Sócio-Administrador': socio_administrador, 'Sócio': socio, 'email': email, 'telefone': telefone}, ignore_index=True)\n",
      "C:\\Users\\hirot\\AppData\\Local\\Temp\\ipykernel_29740\\4276536922.py:31: FutureWarning: The frame.append method is deprecated and will be removed from pandas in a future version. Use pandas.concat instead.\n",
      "  dados_df = dados_df.append({'CNPJ': cnpj, 'Sócio-Administrador': socio_administrador, 'Sócio': socio, 'email': email, 'telefone': telefone}, ignore_index=True)\n"
     ]
    },
    {
     "name": "stdout",
     "output_type": "stream",
     "text": [
      "ROGERIO ALBERTO CAPORALINI, MURILO VILHARVA ROBLER DA SILVA\n",
      "não consta na receita\n",
      "berticont@hotmail.com\n",
      "(17) 3233-2888/ (17) 3353-2892\n",
      "----------\n",
      "ODIRLEI DA SILVA NIGRA\n",
      "não consta na receita\n",
      "\n",
      "(43) 3266-1743\n",
      "----------\n"
     ]
    },
    {
     "name": "stderr",
     "output_type": "stream",
     "text": [
      "C:\\Users\\hirot\\AppData\\Local\\Temp\\ipykernel_29740\\4276536922.py:31: FutureWarning: The frame.append method is deprecated and will be removed from pandas in a future version. Use pandas.concat instead.\n",
      "  dados_df = dados_df.append({'CNPJ': cnpj, 'Sócio-Administrador': socio_administrador, 'Sócio': socio, 'email': email, 'telefone': telefone}, ignore_index=True)\n"
     ]
    },
    {
     "name": "stdout",
     "output_type": "stream",
     "text": [
      "AILTON DE OLIVEIRA NUNES, MOANE DIAS NUNES PIAUI\n",
      "MARIA DE LOURDES DIAS NUNES\n",
      "postotabuleiro_barra@hotmail.com\n",
      "(77) 3436-1043\n",
      "----------\n"
     ]
    },
    {
     "name": "stderr",
     "output_type": "stream",
     "text": [
      "C:\\Users\\hirot\\AppData\\Local\\Temp\\ipykernel_29740\\4276536922.py:31: FutureWarning: The frame.append method is deprecated and will be removed from pandas in a future version. Use pandas.concat instead.\n",
      "  dados_df = dados_df.append({'CNPJ': cnpj, 'Sócio-Administrador': socio_administrador, 'Sócio': socio, 'email': email, 'telefone': telefone}, ignore_index=True)\n",
      "C:\\Users\\hirot\\AppData\\Local\\Temp\\ipykernel_29740\\4276536922.py:31: FutureWarning: The frame.append method is deprecated and will be removed from pandas in a future version. Use pandas.concat instead.\n",
      "  dados_df = dados_df.append({'CNPJ': cnpj, 'Sócio-Administrador': socio_administrador, 'Sócio': socio, 'email': email, 'telefone': telefone}, ignore_index=True)\n"
     ]
    },
    {
     "name": "stdout",
     "output_type": "stream",
     "text": [
      "ANDERSON FRANCISCO CRISOLO, EDERSON REHDER\n",
      "não consta na receita\n",
      "esconlib@fasternet.com.br\n",
      "(15) 3284-2101/ (15) 3284-2566\n",
      "----------\n",
      "GLEDSON GALON, ANTONIO FERNANDO GALON, PABLO GALON\n",
      "não consta na receita\n",
      "contabilidade.rossi@gmail.com\n",
      "(27) 3729-1187/ (27) 9972-8665\n",
      "----------\n"
     ]
    },
    {
     "name": "stderr",
     "output_type": "stream",
     "text": [
      "C:\\Users\\hirot\\AppData\\Local\\Temp\\ipykernel_29740\\4276536922.py:31: FutureWarning: The frame.append method is deprecated and will be removed from pandas in a future version. Use pandas.concat instead.\n",
      "  dados_df = dados_df.append({'CNPJ': cnpj, 'Sócio-Administrador': socio_administrador, 'Sócio': socio, 'email': email, 'telefone': telefone}, ignore_index=True)\n"
     ]
    },
    {
     "name": "stdout",
     "output_type": "stream",
     "text": [
      "CAMILA MACHADO DE PAULA\n",
      "não consta na receita\n",
      "postofelipao@mgconecta.com.br\n",
      "(32) 3373-2344\n",
      "----------\n"
     ]
    },
    {
     "name": "stderr",
     "output_type": "stream",
     "text": [
      "C:\\Users\\hirot\\AppData\\Local\\Temp\\ipykernel_29740\\4276536922.py:31: FutureWarning: The frame.append method is deprecated and will be removed from pandas in a future version. Use pandas.concat instead.\n",
      "  dados_df = dados_df.append({'CNPJ': cnpj, 'Sócio-Administrador': socio_administrador, 'Sócio': socio, 'email': email, 'telefone': telefone}, ignore_index=True)\n"
     ]
    },
    {
     "name": "stdout",
     "output_type": "stream",
     "text": [
      "não consta na receita\n",
      "GUILHERME SAO PAULO SERVICOS ADMINISTRATIVOS LTDA, VITTATUS PARTICIPACOES S/A\n",
      "beta4@terra.com.br\n",
      "(11) 2213-7215/ (11) 2213-4361\n",
      "----------\n"
     ]
    },
    {
     "name": "stderr",
     "output_type": "stream",
     "text": [
      "C:\\Users\\hirot\\AppData\\Local\\Temp\\ipykernel_29740\\4276536922.py:31: FutureWarning: The frame.append method is deprecated and will be removed from pandas in a future version. Use pandas.concat instead.\n",
      "  dados_df = dados_df.append({'CNPJ': cnpj, 'Sócio-Administrador': socio_administrador, 'Sócio': socio, 'email': email, 'telefone': telefone}, ignore_index=True)\n",
      "C:\\Users\\hirot\\AppData\\Local\\Temp\\ipykernel_29740\\4276536922.py:31: FutureWarning: The frame.append method is deprecated and will be removed from pandas in a future version. Use pandas.concat instead.\n",
      "  dados_df = dados_df.append({'CNPJ': cnpj, 'Sócio-Administrador': socio_administrador, 'Sócio': socio, 'email': email, 'telefone': telefone}, ignore_index=True)\n"
     ]
    },
    {
     "name": "stdout",
     "output_type": "stream",
     "text": [
      "EDIVAL BENIGNO DO ROSARIO\n",
      "EN PARTICIPACOES LTDA.\n",
      "fiscal@mataripe.com.br\n",
      "(71) 2101-6699\n",
      "----------\n",
      "não consta na receita\n",
      "não consta na receita\n",
      "irineu.contabilidade@hotmail.com\n",
      "(77) 3448-2121/ (77) 3448-2021\n",
      "----------\n"
     ]
    },
    {
     "name": "stderr",
     "output_type": "stream",
     "text": [
      "C:\\Users\\hirot\\AppData\\Local\\Temp\\ipykernel_29740\\4276536922.py:31: FutureWarning: The frame.append method is deprecated and will be removed from pandas in a future version. Use pandas.concat instead.\n",
      "  dados_df = dados_df.append({'CNPJ': cnpj, 'Sócio-Administrador': socio_administrador, 'Sócio': socio, 'email': email, 'telefone': telefone}, ignore_index=True)\n",
      "C:\\Users\\hirot\\AppData\\Local\\Temp\\ipykernel_29740\\4276536922.py:31: FutureWarning: The frame.append method is deprecated and will be removed from pandas in a future version. Use pandas.concat instead.\n",
      "  dados_df = dados_df.append({'CNPJ': cnpj, 'Sócio-Administrador': socio_administrador, 'Sócio': socio, 'email': email, 'telefone': telefone}, ignore_index=True)\n"
     ]
    },
    {
     "name": "stdout",
     "output_type": "stream",
     "text": [
      "não consta na receita\n",
      "TABOCAO HOLDING LTDA\n",
      "\n",
      "(62) 3215-2144\n",
      "----------\n",
      "ELENA DE SOUZA DALAVECHIA, FERNANDA VIEL DALAVECHIA BARETTA\n",
      "não consta na receita\n",
      "postoparke@hotmail.com\n",
      "(49) 3555-5353\n",
      "----------\n"
     ]
    },
    {
     "name": "stderr",
     "output_type": "stream",
     "text": [
      "C:\\Users\\hirot\\AppData\\Local\\Temp\\ipykernel_29740\\4276536922.py:31: FutureWarning: The frame.append method is deprecated and will be removed from pandas in a future version. Use pandas.concat instead.\n",
      "  dados_df = dados_df.append({'CNPJ': cnpj, 'Sócio-Administrador': socio_administrador, 'Sócio': socio, 'email': email, 'telefone': telefone}, ignore_index=True)\n"
     ]
    },
    {
     "name": "stdout",
     "output_type": "stream",
     "text": [
      "ASTROGILDO RIBEIRO DA SILVA\n",
      "não consta na receita\n",
      "astrogildoadvogado@ibest.com.br\n",
      "(43) 3541-3463/ (43) 9154-2881\n",
      "----------\n"
     ]
    },
    {
     "name": "stderr",
     "output_type": "stream",
     "text": [
      "C:\\Users\\hirot\\AppData\\Local\\Temp\\ipykernel_29740\\4276536922.py:31: FutureWarning: The frame.append method is deprecated and will be removed from pandas in a future version. Use pandas.concat instead.\n",
      "  dados_df = dados_df.append({'CNPJ': cnpj, 'Sócio-Administrador': socio_administrador, 'Sócio': socio, 'email': email, 'telefone': telefone}, ignore_index=True)\n"
     ]
    },
    {
     "name": "stdout",
     "output_type": "stream",
     "text": [
      "não consta na receita\n",
      "DUTZZO PARTICIPACOES LTDA, RSP PARTICIPACOES LTDA\n",
      "contabilidade@dutzzo.com.br\n",
      "(62) 3414-7340 / (62) 3215-2144\n",
      "----------\n"
     ]
    },
    {
     "name": "stderr",
     "output_type": "stream",
     "text": [
      "C:\\Users\\hirot\\AppData\\Local\\Temp\\ipykernel_29740\\4276536922.py:31: FutureWarning: The frame.append method is deprecated and will be removed from pandas in a future version. Use pandas.concat instead.\n",
      "  dados_df = dados_df.append({'CNPJ': cnpj, 'Sócio-Administrador': socio_administrador, 'Sócio': socio, 'email': email, 'telefone': telefone}, ignore_index=True)\n"
     ]
    },
    {
     "name": "stdout",
     "output_type": "stream",
     "text": [
      "IVETE SOUZA BULHOES, GERALDO BULHOES DE SOUSA FILHO, PATRICIO SOUZA BULHOES\n",
      "GERALDO BULHOES DE SOUSA\n",
      "lidercon.t1@hotmail.com\n",
      "(75) 3634-1221\n",
      "----------\n"
     ]
    },
    {
     "name": "stderr",
     "output_type": "stream",
     "text": [
      "C:\\Users\\hirot\\AppData\\Local\\Temp\\ipykernel_29740\\4276536922.py:31: FutureWarning: The frame.append method is deprecated and will be removed from pandas in a future version. Use pandas.concat instead.\n",
      "  dados_df = dados_df.append({'CNPJ': cnpj, 'Sócio-Administrador': socio_administrador, 'Sócio': socio, 'email': email, 'telefone': telefone}, ignore_index=True)\n"
     ]
    },
    {
     "name": "stdout",
     "output_type": "stream",
     "text": [
      "ILMA LEAL DOS SANTOS\n",
      "não consta na receita\n",
      "rodrigogestao.inovar@gmail.com\n",
      "(75) 3024-4804/ (75) 9162-6414\n",
      "----------\n"
     ]
    },
    {
     "name": "stderr",
     "output_type": "stream",
     "text": [
      "C:\\Users\\hirot\\AppData\\Local\\Temp\\ipykernel_29740\\4276536922.py:31: FutureWarning: The frame.append method is deprecated and will be removed from pandas in a future version. Use pandas.concat instead.\n",
      "  dados_df = dados_df.append({'CNPJ': cnpj, 'Sócio-Administrador': socio_administrador, 'Sócio': socio, 'email': email, 'telefone': telefone}, ignore_index=True)\n"
     ]
    },
    {
     "name": "stdout",
     "output_type": "stream",
     "text": [
      "JULITA THIESEN\n",
      "não consta na receita\n",
      "\n",
      "(55) 3522-1282\n",
      "----------\n"
     ]
    },
    {
     "name": "stderr",
     "output_type": "stream",
     "text": [
      "C:\\Users\\hirot\\AppData\\Local\\Temp\\ipykernel_29740\\4276536922.py:31: FutureWarning: The frame.append method is deprecated and will be removed from pandas in a future version. Use pandas.concat instead.\n",
      "  dados_df = dados_df.append({'CNPJ': cnpj, 'Sócio-Administrador': socio_administrador, 'Sócio': socio, 'email': email, 'telefone': telefone}, ignore_index=True)\n",
      "C:\\Users\\hirot\\AppData\\Local\\Temp\\ipykernel_29740\\4276536922.py:31: FutureWarning: The frame.append method is deprecated and will be removed from pandas in a future version. Use pandas.concat instead.\n",
      "  dados_df = dados_df.append({'CNPJ': cnpj, 'Sócio-Administrador': socio_administrador, 'Sócio': socio, 'email': email, 'telefone': telefone}, ignore_index=True)\n"
     ]
    },
    {
     "name": "stdout",
     "output_type": "stream",
     "text": [
      "JOAQUIM EGIDIO DE ARRUDA, SEBASTIAO LEITE DE ARRUDA\n",
      "não consta na receita\n",
      "isabela@elosdeouro.com.br\n",
      "(11) 3901-8287\n",
      "----------\n",
      "JULIANA BENASSI SANTON, MARIA JOELLE MODOLO DE SOUZA DIAS\n",
      "não consta na receita\n",
      "thiagoplez@uol.com.br\n",
      "(19) 3656-0315\n",
      "----------\n"
     ]
    },
    {
     "name": "stderr",
     "output_type": "stream",
     "text": [
      "C:\\Users\\hirot\\AppData\\Local\\Temp\\ipykernel_29740\\4276536922.py:31: FutureWarning: The frame.append method is deprecated and will be removed from pandas in a future version. Use pandas.concat instead.\n",
      "  dados_df = dados_df.append({'CNPJ': cnpj, 'Sócio-Administrador': socio_administrador, 'Sócio': socio, 'email': email, 'telefone': telefone}, ignore_index=True)\n"
     ]
    },
    {
     "name": "stdout",
     "output_type": "stream",
     "text": [
      "LUCAS HENRIQUE MOYSES, MONICA CRISTINA CAETANO MOYSES\n",
      "não consta na receita\n",
      "monicacaetano@hotmail.com\n",
      "(18) 8149-8008\n",
      "----------\n"
     ]
    },
    {
     "name": "stderr",
     "output_type": "stream",
     "text": [
      "C:\\Users\\hirot\\AppData\\Local\\Temp\\ipykernel_29740\\4276536922.py:31: FutureWarning: The frame.append method is deprecated and will be removed from pandas in a future version. Use pandas.concat instead.\n",
      "  dados_df = dados_df.append({'CNPJ': cnpj, 'Sócio-Administrador': socio_administrador, 'Sócio': socio, 'email': email, 'telefone': telefone}, ignore_index=True)\n",
      "C:\\Users\\hirot\\AppData\\Local\\Temp\\ipykernel_29740\\4276536922.py:31: FutureWarning: The frame.append method is deprecated and will be removed from pandas in a future version. Use pandas.concat instead.\n",
      "  dados_df = dados_df.append({'CNPJ': cnpj, 'Sócio-Administrador': socio_administrador, 'Sócio': socio, 'email': email, 'telefone': telefone}, ignore_index=True)\n"
     ]
    },
    {
     "name": "stdout",
     "output_type": "stream",
     "text": [
      "FABIANNO ROGERIO ELPIDIO DE MEDEIROS\n",
      "não consta na receita\n",
      "postocentraljp@hotmail.com\n",
      "(84) 9631-9789\n",
      "----------\n",
      "FRANCISCO WILAMI MARQUES RAMALHO\n",
      "LEILA APARECIDA GONCALVES RAMALHO\n",
      "\n",
      "(61) 3234-4273\n",
      "----------\n"
     ]
    },
    {
     "name": "stderr",
     "output_type": "stream",
     "text": [
      "C:\\Users\\hirot\\AppData\\Local\\Temp\\ipykernel_29740\\4276536922.py:31: FutureWarning: The frame.append method is deprecated and will be removed from pandas in a future version. Use pandas.concat instead.\n",
      "  dados_df = dados_df.append({'CNPJ': cnpj, 'Sócio-Administrador': socio_administrador, 'Sócio': socio, 'email': email, 'telefone': telefone}, ignore_index=True)\n"
     ]
    },
    {
     "name": "stdout",
     "output_type": "stream",
     "text": [
      "GENIL MATA DA CRUZ, EDER GERALDO DE MATOS MARQUES\n",
      "não consta na receita\n",
      "simonecontabil@hotmail.com\n",
      "(33) 3271-9126/ (33) 3225-1804\n",
      "----------\n"
     ]
    },
    {
     "name": "stderr",
     "output_type": "stream",
     "text": [
      "C:\\Users\\hirot\\AppData\\Local\\Temp\\ipykernel_29740\\4276536922.py:31: FutureWarning: The frame.append method is deprecated and will be removed from pandas in a future version. Use pandas.concat instead.\n",
      "  dados_df = dados_df.append({'CNPJ': cnpj, 'Sócio-Administrador': socio_administrador, 'Sócio': socio, 'email': email, 'telefone': telefone}, ignore_index=True)\n",
      "C:\\Users\\hirot\\AppData\\Local\\Temp\\ipykernel_29740\\4276536922.py:31: FutureWarning: The frame.append method is deprecated and will be removed from pandas in a future version. Use pandas.concat instead.\n",
      "  dados_df = dados_df.append({'CNPJ': cnpj, 'Sócio-Administrador': socio_administrador, 'Sócio': socio, 'email': email, 'telefone': telefone}, ignore_index=True)\n"
     ]
    },
    {
     "name": "stdout",
     "output_type": "stream",
     "text": [
      "RENATO DOS SANTOS ALVES ALMEIDA JUNIOR\n",
      "RODRIGO NOGUEIRA ALMEIDA\n",
      "\n",
      "(98) 3664-6851\n",
      "----------\n",
      "FRANCISCA MORORO PASSOS MEDEIROS\n",
      "GEORGE MEDEIROS DE LIMA\n",
      "jrufinosilva@terra.com.br\n",
      "(85) 3217-1500\n",
      "----------\n"
     ]
    },
    {
     "name": "stderr",
     "output_type": "stream",
     "text": [
      "C:\\Users\\hirot\\AppData\\Local\\Temp\\ipykernel_29740\\4276536922.py:31: FutureWarning: The frame.append method is deprecated and will be removed from pandas in a future version. Use pandas.concat instead.\n",
      "  dados_df = dados_df.append({'CNPJ': cnpj, 'Sócio-Administrador': socio_administrador, 'Sócio': socio, 'email': email, 'telefone': telefone}, ignore_index=True)\n",
      "C:\\Users\\hirot\\AppData\\Local\\Temp\\ipykernel_29740\\4276536922.py:31: FutureWarning: The frame.append method is deprecated and will be removed from pandas in a future version. Use pandas.concat instead.\n",
      "  dados_df = dados_df.append({'CNPJ': cnpj, 'Sócio-Administrador': socio_administrador, 'Sócio': socio, 'email': email, 'telefone': telefone}, ignore_index=True)\n"
     ]
    },
    {
     "name": "stdout",
     "output_type": "stream",
     "text": [
      "VALTER DE SOUSA CAVALCANTE\n",
      "não consta na receita\n",
      "cavalcantepetroleo2015@hotmail.com\n",
      "(87) 3867-7000\n",
      "----------\n",
      "não consta na receita\n",
      "ITAMAR PAULO WISNIEWSKI, VIA PARTICIPACOES LTDA\n",
      "terranova@postosviaduto.com.br\n",
      "(48) 3093-5439\n",
      "----------\n"
     ]
    },
    {
     "name": "stderr",
     "output_type": "stream",
     "text": [
      "C:\\Users\\hirot\\AppData\\Local\\Temp\\ipykernel_29740\\4276536922.py:31: FutureWarning: The frame.append method is deprecated and will be removed from pandas in a future version. Use pandas.concat instead.\n",
      "  dados_df = dados_df.append({'CNPJ': cnpj, 'Sócio-Administrador': socio_administrador, 'Sócio': socio, 'email': email, 'telefone': telefone}, ignore_index=True)\n"
     ]
    },
    {
     "name": "stdout",
     "output_type": "stream",
     "text": [
      "MARCUS ALBERTO OLIVEIRA VIANA\n",
      "ALBERTO DE ABREU VIANA\n",
      "contable@hotmail.com.br\n",
      "\n",
      "----------\n"
     ]
    },
    {
     "name": "stderr",
     "output_type": "stream",
     "text": [
      "C:\\Users\\hirot\\AppData\\Local\\Temp\\ipykernel_29740\\4276536922.py:31: FutureWarning: The frame.append method is deprecated and will be removed from pandas in a future version. Use pandas.concat instead.\n",
      "  dados_df = dados_df.append({'CNPJ': cnpj, 'Sócio-Administrador': socio_administrador, 'Sócio': socio, 'email': email, 'telefone': telefone}, ignore_index=True)\n"
     ]
    },
    {
     "name": "stdout",
     "output_type": "stream",
     "text": [
      "RAFAEL FARIA DE ABREU\n",
      "não consta na receita\n",
      "\n",
      "(21) 2605-2091/ (21) 2605-2091\n",
      "----------\n"
     ]
    },
    {
     "name": "stderr",
     "output_type": "stream",
     "text": [
      "C:\\Users\\hirot\\AppData\\Local\\Temp\\ipykernel_29740\\4276536922.py:31: FutureWarning: The frame.append method is deprecated and will be removed from pandas in a future version. Use pandas.concat instead.\n",
      "  dados_df = dados_df.append({'CNPJ': cnpj, 'Sócio-Administrador': socio_administrador, 'Sócio': socio, 'email': email, 'telefone': telefone}, ignore_index=True)\n"
     ]
    },
    {
     "name": "stdout",
     "output_type": "stream",
     "text": [
      "MILTON MARTINS RODRIGUES\n",
      "SIMAO AFONSO RODRIGUES\n",
      "exacta2@brturbo.com.br\n",
      "(64) 8402-5210/ (64) 8402-5210\n",
      "----------\n"
     ]
    },
    {
     "name": "stderr",
     "output_type": "stream",
     "text": [
      "C:\\Users\\hirot\\AppData\\Local\\Temp\\ipykernel_29740\\4276536922.py:31: FutureWarning: The frame.append method is deprecated and will be removed from pandas in a future version. Use pandas.concat instead.\n",
      "  dados_df = dados_df.append({'CNPJ': cnpj, 'Sócio-Administrador': socio_administrador, 'Sócio': socio, 'email': email, 'telefone': telefone}, ignore_index=True)\n"
     ]
    },
    {
     "name": "stdout",
     "output_type": "stream",
     "text": [
      "não consta na receita\n",
      "não consta na receita\n",
      "\n",
      "(55) 3794-1350\n",
      "----------\n"
     ]
    },
    {
     "name": "stderr",
     "output_type": "stream",
     "text": [
      "C:\\Users\\hirot\\AppData\\Local\\Temp\\ipykernel_29740\\4276536922.py:31: FutureWarning: The frame.append method is deprecated and will be removed from pandas in a future version. Use pandas.concat instead.\n",
      "  dados_df = dados_df.append({'CNPJ': cnpj, 'Sócio-Administrador': socio_administrador, 'Sócio': socio, 'email': email, 'telefone': telefone}, ignore_index=True)\n",
      "C:\\Users\\hirot\\AppData\\Local\\Temp\\ipykernel_29740\\4276536922.py:31: FutureWarning: The frame.append method is deprecated and will be removed from pandas in a future version. Use pandas.concat instead.\n",
      "  dados_df = dados_df.append({'CNPJ': cnpj, 'Sócio-Administrador': socio_administrador, 'Sócio': socio, 'email': email, 'telefone': telefone}, ignore_index=True)\n"
     ]
    },
    {
     "name": "stdout",
     "output_type": "stream",
     "text": [
      "CLEYTON MARTINS DE VASCONCELOS, PEDRO MIGUEL ALEM ABRANTES\n",
      "não consta na receita\n",
      "zumbicombustiveis@gmail.com\n",
      "(38) 3212-5764\n",
      "----------\n",
      "MARIA DE FATIMA LAVIGNE SANTOS\n",
      "não consta na receita\n",
      "fiscal.fsa@orcoma.com.br\n",
      "(75) 3021-5950\n",
      "----------\n"
     ]
    },
    {
     "name": "stderr",
     "output_type": "stream",
     "text": [
      "C:\\Users\\hirot\\AppData\\Local\\Temp\\ipykernel_29740\\4276536922.py:31: FutureWarning: The frame.append method is deprecated and will be removed from pandas in a future version. Use pandas.concat instead.\n",
      "  dados_df = dados_df.append({'CNPJ': cnpj, 'Sócio-Administrador': socio_administrador, 'Sócio': socio, 'email': email, 'telefone': telefone}, ignore_index=True)\n"
     ]
    },
    {
     "name": "stdout",
     "output_type": "stream",
     "text": [
      "KERLY ELLIZ PRODOCIMO, RAQUEL PRODOCIMO\n",
      "não consta na receita\n",
      "adm@redemaua.com.br\n",
      "(41) 3663-0021\n",
      "----------\n"
     ]
    },
    {
     "name": "stderr",
     "output_type": "stream",
     "text": [
      "C:\\Users\\hirot\\AppData\\Local\\Temp\\ipykernel_29740\\4276536922.py:31: FutureWarning: The frame.append method is deprecated and will be removed from pandas in a future version. Use pandas.concat instead.\n",
      "  dados_df = dados_df.append({'CNPJ': cnpj, 'Sócio-Administrador': socio_administrador, 'Sócio': socio, 'email': email, 'telefone': telefone}, ignore_index=True)\n"
     ]
    },
    {
     "name": "stdout",
     "output_type": "stream",
     "text": [
      "LUIZ CARLOS NAVARRO ZAFALON\n",
      "ZAFALON - AUTO POSTO SEDE ALVORADA LTDA\n",
      "\n",
      "(42) 3229-1549\n",
      "----------\n"
     ]
    },
    {
     "name": "stderr",
     "output_type": "stream",
     "text": [
      "C:\\Users\\hirot\\AppData\\Local\\Temp\\ipykernel_29740\\4276536922.py:31: FutureWarning: The frame.append method is deprecated and will be removed from pandas in a future version. Use pandas.concat instead.\n",
      "  dados_df = dados_df.append({'CNPJ': cnpj, 'Sócio-Administrador': socio_administrador, 'Sócio': socio, 'email': email, 'telefone': telefone}, ignore_index=True)\n",
      "C:\\Users\\hirot\\AppData\\Local\\Temp\\ipykernel_29740\\4276536922.py:31: FutureWarning: The frame.append method is deprecated and will be removed from pandas in a future version. Use pandas.concat instead.\n",
      "  dados_df = dados_df.append({'CNPJ': cnpj, 'Sócio-Administrador': socio_administrador, 'Sócio': socio, 'email': email, 'telefone': telefone}, ignore_index=True)\n"
     ]
    },
    {
     "name": "stdout",
     "output_type": "stream",
     "text": [
      "CLEBER ANDRE LUFT\n",
      "ROBERTO LUIS FRITZEN, REGIS PAULO FRITZEN\n",
      "esajs@zipmail.com.br\n",
      "(51) 3639-1394\n",
      "----------\n",
      "REGIS PAULO FRITZEN\n",
      "ROBERTO LUIS FRITZEN\n",
      "esajs@zipmail.com.br\n",
      "(51) 3639-1394\n",
      "----------\n"
     ]
    },
    {
     "name": "stderr",
     "output_type": "stream",
     "text": [
      "C:\\Users\\hirot\\AppData\\Local\\Temp\\ipykernel_29740\\4276536922.py:31: FutureWarning: The frame.append method is deprecated and will be removed from pandas in a future version. Use pandas.concat instead.\n",
      "  dados_df = dados_df.append({'CNPJ': cnpj, 'Sócio-Administrador': socio_administrador, 'Sócio': socio, 'email': email, 'telefone': telefone}, ignore_index=True)\n"
     ]
    },
    {
     "name": "stdout",
     "output_type": "stream",
     "text": [
      "ELEANDRO DA SILVA, VERA RIOS DA SILVA\n",
      "não consta na receita\n",
      "financeiro@redeleleco.com.br\n",
      "(45) 3523-5628\n",
      "----------\n"
     ]
    },
    {
     "name": "stderr",
     "output_type": "stream",
     "text": [
      "C:\\Users\\hirot\\AppData\\Local\\Temp\\ipykernel_29740\\4276536922.py:31: FutureWarning: The frame.append method is deprecated and will be removed from pandas in a future version. Use pandas.concat instead.\n",
      "  dados_df = dados_df.append({'CNPJ': cnpj, 'Sócio-Administrador': socio_administrador, 'Sócio': socio, 'email': email, 'telefone': telefone}, ignore_index=True)\n"
     ]
    },
    {
     "name": "stdout",
     "output_type": "stream",
     "text": [
      "não consta na receita\n",
      "não consta na receita\n",
      "adm@redeleleco.com.br\n",
      "(45) 3524-2210\n",
      "----------\n"
     ]
    },
    {
     "name": "stderr",
     "output_type": "stream",
     "text": [
      "C:\\Users\\hirot\\AppData\\Local\\Temp\\ipykernel_29740\\4276536922.py:31: FutureWarning: The frame.append method is deprecated and will be removed from pandas in a future version. Use pandas.concat instead.\n",
      "  dados_df = dados_df.append({'CNPJ': cnpj, 'Sócio-Administrador': socio_administrador, 'Sócio': socio, 'email': email, 'telefone': telefone}, ignore_index=True)\n"
     ]
    },
    {
     "name": "stdout",
     "output_type": "stream",
     "text": [
      "ANDRE MAGRI GONCALES\n",
      "HELENA MARIA MAGRI GONCALES\n",
      "postobearted@gmail.com\n",
      "(44) 3676-4503\n",
      "----------\n"
     ]
    },
    {
     "name": "stderr",
     "output_type": "stream",
     "text": [
      "C:\\Users\\hirot\\AppData\\Local\\Temp\\ipykernel_29740\\4276536922.py:31: FutureWarning: The frame.append method is deprecated and will be removed from pandas in a future version. Use pandas.concat instead.\n",
      "  dados_df = dados_df.append({'CNPJ': cnpj, 'Sócio-Administrador': socio_administrador, 'Sócio': socio, 'email': email, 'telefone': telefone}, ignore_index=True)\n"
     ]
    },
    {
     "name": "stdout",
     "output_type": "stream",
     "text": [
      "CARLOS EDUARDO DE SOUZA\n",
      "BENVINDA DE LURDES DE SOUSA ALVES\n",
      "\n",
      "(66) 3569-1365\n",
      "----------\n"
     ]
    },
    {
     "name": "stderr",
     "output_type": "stream",
     "text": [
      "C:\\Users\\hirot\\AppData\\Local\\Temp\\ipykernel_29740\\4276536922.py:31: FutureWarning: The frame.append method is deprecated and will be removed from pandas in a future version. Use pandas.concat instead.\n",
      "  dados_df = dados_df.append({'CNPJ': cnpj, 'Sócio-Administrador': socio_administrador, 'Sócio': socio, 'email': email, 'telefone': telefone}, ignore_index=True)\n",
      "C:\\Users\\hirot\\AppData\\Local\\Temp\\ipykernel_29740\\4276536922.py:31: FutureWarning: The frame.append method is deprecated and will be removed from pandas in a future version. Use pandas.concat instead.\n",
      "  dados_df = dados_df.append({'CNPJ': cnpj, 'Sócio-Administrador': socio_administrador, 'Sócio': socio, 'email': email, 'telefone': telefone}, ignore_index=True)\n"
     ]
    },
    {
     "name": "stdout",
     "output_type": "stream",
     "text": [
      "HYGOR FABIANO GONCALVES MENDES\n",
      "não consta na receita\n",
      "idealposto@hotmail.com\n",
      "(38) 3231-9119\n",
      "----------\n",
      "EMERSON LIMA OLIVEIRA, HELOISA MARIA BELO\n",
      "não consta na receita\n",
      "jrlima@viareal.com.br\n",
      "(31) 3751-2275\n",
      "----------\n"
     ]
    },
    {
     "name": "stderr",
     "output_type": "stream",
     "text": [
      "C:\\Users\\hirot\\AppData\\Local\\Temp\\ipykernel_29740\\4276536922.py:31: FutureWarning: The frame.append method is deprecated and will be removed from pandas in a future version. Use pandas.concat instead.\n",
      "  dados_df = dados_df.append({'CNPJ': cnpj, 'Sócio-Administrador': socio_administrador, 'Sócio': socio, 'email': email, 'telefone': telefone}, ignore_index=True)\n"
     ]
    },
    {
     "name": "stdout",
     "output_type": "stream",
     "text": [
      "RAYMUNDO CATARINO DA SILVA\n",
      "CAMILLA RIBEIRO DA SILVA, CAROLINE RIBEIRO DA SILVA\n",
      "rtmocont@gmail.com\n",
      "(75) 3021-3030\n",
      "----------\n"
     ]
    },
    {
     "name": "stderr",
     "output_type": "stream",
     "text": [
      "C:\\Users\\hirot\\AppData\\Local\\Temp\\ipykernel_29740\\4276536922.py:31: FutureWarning: The frame.append method is deprecated and will be removed from pandas in a future version. Use pandas.concat instead.\n",
      "  dados_df = dados_df.append({'CNPJ': cnpj, 'Sócio-Administrador': socio_administrador, 'Sócio': socio, 'email': email, 'telefone': telefone}, ignore_index=True)\n"
     ]
    },
    {
     "name": "stdout",
     "output_type": "stream",
     "text": [
      "NATERCIA AMARAL CAMPOS MARQUES\n",
      "NADELIA AMARAL CAMPOS, JOSE DIAS CAMPOS, NATELIA CAMPOS ARAUJO, NATALIA AMARAL CAMPOS\n",
      "\n",
      "(37) 3755-1564\n",
      "----------\n"
     ]
    },
    {
     "name": "stderr",
     "output_type": "stream",
     "text": [
      "C:\\Users\\hirot\\AppData\\Local\\Temp\\ipykernel_29740\\4276536922.py:31: FutureWarning: The frame.append method is deprecated and will be removed from pandas in a future version. Use pandas.concat instead.\n",
      "  dados_df = dados_df.append({'CNPJ': cnpj, 'Sócio-Administrador': socio_administrador, 'Sócio': socio, 'email': email, 'telefone': telefone}, ignore_index=True)\n"
     ]
    },
    {
     "name": "stdout",
     "output_type": "stream",
     "text": [
      "HELVECIO JOAO DE MAGALHAES\n",
      "GERALDO ALVES DE AZEVEDO, JOSE ALVES DE AZEVEDO, ODETE COTA DE MAGALHAES\n",
      "\n",
      "\n",
      "----------\n"
     ]
    }
   ],
   "source": [
    "import requests\n",
    "import json\n",
    "import pandas as pd\n",
    "\n",
    "def consultar_cnpj(cnpj):\n",
    "    url = \"https://www.receitaws.com.br/v1/cnpj/{}\".format(cnpj)\n",
    "    response = requests.get(url)\n",
    "    if response.status_code == 200:  # A API retornou um resultado\n",
    "        data = response.json()\n",
    "        return data\n",
    "    else:\n",
    "        return None\n",
    "\n",
    "df = pd.read_csv(r'C:\\Users\\hirot\\Downloads\\Dados_raio - Dados_raio (2).csv')\n",
    "\n",
    "# Corrigindo o formato do CNPJ\n",
    "df['CNPJ'] = df['CNPJ'].str.replace(r'\\D', '', regex=True)\n",
    "\n",
    "# Inicializando um novo DataFrame\n",
    "dados_df = pd.DataFrame(columns=['CNPJ', 'Sócio-Administrador', 'Sócio', 'email', 'telefone'])\n",
    "\n",
    "# Iterando sobre os CNPJs e consultando a API\n",
    "for cnpj in df['CNPJ']:\n",
    "    dados = consultar_cnpj(cnpj)\n",
    "    if dados is not None:\n",
    "        qsa = dados.get('qsa', [])\n",
    "        socio_administrador = ', '.join([pessoa['nome'] for pessoa in qsa if pessoa['qual'] == '49-Sócio-Administrador']) or 'não consta na receita'\n",
    "        socio = ', '.join([pessoa['nome'] for pessoa in qsa if pessoa['qual'] == '22-Sócio']) or 'não consta na receita'\n",
    "        email = dados.get('email', 'não consta na receita')\n",
    "        telefone = dados.get('telefone', 'não consta na receita')\n",
    "        dados_df = dados_df.append({'CNPJ': cnpj, 'Sócio-Administrador': socio_administrador, 'Sócio': socio, 'email': email, 'telefone': telefone}, ignore_index=True)\n",
    "        print(socio_administrador)\n",
    "        print(socio)\n",
    "        print(email)\n",
    "        print(telefone)\n",
    "        print(\"----------\")\n",
    "        \n",
    "print(dados_df)\n"
   ]
  },
  {
   "cell_type": "code",
   "execution_count": null,
   "id": "133ecaa3",
   "metadata": {},
   "outputs": [],
   "source": []
  }
 ],
 "metadata": {
  "kernelspec": {
   "display_name": "Python 3 (ipykernel)",
   "language": "python",
   "name": "python3"
  },
  "language_info": {
   "codemirror_mode": {
    "name": "ipython",
    "version": 3
   },
   "file_extension": ".py",
   "mimetype": "text/x-python",
   "name": "python",
   "nbconvert_exporter": "python",
   "pygments_lexer": "ipython3",
   "version": "3.9.13"
  }
 },
 "nbformat": 4,
 "nbformat_minor": 5
}
